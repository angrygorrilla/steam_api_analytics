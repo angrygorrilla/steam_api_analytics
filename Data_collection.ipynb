{
 "cells": [
  {
   "cell_type": "code",
   "execution_count": 13,
   "metadata": {},
   "outputs": [
    {
     "name": "stdout",
     "output_type": "stream",
     "text": [
      "The autoreload extension is already loaded. To reload it, use:\n",
      "  %reload_ext autoreload\n"
     ]
    }
   ],
   "source": [
    "%load_ext autoreload\n",
    "%autoreload 2"
   ]
  },
  {
   "cell_type": "code",
   "execution_count": 14,
   "metadata": {},
   "outputs": [],
   "source": [
    "import pandas as pd\n",
    "import plotly.express as px\n",
    "import helpers\n"
   ]
  },
  {
   "cell_type": "code",
   "execution_count": 15,
   "metadata": {},
   "outputs": [],
   "source": [
    "#https://developer.valvesoftware.com/wiki/Steam_Web_API#GetPlayerSummaries_.28v0001.29\n",
    "\n",
    "\n",
    "interface='ISteamUser'\n",
    "format='json'\n",
    "method='GetPlayerSummaries'\n",
    "secrets=helpers.get_secrets()\n",
    "\n",
    "api_key=secrets.get('steam_key')\n",
    "user_id=secrets.get('user_id')\n",
    "\n",
    "if api_key==None:\n",
    "    print(\"no api key, can't move forward\")\n",
    "if user_id==None:\n",
    "    print(\"no user id, can't do user based analysis\")\n",
    "\n",
    "\n",
    "url=f'http://api.steampowered.com/{interface}/{method}/v<version>/?key=<api key>&format=<format>'\n",
    "\n",
    "\n"
   ]
  },
  {
   "cell_type": "code",
   "execution_count": 16,
   "metadata": {},
   "outputs": [],
   "source": [
    "test_url=f'http://api.steampowered.com/ISteamUser/GetPlayerSummaries/v0002/?key={api_key}'"
   ]
  },
  {
   "cell_type": "code",
   "execution_count": 17,
   "metadata": {},
   "outputs": [
    {
     "name": "stdout",
     "output_type": "stream",
     "text": [
      "Successfully fetched the data\n"
     ]
    }
   ],
   "source": [
    "paramters={'steamids':user_id\n",
    "}\n",
    "\n",
    "response=helpers.get_data(test_url,paramters)"
   ]
  },
  {
   "cell_type": "markdown",
   "metadata": {},
   "source": [
    "GetGlobalAchievementPercentagesForApp (v0002)\n",
    "Returns on global achievements overview of a specific game in percentages.\n",
    "\n",
    "Example: http://api.steampowered.com/ISteamUserStats/GetGlobalAchievementPercentagesForApp/v0002/?gameid=440&format=xml"
   ]
  },
  {
   "cell_type": "code",
   "execution_count": 18,
   "metadata": {},
   "outputs": [],
   "source": [
    "#this is gotten using these steps:\n",
    "#1. go to steam library\n",
    "#2. right click on the game\n",
    "#3. Select 'create a shortcut'\n",
    "#4. Right click on shortcut\n",
    "#5. select properties\n",
    "#6. text agter run_gameid/ is the correct text: \n",
    "#steam://rungameid/646570\n",
    "\n",
    "slay_the_spire_game_id='646570'"
   ]
  },
  {
   "cell_type": "code",
   "execution_count": 19,
   "metadata": {},
   "outputs": [
    {
     "name": "stdout",
     "output_type": "stream",
     "text": [
      "Successfully fetched the data\n"
     ]
    }
   ],
   "source": [
    "get_acheives=f'http://api.steampowered.com/ISteamUserStats/GetGlobalAchievementPercentagesForApp/v0002/?gameid={slay_the_spire_game_id}&format={format}'\n",
    "data=helpers.get_data(get_acheives)"
   ]
  },
  {
   "cell_type": "code",
   "execution_count": 20,
   "metadata": {},
   "outputs": [
    {
     "name": "stdout",
     "output_type": "stream",
     "text": [
      "achievementpercentages\n"
     ]
    }
   ],
   "source": [
    "for item in data:\n",
    "    print (item)"
   ]
  },
  {
   "cell_type": "code",
   "execution_count": null,
   "metadata": {},
   "outputs": [],
   "source": []
  },
  {
   "cell_type": "code",
   "execution_count": 21,
   "metadata": {},
   "outputs": [
    {
     "name": "stdout",
     "output_type": "stream",
     "text": [
      "achievements\n"
     ]
    }
   ],
   "source": [
    "for item in data['achievementpercentages']:\n",
    "    print (item)"
   ]
  },
  {
   "cell_type": "code",
   "execution_count": 22,
   "metadata": {},
   "outputs": [
    {
     "name": "stdout",
     "output_type": "stream",
     "text": [
      "{'name': 'GUARDIAN', 'percent': 89}\n",
      "{'name': 'GHOST_GUARDIAN', 'percent': 86.19999694824219}\n",
      "{'name': 'SLIME_BOSS', 'percent': 83.5999984741211}\n",
      "{'name': 'CHAMP', 'percent': 76.5}\n",
      "{'name': 'AUTOMATON', 'percent': 72.19999694824219}\n",
      "{'name': 'ASCEND_0', 'percent': 71.80000305175781}\n",
      "{'name': 'COLLECTOR', 'percent': 70.69999694824219}\n",
      "{'name': 'THE_PACT', 'percent': 66.80000305175781}\n",
      "{'name': 'ADRENALINE', 'percent': 66.0999984741211}\n",
      "{'name': 'SHRUG_IT_OFF', 'percent': 65.0999984741211}\n",
      "{'name': 'RUBY', 'percent': 62.400001525878906}\n",
      "{'name': 'PERFECT', 'percent': 62.20000076293945}\n",
      "{'name': 'SHAPES', 'percent': 61.29999923706055}\n",
      "{'name': 'PLAGUE', 'percent': 60.599998474121094}\n",
      "{'name': 'CROW', 'percent': 60.20000076293945}\n",
      "{'name': 'COME_AT_ME', 'percent': 59.099998474121094}\n",
      "{'name': 'EMERALD', 'percent': 56.400001525878906}\n",
      "{'name': 'TIME_EATER', 'percent': 55.599998474121094}\n",
      "{'name': 'SAPPHIRE', 'percent': 49.20000076293945}\n",
      "{'name': 'IMPERVIOUS', 'percent': 42.29999923706055}\n",
      "{'name': 'CATALYST', 'percent': 39}\n",
      "{'name': 'POWERFUL', 'percent': 37.29999923706055}\n",
      "{'name': 'LUCKY_DAY', 'percent': 30.299999237060547}\n",
      "{'name': 'NINJA', 'percent': 29}\n",
      "{'name': 'AMETHYST', 'percent': 27.399999618530273}\n",
      "{'name': 'JAXXED', 'percent': 27.100000381469727}\n",
      "{'name': 'INFINITY', 'percent': 24.100000381469727}\n",
      "{'name': 'PURITY', 'percent': 21.5}\n",
      "{'name': 'RUBY_PLUS', 'percent': 18}\n",
      "{'name': 'EMERALD_PLUS', 'percent': 17.799999237060547}\n",
      "{'name': 'SAPPHIRE_PLUS', 'percent': 15.300000190734863}\n",
      "{'name': 'ASCEND_10', 'percent': 15}\n",
      "{'name': 'TRANSIENT', 'percent': 14.600000381469727}\n",
      "{'name': 'BARRICADED', 'percent': 13.800000190734863}\n",
      "{'name': 'YOU_ARE_NOTHING', 'percent': 13}\n",
      "{'name': 'AMETHYST_PLUS', 'percent': 12.800000190734863}\n",
      "{'name': 'THE_ENDING', 'percent': 12.600000381469727}\n",
      "{'name': 'DONUT', 'percent': 8.5}\n",
      "{'name': 'SPEED_CLIMBER', 'percent': 7}\n",
      "{'name': 'ASCEND_20', 'percent': 6.800000190734863}\n",
      "{'name': 'NEON', 'percent': 5.900000095367432}\n",
      "{'name': 'FOCUSED', 'percent': 5.300000190734863}\n",
      "{'name': 'MINIMALIST', 'percent': 4.5}\n",
      "{'name': 'COMMON_SENSE', 'percent': 4.099999904632568}\n",
      "{'name': 'ONE_RELIC', 'percent': 3.5999999046325684}\n",
      "{'name': 'ETERNAL_ONE', 'percent': 2.4000000953674316}\n"
     ]
    }
   ],
   "source": [
    "for item in data['achievementpercentages']['achievements']:\n",
    "    print(item)"
   ]
  },
  {
   "cell_type": "code",
   "execution_count": 30,
   "metadata": {},
   "outputs": [],
   "source": [
    "percentages=[i['percent'] for i in data['achievementpercentages']['achievements']]\n",
    "names=[i['name'] for i in data['achievementpercentages']['achievements']]"
   ]
  },
  {
   "cell_type": "code",
   "execution_count": 31,
   "metadata": {},
   "outputs": [],
   "source": [
    "acheivement_frame=pd.DataFrame({'Name':names,'Completion Percent':percentages})"
   ]
  },
  {
   "cell_type": "code",
   "execution_count": 33,
   "metadata": {},
   "outputs": [
    {
     "data": {
      "application/vnd.plotly.v1+json": {
       "config": {
        "plotlyServerURL": "https://plot.ly"
       },
       "data": [
        {
         "alignmentgroup": "True",
         "bingroup": "x",
         "hovertemplate": "Completion Percent=%{x}<br>count=%{y}<extra></extra>",
         "legendgroup": "",
         "marker": {
          "color": "#636efa",
          "pattern": {
           "shape": ""
          }
         },
         "name": "",
         "nbinsx": 40,
         "offsetgroup": "",
         "orientation": "v",
         "showlegend": false,
         "type": "histogram",
         "x": [
          89,
          86.19999694824219,
          83.5999984741211,
          76.5,
          72.19999694824219,
          71.80000305175781,
          70.69999694824219,
          66.80000305175781,
          66.0999984741211,
          65.0999984741211,
          62.400001525878906,
          62.20000076293945,
          61.29999923706055,
          60.599998474121094,
          60.20000076293945,
          59.099998474121094,
          56.400001525878906,
          55.599998474121094,
          49.20000076293945,
          42.29999923706055,
          39,
          37.29999923706055,
          30.299999237060547,
          29,
          27.399999618530273,
          27.100000381469727,
          24.100000381469727,
          21.5,
          18,
          17.799999237060547,
          15.300000190734863,
          15,
          14.600000381469727,
          13.800000190734863,
          13,
          12.800000190734863,
          12.600000381469727,
          8.5,
          7,
          6.800000190734863,
          5.900000095367432,
          5.300000190734863,
          4.5,
          4.099999904632568,
          3.5999999046325684,
          2.4000000953674316
         ],
         "xaxis": "x",
         "yaxis": "y"
        },
        {
         "alignmentgroup": "True",
         "boxpoints": "all",
         "fillcolor": "rgba(255,255,255,0)",
         "hoveron": "points",
         "hovertemplate": "<b>%{hovertext}</b><br><br>Completion Percent=%{x}<extra></extra>",
         "hovertext": [
          "GUARDIAN",
          "GHOST_GUARDIAN",
          "SLIME_BOSS",
          "CHAMP",
          "AUTOMATON",
          "ASCEND_0",
          "COLLECTOR",
          "THE_PACT",
          "ADRENALINE",
          "SHRUG_IT_OFF",
          "RUBY",
          "PERFECT",
          "SHAPES",
          "PLAGUE",
          "CROW",
          "COME_AT_ME",
          "EMERALD",
          "TIME_EATER",
          "SAPPHIRE",
          "IMPERVIOUS",
          "CATALYST",
          "POWERFUL",
          "LUCKY_DAY",
          "NINJA",
          "AMETHYST",
          "JAXXED",
          "INFINITY",
          "PURITY",
          "RUBY_PLUS",
          "EMERALD_PLUS",
          "SAPPHIRE_PLUS",
          "ASCEND_10",
          "TRANSIENT",
          "BARRICADED",
          "YOU_ARE_NOTHING",
          "AMETHYST_PLUS",
          "THE_ENDING",
          "DONUT",
          "SPEED_CLIMBER",
          "ASCEND_20",
          "NEON",
          "FOCUSED",
          "MINIMALIST",
          "COMMON_SENSE",
          "ONE_RELIC",
          "ETERNAL_ONE"
         ],
         "jitter": 0,
         "legendgroup": "",
         "line": {
          "color": "rgba(255,255,255,0)"
         },
         "marker": {
          "color": "#636efa",
          "symbol": "line-ns-open"
         },
         "name": "",
         "offsetgroup": "",
         "showlegend": false,
         "type": "box",
         "x": [
          89,
          86.19999694824219,
          83.5999984741211,
          76.5,
          72.19999694824219,
          71.80000305175781,
          70.69999694824219,
          66.80000305175781,
          66.0999984741211,
          65.0999984741211,
          62.400001525878906,
          62.20000076293945,
          61.29999923706055,
          60.599998474121094,
          60.20000076293945,
          59.099998474121094,
          56.400001525878906,
          55.599998474121094,
          49.20000076293945,
          42.29999923706055,
          39,
          37.29999923706055,
          30.299999237060547,
          29,
          27.399999618530273,
          27.100000381469727,
          24.100000381469727,
          21.5,
          18,
          17.799999237060547,
          15.300000190734863,
          15,
          14.600000381469727,
          13.800000190734863,
          13,
          12.800000190734863,
          12.600000381469727,
          8.5,
          7,
          6.800000190734863,
          5.900000095367432,
          5.300000190734863,
          4.5,
          4.099999904632568,
          3.5999999046325684,
          2.4000000953674316
         ],
         "xaxis": "x2",
         "yaxis": "y2"
        }
       ],
       "layout": {
        "barmode": "relative",
        "legend": {
         "tracegroupgap": 0
        },
        "template": {
         "data": {
          "bar": [
           {
            "error_x": {
             "color": "#2a3f5f"
            },
            "error_y": {
             "color": "#2a3f5f"
            },
            "marker": {
             "line": {
              "color": "#E5ECF6",
              "width": 0.5
             },
             "pattern": {
              "fillmode": "overlay",
              "size": 10,
              "solidity": 0.2
             }
            },
            "type": "bar"
           }
          ],
          "barpolar": [
           {
            "marker": {
             "line": {
              "color": "#E5ECF6",
              "width": 0.5
             },
             "pattern": {
              "fillmode": "overlay",
              "size": 10,
              "solidity": 0.2
             }
            },
            "type": "barpolar"
           }
          ],
          "carpet": [
           {
            "aaxis": {
             "endlinecolor": "#2a3f5f",
             "gridcolor": "white",
             "linecolor": "white",
             "minorgridcolor": "white",
             "startlinecolor": "#2a3f5f"
            },
            "baxis": {
             "endlinecolor": "#2a3f5f",
             "gridcolor": "white",
             "linecolor": "white",
             "minorgridcolor": "white",
             "startlinecolor": "#2a3f5f"
            },
            "type": "carpet"
           }
          ],
          "choropleth": [
           {
            "colorbar": {
             "outlinewidth": 0,
             "ticks": ""
            },
            "type": "choropleth"
           }
          ],
          "contour": [
           {
            "colorbar": {
             "outlinewidth": 0,
             "ticks": ""
            },
            "colorscale": [
             [
              0,
              "#0d0887"
             ],
             [
              0.1111111111111111,
              "#46039f"
             ],
             [
              0.2222222222222222,
              "#7201a8"
             ],
             [
              0.3333333333333333,
              "#9c179e"
             ],
             [
              0.4444444444444444,
              "#bd3786"
             ],
             [
              0.5555555555555556,
              "#d8576b"
             ],
             [
              0.6666666666666666,
              "#ed7953"
             ],
             [
              0.7777777777777778,
              "#fb9f3a"
             ],
             [
              0.8888888888888888,
              "#fdca26"
             ],
             [
              1,
              "#f0f921"
             ]
            ],
            "type": "contour"
           }
          ],
          "contourcarpet": [
           {
            "colorbar": {
             "outlinewidth": 0,
             "ticks": ""
            },
            "type": "contourcarpet"
           }
          ],
          "heatmap": [
           {
            "colorbar": {
             "outlinewidth": 0,
             "ticks": ""
            },
            "colorscale": [
             [
              0,
              "#0d0887"
             ],
             [
              0.1111111111111111,
              "#46039f"
             ],
             [
              0.2222222222222222,
              "#7201a8"
             ],
             [
              0.3333333333333333,
              "#9c179e"
             ],
             [
              0.4444444444444444,
              "#bd3786"
             ],
             [
              0.5555555555555556,
              "#d8576b"
             ],
             [
              0.6666666666666666,
              "#ed7953"
             ],
             [
              0.7777777777777778,
              "#fb9f3a"
             ],
             [
              0.8888888888888888,
              "#fdca26"
             ],
             [
              1,
              "#f0f921"
             ]
            ],
            "type": "heatmap"
           }
          ],
          "heatmapgl": [
           {
            "colorbar": {
             "outlinewidth": 0,
             "ticks": ""
            },
            "colorscale": [
             [
              0,
              "#0d0887"
             ],
             [
              0.1111111111111111,
              "#46039f"
             ],
             [
              0.2222222222222222,
              "#7201a8"
             ],
             [
              0.3333333333333333,
              "#9c179e"
             ],
             [
              0.4444444444444444,
              "#bd3786"
             ],
             [
              0.5555555555555556,
              "#d8576b"
             ],
             [
              0.6666666666666666,
              "#ed7953"
             ],
             [
              0.7777777777777778,
              "#fb9f3a"
             ],
             [
              0.8888888888888888,
              "#fdca26"
             ],
             [
              1,
              "#f0f921"
             ]
            ],
            "type": "heatmapgl"
           }
          ],
          "histogram": [
           {
            "marker": {
             "pattern": {
              "fillmode": "overlay",
              "size": 10,
              "solidity": 0.2
             }
            },
            "type": "histogram"
           }
          ],
          "histogram2d": [
           {
            "colorbar": {
             "outlinewidth": 0,
             "ticks": ""
            },
            "colorscale": [
             [
              0,
              "#0d0887"
             ],
             [
              0.1111111111111111,
              "#46039f"
             ],
             [
              0.2222222222222222,
              "#7201a8"
             ],
             [
              0.3333333333333333,
              "#9c179e"
             ],
             [
              0.4444444444444444,
              "#bd3786"
             ],
             [
              0.5555555555555556,
              "#d8576b"
             ],
             [
              0.6666666666666666,
              "#ed7953"
             ],
             [
              0.7777777777777778,
              "#fb9f3a"
             ],
             [
              0.8888888888888888,
              "#fdca26"
             ],
             [
              1,
              "#f0f921"
             ]
            ],
            "type": "histogram2d"
           }
          ],
          "histogram2dcontour": [
           {
            "colorbar": {
             "outlinewidth": 0,
             "ticks": ""
            },
            "colorscale": [
             [
              0,
              "#0d0887"
             ],
             [
              0.1111111111111111,
              "#46039f"
             ],
             [
              0.2222222222222222,
              "#7201a8"
             ],
             [
              0.3333333333333333,
              "#9c179e"
             ],
             [
              0.4444444444444444,
              "#bd3786"
             ],
             [
              0.5555555555555556,
              "#d8576b"
             ],
             [
              0.6666666666666666,
              "#ed7953"
             ],
             [
              0.7777777777777778,
              "#fb9f3a"
             ],
             [
              0.8888888888888888,
              "#fdca26"
             ],
             [
              1,
              "#f0f921"
             ]
            ],
            "type": "histogram2dcontour"
           }
          ],
          "mesh3d": [
           {
            "colorbar": {
             "outlinewidth": 0,
             "ticks": ""
            },
            "type": "mesh3d"
           }
          ],
          "parcoords": [
           {
            "line": {
             "colorbar": {
              "outlinewidth": 0,
              "ticks": ""
             }
            },
            "type": "parcoords"
           }
          ],
          "pie": [
           {
            "automargin": true,
            "type": "pie"
           }
          ],
          "scatter": [
           {
            "fillpattern": {
             "fillmode": "overlay",
             "size": 10,
             "solidity": 0.2
            },
            "type": "scatter"
           }
          ],
          "scatter3d": [
           {
            "line": {
             "colorbar": {
              "outlinewidth": 0,
              "ticks": ""
             }
            },
            "marker": {
             "colorbar": {
              "outlinewidth": 0,
              "ticks": ""
             }
            },
            "type": "scatter3d"
           }
          ],
          "scattercarpet": [
           {
            "marker": {
             "colorbar": {
              "outlinewidth": 0,
              "ticks": ""
             }
            },
            "type": "scattercarpet"
           }
          ],
          "scattergeo": [
           {
            "marker": {
             "colorbar": {
              "outlinewidth": 0,
              "ticks": ""
             }
            },
            "type": "scattergeo"
           }
          ],
          "scattergl": [
           {
            "marker": {
             "colorbar": {
              "outlinewidth": 0,
              "ticks": ""
             }
            },
            "type": "scattergl"
           }
          ],
          "scattermapbox": [
           {
            "marker": {
             "colorbar": {
              "outlinewidth": 0,
              "ticks": ""
             }
            },
            "type": "scattermapbox"
           }
          ],
          "scatterpolar": [
           {
            "marker": {
             "colorbar": {
              "outlinewidth": 0,
              "ticks": ""
             }
            },
            "type": "scatterpolar"
           }
          ],
          "scatterpolargl": [
           {
            "marker": {
             "colorbar": {
              "outlinewidth": 0,
              "ticks": ""
             }
            },
            "type": "scatterpolargl"
           }
          ],
          "scatterternary": [
           {
            "marker": {
             "colorbar": {
              "outlinewidth": 0,
              "ticks": ""
             }
            },
            "type": "scatterternary"
           }
          ],
          "surface": [
           {
            "colorbar": {
             "outlinewidth": 0,
             "ticks": ""
            },
            "colorscale": [
             [
              0,
              "#0d0887"
             ],
             [
              0.1111111111111111,
              "#46039f"
             ],
             [
              0.2222222222222222,
              "#7201a8"
             ],
             [
              0.3333333333333333,
              "#9c179e"
             ],
             [
              0.4444444444444444,
              "#bd3786"
             ],
             [
              0.5555555555555556,
              "#d8576b"
             ],
             [
              0.6666666666666666,
              "#ed7953"
             ],
             [
              0.7777777777777778,
              "#fb9f3a"
             ],
             [
              0.8888888888888888,
              "#fdca26"
             ],
             [
              1,
              "#f0f921"
             ]
            ],
            "type": "surface"
           }
          ],
          "table": [
           {
            "cells": {
             "fill": {
              "color": "#EBF0F8"
             },
             "line": {
              "color": "white"
             }
            },
            "header": {
             "fill": {
              "color": "#C8D4E3"
             },
             "line": {
              "color": "white"
             }
            },
            "type": "table"
           }
          ]
         },
         "layout": {
          "annotationdefaults": {
           "arrowcolor": "#2a3f5f",
           "arrowhead": 0,
           "arrowwidth": 1
          },
          "autotypenumbers": "strict",
          "coloraxis": {
           "colorbar": {
            "outlinewidth": 0,
            "ticks": ""
           }
          },
          "colorscale": {
           "diverging": [
            [
             0,
             "#8e0152"
            ],
            [
             0.1,
             "#c51b7d"
            ],
            [
             0.2,
             "#de77ae"
            ],
            [
             0.3,
             "#f1b6da"
            ],
            [
             0.4,
             "#fde0ef"
            ],
            [
             0.5,
             "#f7f7f7"
            ],
            [
             0.6,
             "#e6f5d0"
            ],
            [
             0.7,
             "#b8e186"
            ],
            [
             0.8,
             "#7fbc41"
            ],
            [
             0.9,
             "#4d9221"
            ],
            [
             1,
             "#276419"
            ]
           ],
           "sequential": [
            [
             0,
             "#0d0887"
            ],
            [
             0.1111111111111111,
             "#46039f"
            ],
            [
             0.2222222222222222,
             "#7201a8"
            ],
            [
             0.3333333333333333,
             "#9c179e"
            ],
            [
             0.4444444444444444,
             "#bd3786"
            ],
            [
             0.5555555555555556,
             "#d8576b"
            ],
            [
             0.6666666666666666,
             "#ed7953"
            ],
            [
             0.7777777777777778,
             "#fb9f3a"
            ],
            [
             0.8888888888888888,
             "#fdca26"
            ],
            [
             1,
             "#f0f921"
            ]
           ],
           "sequentialminus": [
            [
             0,
             "#0d0887"
            ],
            [
             0.1111111111111111,
             "#46039f"
            ],
            [
             0.2222222222222222,
             "#7201a8"
            ],
            [
             0.3333333333333333,
             "#9c179e"
            ],
            [
             0.4444444444444444,
             "#bd3786"
            ],
            [
             0.5555555555555556,
             "#d8576b"
            ],
            [
             0.6666666666666666,
             "#ed7953"
            ],
            [
             0.7777777777777778,
             "#fb9f3a"
            ],
            [
             0.8888888888888888,
             "#fdca26"
            ],
            [
             1,
             "#f0f921"
            ]
           ]
          },
          "colorway": [
           "#636efa",
           "#EF553B",
           "#00cc96",
           "#ab63fa",
           "#FFA15A",
           "#19d3f3",
           "#FF6692",
           "#B6E880",
           "#FF97FF",
           "#FECB52"
          ],
          "font": {
           "color": "#2a3f5f"
          },
          "geo": {
           "bgcolor": "white",
           "lakecolor": "white",
           "landcolor": "#E5ECF6",
           "showlakes": true,
           "showland": true,
           "subunitcolor": "white"
          },
          "hoverlabel": {
           "align": "left"
          },
          "hovermode": "closest",
          "mapbox": {
           "style": "light"
          },
          "paper_bgcolor": "white",
          "plot_bgcolor": "#E5ECF6",
          "polar": {
           "angularaxis": {
            "gridcolor": "white",
            "linecolor": "white",
            "ticks": ""
           },
           "bgcolor": "#E5ECF6",
           "radialaxis": {
            "gridcolor": "white",
            "linecolor": "white",
            "ticks": ""
           }
          },
          "scene": {
           "xaxis": {
            "backgroundcolor": "#E5ECF6",
            "gridcolor": "white",
            "gridwidth": 2,
            "linecolor": "white",
            "showbackground": true,
            "ticks": "",
            "zerolinecolor": "white"
           },
           "yaxis": {
            "backgroundcolor": "#E5ECF6",
            "gridcolor": "white",
            "gridwidth": 2,
            "linecolor": "white",
            "showbackground": true,
            "ticks": "",
            "zerolinecolor": "white"
           },
           "zaxis": {
            "backgroundcolor": "#E5ECF6",
            "gridcolor": "white",
            "gridwidth": 2,
            "linecolor": "white",
            "showbackground": true,
            "ticks": "",
            "zerolinecolor": "white"
           }
          },
          "shapedefaults": {
           "line": {
            "color": "#2a3f5f"
           }
          },
          "ternary": {
           "aaxis": {
            "gridcolor": "white",
            "linecolor": "white",
            "ticks": ""
           },
           "baxis": {
            "gridcolor": "white",
            "linecolor": "white",
            "ticks": ""
           },
           "bgcolor": "#E5ECF6",
           "caxis": {
            "gridcolor": "white",
            "linecolor": "white",
            "ticks": ""
           }
          },
          "title": {
           "x": 0.05
          },
          "xaxis": {
           "automargin": true,
           "gridcolor": "white",
           "linecolor": "white",
           "ticks": "",
           "title": {
            "standoff": 15
           },
           "zerolinecolor": "white",
           "zerolinewidth": 2
          },
          "yaxis": {
           "automargin": true,
           "gridcolor": "white",
           "linecolor": "white",
           "ticks": "",
           "title": {
            "standoff": 15
           },
           "zerolinecolor": "white",
           "zerolinewidth": 2
          }
         }
        },
        "title": {
         "text": "Slay The Spire Acheivement Completion Percent"
        },
        "xaxis": {
         "anchor": "y",
         "domain": [
          0,
          1
         ],
         "title": {
          "text": "Completion Percent"
         }
        },
        "xaxis2": {
         "anchor": "y2",
         "domain": [
          0,
          1
         ],
         "matches": "x",
         "showgrid": true,
         "showticklabels": false
        },
        "yaxis": {
         "anchor": "x",
         "domain": [
          0,
          0.8316
         ],
         "title": {
          "text": "count"
         }
        },
        "yaxis2": {
         "anchor": "x2",
         "domain": [
          0.8416,
          1
         ],
         "matches": "y2",
         "showgrid": false,
         "showline": false,
         "showticklabels": false,
         "ticks": ""
        }
       }
      }
     },
     "metadata": {},
     "output_type": "display_data"
    }
   ],
   "source": [
    "px.histogram(acheivement_frame,x='Completion Percent',nbins=40,marginal='rug',hover_name='Name',title='Slay The Spire Acheivement Completion Percent',)"
   ]
  },
  {
   "cell_type": "code",
   "execution_count": null,
   "metadata": {},
   "outputs": [],
   "source": []
  },
  {
   "cell_type": "markdown",
   "metadata": {},
   "source": [
    "GetUserStatsForGame (v0002)\n",
    "Returns a list of achievements for this user by app id\n",
    "\n",
    "Example URL: http://api.steampowered.com/ISteamUserStats/GetUserStatsForGame/v0002/?appid=440&key=XXXXXXXXXXXXXXXXXXXXXXXXXXXXXXXX&steamid=76561197972495328\n",
    "\n",
    "Arguments\n",
    "steamid\n",
    "64 bit Steam ID to return friend list for.\n",
    "appid\n",
    "The ID for the game you're requesting\n",
    "l (Optional)\n",
    "Language. If specified, it will return language data for the requested language.\n"
   ]
  }
 ],
 "metadata": {
  "kernelspec": {
   "display_name": "Python 3",
   "language": "python",
   "name": "python3"
  },
  "language_info": {
   "codemirror_mode": {
    "name": "ipython",
    "version": 3
   },
   "file_extension": ".py",
   "mimetype": "text/x-python",
   "name": "python",
   "nbconvert_exporter": "python",
   "pygments_lexer": "ipython3",
   "version": "3.10.8"
  }
 },
 "nbformat": 4,
 "nbformat_minor": 2
}
