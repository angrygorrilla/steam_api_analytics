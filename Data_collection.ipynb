{
 "cells": [
  {
   "cell_type": "code",
   "execution_count": 35,
   "metadata": {},
   "outputs": [
    {
     "name": "stdout",
     "output_type": "stream",
     "text": [
      "The autoreload extension is already loaded. To reload it, use:\n",
      "  %reload_ext autoreload\n"
     ]
    }
   ],
   "source": [
    "%load_ext autoreload\n",
    "%autoreload 2"
   ]
  },
  {
   "cell_type": "code",
   "execution_count": 210,
   "metadata": {},
   "outputs": [],
   "source": [
    "import pandas as pd\n",
    "import plotly.express as px\n",
    "import helpers\n",
    "import json\n",
    "from plotly.subplots import make_subplots\n",
    "import plotly.graph_objects as go\n",
    "import pickle\n"
   ]
  },
  {
   "cell_type": "code",
   "execution_count": 37,
   "metadata": {},
   "outputs": [],
   "source": [
    "#https://developer.valvesoftware.com/wiki/Steam_Web_API#GetPlayerSummaries_.28v0001.29\n",
    "\n",
    "\n",
    "interface='ISteamUser'\n",
    "format='json'\n",
    "method='GetPlayerSummaries'\n",
    "secrets=helpers.get_secrets()\n",
    "\n",
    "api_key=secrets.get('steam_key')\n",
    "user_id=secrets.get('user_id')\n",
    "\n",
    "if api_key==None:\n",
    "    print(\"no api key, can't move forward\")\n",
    "if user_id==None:\n",
    "    print(\"no user id, can't do user based analysis\")\n",
    "\n",
    "\n",
    "url=f'http://api.steampowered.com/{interface}/{method}/v<version>/?key=<api key>&format=<format>'\n",
    "\n",
    "\n"
   ]
  },
  {
   "cell_type": "code",
   "execution_count": 38,
   "metadata": {},
   "outputs": [],
   "source": [
    "test_url=f'http://api.steampowered.com/ISteamUser/GetPlayerSummaries/v0002/?key={api_key}'"
   ]
  },
  {
   "cell_type": "code",
   "execution_count": 39,
   "metadata": {},
   "outputs": [
    {
     "name": "stdout",
     "output_type": "stream",
     "text": [
      "Successfully fetched the data\n"
     ]
    }
   ],
   "source": [
    "paramters={'steamids':user_id\n",
    "}\n",
    "\n",
    "response=helpers.get_data(test_url,paramters)"
   ]
  },
  {
   "cell_type": "markdown",
   "metadata": {},
   "source": [
    "GetGlobalAchievementPercentagesForApp (v0002)\n",
    "Returns on global achievements overview of a specific game in percentages.\n",
    "\n",
    "Example: http://api.steampowered.com/ISteamUserStats/GetGlobalAchievementPercentagesForApp/v0002/?gameid=440&format=xml"
   ]
  },
  {
   "cell_type": "code",
   "execution_count": 40,
   "metadata": {},
   "outputs": [],
   "source": [
    "#this is gotten using these steps:\n",
    "#1. go to steam library\n",
    "#2. right click on the game\n",
    "#3. Select 'create a shortcut'\n",
    "#4. Right click on shortcut\n",
    "#5. select properties\n",
    "#6. text agter run_gameid/ is the correct text: \n",
    "#steam://rungameid/646570\n",
    "\n",
    "slay_the_spire_game_id='646570'"
   ]
  },
  {
   "cell_type": "code",
   "execution_count": 41,
   "metadata": {},
   "outputs": [
    {
     "name": "stdout",
     "output_type": "stream",
     "text": [
      "Successfully fetched the data\n"
     ]
    }
   ],
   "source": [
    "get_acheives=f'http://api.steampowered.com/ISteamUserStats/GetGlobalAchievementPercentagesForApp/v0002/?gameid={slay_the_spire_game_id}&format={format}'\n",
    "data=helpers.get_data(get_acheives)"
   ]
  },
  {
   "cell_type": "code",
   "execution_count": 42,
   "metadata": {},
   "outputs": [
    {
     "name": "stdout",
     "output_type": "stream",
     "text": [
      "achievementpercentages\n"
     ]
    }
   ],
   "source": [
    "for item in data:\n",
    "    print (item)"
   ]
  },
  {
   "cell_type": "code",
   "execution_count": null,
   "metadata": {},
   "outputs": [],
   "source": []
  },
  {
   "cell_type": "code",
   "execution_count": 43,
   "metadata": {},
   "outputs": [
    {
     "name": "stdout",
     "output_type": "stream",
     "text": [
      "achievements\n"
     ]
    }
   ],
   "source": [
    "for item in data['achievementpercentages']:\n",
    "    print (item)"
   ]
  },
  {
   "cell_type": "code",
   "execution_count": 44,
   "metadata": {},
   "outputs": [
    {
     "name": "stdout",
     "output_type": "stream",
     "text": [
      "{'name': 'GUARDIAN', 'percent': 89}\n",
      "{'name': 'GHOST_GUARDIAN', 'percent': 86.19999694824219}\n",
      "{'name': 'SLIME_BOSS', 'percent': 83.5999984741211}\n",
      "{'name': 'CHAMP', 'percent': 76.5}\n",
      "{'name': 'AUTOMATON', 'percent': 72.19999694824219}\n",
      "{'name': 'ASCEND_0', 'percent': 71.80000305175781}\n",
      "{'name': 'COLLECTOR', 'percent': 70.69999694824219}\n",
      "{'name': 'THE_PACT', 'percent': 66.80000305175781}\n",
      "{'name': 'ADRENALINE', 'percent': 66.0999984741211}\n",
      "{'name': 'SHRUG_IT_OFF', 'percent': 65.0999984741211}\n",
      "{'name': 'RUBY', 'percent': 62.400001525878906}\n",
      "{'name': 'PERFECT', 'percent': 62.20000076293945}\n",
      "{'name': 'SHAPES', 'percent': 61.29999923706055}\n",
      "{'name': 'PLAGUE', 'percent': 60.599998474121094}\n",
      "{'name': 'CROW', 'percent': 60.20000076293945}\n",
      "{'name': 'COME_AT_ME', 'percent': 59.099998474121094}\n",
      "{'name': 'EMERALD', 'percent': 56.400001525878906}\n",
      "{'name': 'TIME_EATER', 'percent': 55.599998474121094}\n",
      "{'name': 'SAPPHIRE', 'percent': 49.20000076293945}\n",
      "{'name': 'IMPERVIOUS', 'percent': 42.29999923706055}\n",
      "{'name': 'CATALYST', 'percent': 39}\n",
      "{'name': 'POWERFUL', 'percent': 37.29999923706055}\n",
      "{'name': 'LUCKY_DAY', 'percent': 30.299999237060547}\n",
      "{'name': 'NINJA', 'percent': 29}\n",
      "{'name': 'AMETHYST', 'percent': 27.399999618530273}\n",
      "{'name': 'JAXXED', 'percent': 27.100000381469727}\n",
      "{'name': 'INFINITY', 'percent': 24.100000381469727}\n",
      "{'name': 'PURITY', 'percent': 21.5}\n",
      "{'name': 'RUBY_PLUS', 'percent': 18}\n",
      "{'name': 'EMERALD_PLUS', 'percent': 17.799999237060547}\n",
      "{'name': 'SAPPHIRE_PLUS', 'percent': 15.300000190734863}\n",
      "{'name': 'ASCEND_10', 'percent': 15}\n",
      "{'name': 'TRANSIENT', 'percent': 14.600000381469727}\n",
      "{'name': 'BARRICADED', 'percent': 13.800000190734863}\n",
      "{'name': 'YOU_ARE_NOTHING', 'percent': 13}\n",
      "{'name': 'AMETHYST_PLUS', 'percent': 12.800000190734863}\n",
      "{'name': 'THE_ENDING', 'percent': 12.600000381469727}\n",
      "{'name': 'DONUT', 'percent': 8.5}\n",
      "{'name': 'SPEED_CLIMBER', 'percent': 7}\n",
      "{'name': 'ASCEND_20', 'percent': 6.800000190734863}\n",
      "{'name': 'NEON', 'percent': 5.900000095367432}\n",
      "{'name': 'FOCUSED', 'percent': 5.300000190734863}\n",
      "{'name': 'MINIMALIST', 'percent': 4.5}\n",
      "{'name': 'COMMON_SENSE', 'percent': 4.099999904632568}\n",
      "{'name': 'ONE_RELIC', 'percent': 3.5999999046325684}\n",
      "{'name': 'ETERNAL_ONE', 'percent': 2.4000000953674316}\n"
     ]
    }
   ],
   "source": [
    "for item in data['achievementpercentages']['achievements']:\n",
    "    print(item)"
   ]
  },
  {
   "cell_type": "code",
   "execution_count": 45,
   "metadata": {},
   "outputs": [],
   "source": [
    "percentages=[i['percent'] for i in data['achievementpercentages']['achievements']]\n",
    "names=[i['name'] for i in data['achievementpercentages']['achievements']]"
   ]
  },
  {
   "cell_type": "code",
   "execution_count": 46,
   "metadata": {},
   "outputs": [],
   "source": [
    "acheivement_frame=pd.DataFrame({'Name':names,'Completion Percent':percentages})"
   ]
  },
  {
   "cell_type": "code",
   "execution_count": 204,
   "metadata": {},
   "outputs": [
    {
     "data": {
      "text/html": [
       "<div>\n",
       "<style scoped>\n",
       "    .dataframe tbody tr th:only-of-type {\n",
       "        vertical-align: middle;\n",
       "    }\n",
       "\n",
       "    .dataframe tbody tr th {\n",
       "        vertical-align: top;\n",
       "    }\n",
       "\n",
       "    .dataframe thead th {\n",
       "        text-align: right;\n",
       "    }\n",
       "</style>\n",
       "<table border=\"1\" class=\"dataframe\">\n",
       "  <thead>\n",
       "    <tr style=\"text-align: right;\">\n",
       "      <th></th>\n",
       "      <th>Name</th>\n",
       "      <th>Completion Percent</th>\n",
       "    </tr>\n",
       "  </thead>\n",
       "  <tbody>\n",
       "    <tr>\n",
       "      <th>0</th>\n",
       "      <td>GUARDIAN</td>\n",
       "      <td>89.000000</td>\n",
       "    </tr>\n",
       "    <tr>\n",
       "      <th>1</th>\n",
       "      <td>GHOST_GUARDIAN</td>\n",
       "      <td>86.199997</td>\n",
       "    </tr>\n",
       "    <tr>\n",
       "      <th>2</th>\n",
       "      <td>SLIME_BOSS</td>\n",
       "      <td>83.599998</td>\n",
       "    </tr>\n",
       "    <tr>\n",
       "      <th>3</th>\n",
       "      <td>CHAMP</td>\n",
       "      <td>76.500000</td>\n",
       "    </tr>\n",
       "    <tr>\n",
       "      <th>4</th>\n",
       "      <td>AUTOMATON</td>\n",
       "      <td>72.199997</td>\n",
       "    </tr>\n",
       "    <tr>\n",
       "      <th>5</th>\n",
       "      <td>ASCEND_0</td>\n",
       "      <td>71.800003</td>\n",
       "    </tr>\n",
       "    <tr>\n",
       "      <th>6</th>\n",
       "      <td>COLLECTOR</td>\n",
       "      <td>70.699997</td>\n",
       "    </tr>\n",
       "    <tr>\n",
       "      <th>7</th>\n",
       "      <td>THE_PACT</td>\n",
       "      <td>66.800003</td>\n",
       "    </tr>\n",
       "    <tr>\n",
       "      <th>8</th>\n",
       "      <td>ADRENALINE</td>\n",
       "      <td>66.099998</td>\n",
       "    </tr>\n",
       "    <tr>\n",
       "      <th>9</th>\n",
       "      <td>SHRUG_IT_OFF</td>\n",
       "      <td>65.099998</td>\n",
       "    </tr>\n",
       "    <tr>\n",
       "      <th>10</th>\n",
       "      <td>RUBY</td>\n",
       "      <td>62.400002</td>\n",
       "    </tr>\n",
       "    <tr>\n",
       "      <th>11</th>\n",
       "      <td>PERFECT</td>\n",
       "      <td>62.200001</td>\n",
       "    </tr>\n",
       "    <tr>\n",
       "      <th>12</th>\n",
       "      <td>SHAPES</td>\n",
       "      <td>61.299999</td>\n",
       "    </tr>\n",
       "    <tr>\n",
       "      <th>13</th>\n",
       "      <td>PLAGUE</td>\n",
       "      <td>60.599998</td>\n",
       "    </tr>\n",
       "    <tr>\n",
       "      <th>14</th>\n",
       "      <td>CROW</td>\n",
       "      <td>60.200001</td>\n",
       "    </tr>\n",
       "    <tr>\n",
       "      <th>15</th>\n",
       "      <td>COME_AT_ME</td>\n",
       "      <td>59.099998</td>\n",
       "    </tr>\n",
       "    <tr>\n",
       "      <th>16</th>\n",
       "      <td>EMERALD</td>\n",
       "      <td>56.400002</td>\n",
       "    </tr>\n",
       "    <tr>\n",
       "      <th>17</th>\n",
       "      <td>TIME_EATER</td>\n",
       "      <td>55.599998</td>\n",
       "    </tr>\n",
       "    <tr>\n",
       "      <th>18</th>\n",
       "      <td>SAPPHIRE</td>\n",
       "      <td>49.200001</td>\n",
       "    </tr>\n",
       "    <tr>\n",
       "      <th>19</th>\n",
       "      <td>IMPERVIOUS</td>\n",
       "      <td>42.299999</td>\n",
       "    </tr>\n",
       "    <tr>\n",
       "      <th>20</th>\n",
       "      <td>CATALYST</td>\n",
       "      <td>39.000000</td>\n",
       "    </tr>\n",
       "    <tr>\n",
       "      <th>21</th>\n",
       "      <td>POWERFUL</td>\n",
       "      <td>37.299999</td>\n",
       "    </tr>\n",
       "    <tr>\n",
       "      <th>22</th>\n",
       "      <td>LUCKY_DAY</td>\n",
       "      <td>30.299999</td>\n",
       "    </tr>\n",
       "    <tr>\n",
       "      <th>23</th>\n",
       "      <td>NINJA</td>\n",
       "      <td>29.000000</td>\n",
       "    </tr>\n",
       "    <tr>\n",
       "      <th>24</th>\n",
       "      <td>AMETHYST</td>\n",
       "      <td>27.400000</td>\n",
       "    </tr>\n",
       "    <tr>\n",
       "      <th>25</th>\n",
       "      <td>JAXXED</td>\n",
       "      <td>27.100000</td>\n",
       "    </tr>\n",
       "    <tr>\n",
       "      <th>26</th>\n",
       "      <td>INFINITY</td>\n",
       "      <td>24.100000</td>\n",
       "    </tr>\n",
       "    <tr>\n",
       "      <th>27</th>\n",
       "      <td>PURITY</td>\n",
       "      <td>21.500000</td>\n",
       "    </tr>\n",
       "    <tr>\n",
       "      <th>28</th>\n",
       "      <td>RUBY_PLUS</td>\n",
       "      <td>18.000000</td>\n",
       "    </tr>\n",
       "    <tr>\n",
       "      <th>29</th>\n",
       "      <td>EMERALD_PLUS</td>\n",
       "      <td>17.799999</td>\n",
       "    </tr>\n",
       "    <tr>\n",
       "      <th>30</th>\n",
       "      <td>SAPPHIRE_PLUS</td>\n",
       "      <td>15.300000</td>\n",
       "    </tr>\n",
       "    <tr>\n",
       "      <th>31</th>\n",
       "      <td>ASCEND_10</td>\n",
       "      <td>15.000000</td>\n",
       "    </tr>\n",
       "    <tr>\n",
       "      <th>32</th>\n",
       "      <td>TRANSIENT</td>\n",
       "      <td>14.600000</td>\n",
       "    </tr>\n",
       "    <tr>\n",
       "      <th>33</th>\n",
       "      <td>BARRICADED</td>\n",
       "      <td>13.800000</td>\n",
       "    </tr>\n",
       "    <tr>\n",
       "      <th>34</th>\n",
       "      <td>YOU_ARE_NOTHING</td>\n",
       "      <td>13.000000</td>\n",
       "    </tr>\n",
       "    <tr>\n",
       "      <th>35</th>\n",
       "      <td>AMETHYST_PLUS</td>\n",
       "      <td>12.800000</td>\n",
       "    </tr>\n",
       "    <tr>\n",
       "      <th>36</th>\n",
       "      <td>THE_ENDING</td>\n",
       "      <td>12.600000</td>\n",
       "    </tr>\n",
       "    <tr>\n",
       "      <th>37</th>\n",
       "      <td>DONUT</td>\n",
       "      <td>8.500000</td>\n",
       "    </tr>\n",
       "    <tr>\n",
       "      <th>38</th>\n",
       "      <td>SPEED_CLIMBER</td>\n",
       "      <td>7.000000</td>\n",
       "    </tr>\n",
       "    <tr>\n",
       "      <th>39</th>\n",
       "      <td>ASCEND_20</td>\n",
       "      <td>6.800000</td>\n",
       "    </tr>\n",
       "    <tr>\n",
       "      <th>40</th>\n",
       "      <td>NEON</td>\n",
       "      <td>5.900000</td>\n",
       "    </tr>\n",
       "    <tr>\n",
       "      <th>41</th>\n",
       "      <td>FOCUSED</td>\n",
       "      <td>5.300000</td>\n",
       "    </tr>\n",
       "    <tr>\n",
       "      <th>42</th>\n",
       "      <td>MINIMALIST</td>\n",
       "      <td>4.500000</td>\n",
       "    </tr>\n",
       "    <tr>\n",
       "      <th>43</th>\n",
       "      <td>COMMON_SENSE</td>\n",
       "      <td>4.100000</td>\n",
       "    </tr>\n",
       "    <tr>\n",
       "      <th>44</th>\n",
       "      <td>ONE_RELIC</td>\n",
       "      <td>3.600000</td>\n",
       "    </tr>\n",
       "    <tr>\n",
       "      <th>45</th>\n",
       "      <td>ETERNAL_ONE</td>\n",
       "      <td>2.400000</td>\n",
       "    </tr>\n",
       "  </tbody>\n",
       "</table>\n",
       "</div>"
      ],
      "text/plain": [
       "               Name  Completion Percent\n",
       "0          GUARDIAN           89.000000\n",
       "1    GHOST_GUARDIAN           86.199997\n",
       "2        SLIME_BOSS           83.599998\n",
       "3             CHAMP           76.500000\n",
       "4         AUTOMATON           72.199997\n",
       "5          ASCEND_0           71.800003\n",
       "6         COLLECTOR           70.699997\n",
       "7          THE_PACT           66.800003\n",
       "8        ADRENALINE           66.099998\n",
       "9      SHRUG_IT_OFF           65.099998\n",
       "10             RUBY           62.400002\n",
       "11          PERFECT           62.200001\n",
       "12           SHAPES           61.299999\n",
       "13           PLAGUE           60.599998\n",
       "14             CROW           60.200001\n",
       "15       COME_AT_ME           59.099998\n",
       "16          EMERALD           56.400002\n",
       "17       TIME_EATER           55.599998\n",
       "18         SAPPHIRE           49.200001\n",
       "19       IMPERVIOUS           42.299999\n",
       "20         CATALYST           39.000000\n",
       "21         POWERFUL           37.299999\n",
       "22        LUCKY_DAY           30.299999\n",
       "23            NINJA           29.000000\n",
       "24         AMETHYST           27.400000\n",
       "25           JAXXED           27.100000\n",
       "26         INFINITY           24.100000\n",
       "27           PURITY           21.500000\n",
       "28        RUBY_PLUS           18.000000\n",
       "29     EMERALD_PLUS           17.799999\n",
       "30    SAPPHIRE_PLUS           15.300000\n",
       "31        ASCEND_10           15.000000\n",
       "32        TRANSIENT           14.600000\n",
       "33       BARRICADED           13.800000\n",
       "34  YOU_ARE_NOTHING           13.000000\n",
       "35    AMETHYST_PLUS           12.800000\n",
       "36       THE_ENDING           12.600000\n",
       "37            DONUT            8.500000\n",
       "38    SPEED_CLIMBER            7.000000\n",
       "39        ASCEND_20            6.800000\n",
       "40             NEON            5.900000\n",
       "41          FOCUSED            5.300000\n",
       "42       MINIMALIST            4.500000\n",
       "43     COMMON_SENSE            4.100000\n",
       "44        ONE_RELIC            3.600000\n",
       "45      ETERNAL_ONE            2.400000"
      ]
     },
     "execution_count": 204,
     "metadata": {},
     "output_type": "execute_result"
    }
   ],
   "source": [
    "acheivement_frame"
   ]
  },
  {
   "cell_type": "code",
   "execution_count": 47,
   "metadata": {},
   "outputs": [
    {
     "data": {
      "application/vnd.plotly.v1+json": {
       "config": {
        "plotlyServerURL": "https://plot.ly"
       },
       "data": [
        {
         "alignmentgroup": "True",
         "bingroup": "x",
         "hovertemplate": "Completion Percent=%{x}<br>count=%{y}<extra></extra>",
         "legendgroup": "",
         "marker": {
          "color": "#636efa",
          "pattern": {
           "shape": ""
          }
         },
         "name": "",
         "nbinsx": 40,
         "offsetgroup": "",
         "orientation": "v",
         "showlegend": false,
         "type": "histogram",
         "x": [
          89,
          86.19999694824219,
          83.5999984741211,
          76.5,
          72.19999694824219,
          71.80000305175781,
          70.69999694824219,
          66.80000305175781,
          66.0999984741211,
          65.0999984741211,
          62.400001525878906,
          62.20000076293945,
          61.29999923706055,
          60.599998474121094,
          60.20000076293945,
          59.099998474121094,
          56.400001525878906,
          55.599998474121094,
          49.20000076293945,
          42.29999923706055,
          39,
          37.29999923706055,
          30.299999237060547,
          29,
          27.399999618530273,
          27.100000381469727,
          24.100000381469727,
          21.5,
          18,
          17.799999237060547,
          15.300000190734863,
          15,
          14.600000381469727,
          13.800000190734863,
          13,
          12.800000190734863,
          12.600000381469727,
          8.5,
          7,
          6.800000190734863,
          5.900000095367432,
          5.300000190734863,
          4.5,
          4.099999904632568,
          3.5999999046325684,
          2.4000000953674316
         ],
         "xaxis": "x",
         "yaxis": "y"
        },
        {
         "alignmentgroup": "True",
         "boxpoints": "all",
         "fillcolor": "rgba(255,255,255,0)",
         "hoveron": "points",
         "hovertemplate": "<b>%{hovertext}</b><br><br>Completion Percent=%{x}<extra></extra>",
         "hovertext": [
          "GUARDIAN",
          "GHOST_GUARDIAN",
          "SLIME_BOSS",
          "CHAMP",
          "AUTOMATON",
          "ASCEND_0",
          "COLLECTOR",
          "THE_PACT",
          "ADRENALINE",
          "SHRUG_IT_OFF",
          "RUBY",
          "PERFECT",
          "SHAPES",
          "PLAGUE",
          "CROW",
          "COME_AT_ME",
          "EMERALD",
          "TIME_EATER",
          "SAPPHIRE",
          "IMPERVIOUS",
          "CATALYST",
          "POWERFUL",
          "LUCKY_DAY",
          "NINJA",
          "AMETHYST",
          "JAXXED",
          "INFINITY",
          "PURITY",
          "RUBY_PLUS",
          "EMERALD_PLUS",
          "SAPPHIRE_PLUS",
          "ASCEND_10",
          "TRANSIENT",
          "BARRICADED",
          "YOU_ARE_NOTHING",
          "AMETHYST_PLUS",
          "THE_ENDING",
          "DONUT",
          "SPEED_CLIMBER",
          "ASCEND_20",
          "NEON",
          "FOCUSED",
          "MINIMALIST",
          "COMMON_SENSE",
          "ONE_RELIC",
          "ETERNAL_ONE"
         ],
         "jitter": 0,
         "legendgroup": "",
         "line": {
          "color": "rgba(255,255,255,0)"
         },
         "marker": {
          "color": "#636efa",
          "symbol": "line-ns-open"
         },
         "name": "",
         "offsetgroup": "",
         "showlegend": false,
         "type": "box",
         "x": [
          89,
          86.19999694824219,
          83.5999984741211,
          76.5,
          72.19999694824219,
          71.80000305175781,
          70.69999694824219,
          66.80000305175781,
          66.0999984741211,
          65.0999984741211,
          62.400001525878906,
          62.20000076293945,
          61.29999923706055,
          60.599998474121094,
          60.20000076293945,
          59.099998474121094,
          56.400001525878906,
          55.599998474121094,
          49.20000076293945,
          42.29999923706055,
          39,
          37.29999923706055,
          30.299999237060547,
          29,
          27.399999618530273,
          27.100000381469727,
          24.100000381469727,
          21.5,
          18,
          17.799999237060547,
          15.300000190734863,
          15,
          14.600000381469727,
          13.800000190734863,
          13,
          12.800000190734863,
          12.600000381469727,
          8.5,
          7,
          6.800000190734863,
          5.900000095367432,
          5.300000190734863,
          4.5,
          4.099999904632568,
          3.5999999046325684,
          2.4000000953674316
         ],
         "xaxis": "x2",
         "yaxis": "y2"
        }
       ],
       "layout": {
        "barmode": "relative",
        "legend": {
         "tracegroupgap": 0
        },
        "template": {
         "data": {
          "bar": [
           {
            "error_x": {
             "color": "#2a3f5f"
            },
            "error_y": {
             "color": "#2a3f5f"
            },
            "marker": {
             "line": {
              "color": "#E5ECF6",
              "width": 0.5
             },
             "pattern": {
              "fillmode": "overlay",
              "size": 10,
              "solidity": 0.2
             }
            },
            "type": "bar"
           }
          ],
          "barpolar": [
           {
            "marker": {
             "line": {
              "color": "#E5ECF6",
              "width": 0.5
             },
             "pattern": {
              "fillmode": "overlay",
              "size": 10,
              "solidity": 0.2
             }
            },
            "type": "barpolar"
           }
          ],
          "carpet": [
           {
            "aaxis": {
             "endlinecolor": "#2a3f5f",
             "gridcolor": "white",
             "linecolor": "white",
             "minorgridcolor": "white",
             "startlinecolor": "#2a3f5f"
            },
            "baxis": {
             "endlinecolor": "#2a3f5f",
             "gridcolor": "white",
             "linecolor": "white",
             "minorgridcolor": "white",
             "startlinecolor": "#2a3f5f"
            },
            "type": "carpet"
           }
          ],
          "choropleth": [
           {
            "colorbar": {
             "outlinewidth": 0,
             "ticks": ""
            },
            "type": "choropleth"
           }
          ],
          "contour": [
           {
            "colorbar": {
             "outlinewidth": 0,
             "ticks": ""
            },
            "colorscale": [
             [
              0,
              "#0d0887"
             ],
             [
              0.1111111111111111,
              "#46039f"
             ],
             [
              0.2222222222222222,
              "#7201a8"
             ],
             [
              0.3333333333333333,
              "#9c179e"
             ],
             [
              0.4444444444444444,
              "#bd3786"
             ],
             [
              0.5555555555555556,
              "#d8576b"
             ],
             [
              0.6666666666666666,
              "#ed7953"
             ],
             [
              0.7777777777777778,
              "#fb9f3a"
             ],
             [
              0.8888888888888888,
              "#fdca26"
             ],
             [
              1,
              "#f0f921"
             ]
            ],
            "type": "contour"
           }
          ],
          "contourcarpet": [
           {
            "colorbar": {
             "outlinewidth": 0,
             "ticks": ""
            },
            "type": "contourcarpet"
           }
          ],
          "heatmap": [
           {
            "colorbar": {
             "outlinewidth": 0,
             "ticks": ""
            },
            "colorscale": [
             [
              0,
              "#0d0887"
             ],
             [
              0.1111111111111111,
              "#46039f"
             ],
             [
              0.2222222222222222,
              "#7201a8"
             ],
             [
              0.3333333333333333,
              "#9c179e"
             ],
             [
              0.4444444444444444,
              "#bd3786"
             ],
             [
              0.5555555555555556,
              "#d8576b"
             ],
             [
              0.6666666666666666,
              "#ed7953"
             ],
             [
              0.7777777777777778,
              "#fb9f3a"
             ],
             [
              0.8888888888888888,
              "#fdca26"
             ],
             [
              1,
              "#f0f921"
             ]
            ],
            "type": "heatmap"
           }
          ],
          "heatmapgl": [
           {
            "colorbar": {
             "outlinewidth": 0,
             "ticks": ""
            },
            "colorscale": [
             [
              0,
              "#0d0887"
             ],
             [
              0.1111111111111111,
              "#46039f"
             ],
             [
              0.2222222222222222,
              "#7201a8"
             ],
             [
              0.3333333333333333,
              "#9c179e"
             ],
             [
              0.4444444444444444,
              "#bd3786"
             ],
             [
              0.5555555555555556,
              "#d8576b"
             ],
             [
              0.6666666666666666,
              "#ed7953"
             ],
             [
              0.7777777777777778,
              "#fb9f3a"
             ],
             [
              0.8888888888888888,
              "#fdca26"
             ],
             [
              1,
              "#f0f921"
             ]
            ],
            "type": "heatmapgl"
           }
          ],
          "histogram": [
           {
            "marker": {
             "pattern": {
              "fillmode": "overlay",
              "size": 10,
              "solidity": 0.2
             }
            },
            "type": "histogram"
           }
          ],
          "histogram2d": [
           {
            "colorbar": {
             "outlinewidth": 0,
             "ticks": ""
            },
            "colorscale": [
             [
              0,
              "#0d0887"
             ],
             [
              0.1111111111111111,
              "#46039f"
             ],
             [
              0.2222222222222222,
              "#7201a8"
             ],
             [
              0.3333333333333333,
              "#9c179e"
             ],
             [
              0.4444444444444444,
              "#bd3786"
             ],
             [
              0.5555555555555556,
              "#d8576b"
             ],
             [
              0.6666666666666666,
              "#ed7953"
             ],
             [
              0.7777777777777778,
              "#fb9f3a"
             ],
             [
              0.8888888888888888,
              "#fdca26"
             ],
             [
              1,
              "#f0f921"
             ]
            ],
            "type": "histogram2d"
           }
          ],
          "histogram2dcontour": [
           {
            "colorbar": {
             "outlinewidth": 0,
             "ticks": ""
            },
            "colorscale": [
             [
              0,
              "#0d0887"
             ],
             [
              0.1111111111111111,
              "#46039f"
             ],
             [
              0.2222222222222222,
              "#7201a8"
             ],
             [
              0.3333333333333333,
              "#9c179e"
             ],
             [
              0.4444444444444444,
              "#bd3786"
             ],
             [
              0.5555555555555556,
              "#d8576b"
             ],
             [
              0.6666666666666666,
              "#ed7953"
             ],
             [
              0.7777777777777778,
              "#fb9f3a"
             ],
             [
              0.8888888888888888,
              "#fdca26"
             ],
             [
              1,
              "#f0f921"
             ]
            ],
            "type": "histogram2dcontour"
           }
          ],
          "mesh3d": [
           {
            "colorbar": {
             "outlinewidth": 0,
             "ticks": ""
            },
            "type": "mesh3d"
           }
          ],
          "parcoords": [
           {
            "line": {
             "colorbar": {
              "outlinewidth": 0,
              "ticks": ""
             }
            },
            "type": "parcoords"
           }
          ],
          "pie": [
           {
            "automargin": true,
            "type": "pie"
           }
          ],
          "scatter": [
           {
            "fillpattern": {
             "fillmode": "overlay",
             "size": 10,
             "solidity": 0.2
            },
            "type": "scatter"
           }
          ],
          "scatter3d": [
           {
            "line": {
             "colorbar": {
              "outlinewidth": 0,
              "ticks": ""
             }
            },
            "marker": {
             "colorbar": {
              "outlinewidth": 0,
              "ticks": ""
             }
            },
            "type": "scatter3d"
           }
          ],
          "scattercarpet": [
           {
            "marker": {
             "colorbar": {
              "outlinewidth": 0,
              "ticks": ""
             }
            },
            "type": "scattercarpet"
           }
          ],
          "scattergeo": [
           {
            "marker": {
             "colorbar": {
              "outlinewidth": 0,
              "ticks": ""
             }
            },
            "type": "scattergeo"
           }
          ],
          "scattergl": [
           {
            "marker": {
             "colorbar": {
              "outlinewidth": 0,
              "ticks": ""
             }
            },
            "type": "scattergl"
           }
          ],
          "scattermapbox": [
           {
            "marker": {
             "colorbar": {
              "outlinewidth": 0,
              "ticks": ""
             }
            },
            "type": "scattermapbox"
           }
          ],
          "scatterpolar": [
           {
            "marker": {
             "colorbar": {
              "outlinewidth": 0,
              "ticks": ""
             }
            },
            "type": "scatterpolar"
           }
          ],
          "scatterpolargl": [
           {
            "marker": {
             "colorbar": {
              "outlinewidth": 0,
              "ticks": ""
             }
            },
            "type": "scatterpolargl"
           }
          ],
          "scatterternary": [
           {
            "marker": {
             "colorbar": {
              "outlinewidth": 0,
              "ticks": ""
             }
            },
            "type": "scatterternary"
           }
          ],
          "surface": [
           {
            "colorbar": {
             "outlinewidth": 0,
             "ticks": ""
            },
            "colorscale": [
             [
              0,
              "#0d0887"
             ],
             [
              0.1111111111111111,
              "#46039f"
             ],
             [
              0.2222222222222222,
              "#7201a8"
             ],
             [
              0.3333333333333333,
              "#9c179e"
             ],
             [
              0.4444444444444444,
              "#bd3786"
             ],
             [
              0.5555555555555556,
              "#d8576b"
             ],
             [
              0.6666666666666666,
              "#ed7953"
             ],
             [
              0.7777777777777778,
              "#fb9f3a"
             ],
             [
              0.8888888888888888,
              "#fdca26"
             ],
             [
              1,
              "#f0f921"
             ]
            ],
            "type": "surface"
           }
          ],
          "table": [
           {
            "cells": {
             "fill": {
              "color": "#EBF0F8"
             },
             "line": {
              "color": "white"
             }
            },
            "header": {
             "fill": {
              "color": "#C8D4E3"
             },
             "line": {
              "color": "white"
             }
            },
            "type": "table"
           }
          ]
         },
         "layout": {
          "annotationdefaults": {
           "arrowcolor": "#2a3f5f",
           "arrowhead": 0,
           "arrowwidth": 1
          },
          "autotypenumbers": "strict",
          "coloraxis": {
           "colorbar": {
            "outlinewidth": 0,
            "ticks": ""
           }
          },
          "colorscale": {
           "diverging": [
            [
             0,
             "#8e0152"
            ],
            [
             0.1,
             "#c51b7d"
            ],
            [
             0.2,
             "#de77ae"
            ],
            [
             0.3,
             "#f1b6da"
            ],
            [
             0.4,
             "#fde0ef"
            ],
            [
             0.5,
             "#f7f7f7"
            ],
            [
             0.6,
             "#e6f5d0"
            ],
            [
             0.7,
             "#b8e186"
            ],
            [
             0.8,
             "#7fbc41"
            ],
            [
             0.9,
             "#4d9221"
            ],
            [
             1,
             "#276419"
            ]
           ],
           "sequential": [
            [
             0,
             "#0d0887"
            ],
            [
             0.1111111111111111,
             "#46039f"
            ],
            [
             0.2222222222222222,
             "#7201a8"
            ],
            [
             0.3333333333333333,
             "#9c179e"
            ],
            [
             0.4444444444444444,
             "#bd3786"
            ],
            [
             0.5555555555555556,
             "#d8576b"
            ],
            [
             0.6666666666666666,
             "#ed7953"
            ],
            [
             0.7777777777777778,
             "#fb9f3a"
            ],
            [
             0.8888888888888888,
             "#fdca26"
            ],
            [
             1,
             "#f0f921"
            ]
           ],
           "sequentialminus": [
            [
             0,
             "#0d0887"
            ],
            [
             0.1111111111111111,
             "#46039f"
            ],
            [
             0.2222222222222222,
             "#7201a8"
            ],
            [
             0.3333333333333333,
             "#9c179e"
            ],
            [
             0.4444444444444444,
             "#bd3786"
            ],
            [
             0.5555555555555556,
             "#d8576b"
            ],
            [
             0.6666666666666666,
             "#ed7953"
            ],
            [
             0.7777777777777778,
             "#fb9f3a"
            ],
            [
             0.8888888888888888,
             "#fdca26"
            ],
            [
             1,
             "#f0f921"
            ]
           ]
          },
          "colorway": [
           "#636efa",
           "#EF553B",
           "#00cc96",
           "#ab63fa",
           "#FFA15A",
           "#19d3f3",
           "#FF6692",
           "#B6E880",
           "#FF97FF",
           "#FECB52"
          ],
          "font": {
           "color": "#2a3f5f"
          },
          "geo": {
           "bgcolor": "white",
           "lakecolor": "white",
           "landcolor": "#E5ECF6",
           "showlakes": true,
           "showland": true,
           "subunitcolor": "white"
          },
          "hoverlabel": {
           "align": "left"
          },
          "hovermode": "closest",
          "mapbox": {
           "style": "light"
          },
          "paper_bgcolor": "white",
          "plot_bgcolor": "#E5ECF6",
          "polar": {
           "angularaxis": {
            "gridcolor": "white",
            "linecolor": "white",
            "ticks": ""
           },
           "bgcolor": "#E5ECF6",
           "radialaxis": {
            "gridcolor": "white",
            "linecolor": "white",
            "ticks": ""
           }
          },
          "scene": {
           "xaxis": {
            "backgroundcolor": "#E5ECF6",
            "gridcolor": "white",
            "gridwidth": 2,
            "linecolor": "white",
            "showbackground": true,
            "ticks": "",
            "zerolinecolor": "white"
           },
           "yaxis": {
            "backgroundcolor": "#E5ECF6",
            "gridcolor": "white",
            "gridwidth": 2,
            "linecolor": "white",
            "showbackground": true,
            "ticks": "",
            "zerolinecolor": "white"
           },
           "zaxis": {
            "backgroundcolor": "#E5ECF6",
            "gridcolor": "white",
            "gridwidth": 2,
            "linecolor": "white",
            "showbackground": true,
            "ticks": "",
            "zerolinecolor": "white"
           }
          },
          "shapedefaults": {
           "line": {
            "color": "#2a3f5f"
           }
          },
          "ternary": {
           "aaxis": {
            "gridcolor": "white",
            "linecolor": "white",
            "ticks": ""
           },
           "baxis": {
            "gridcolor": "white",
            "linecolor": "white",
            "ticks": ""
           },
           "bgcolor": "#E5ECF6",
           "caxis": {
            "gridcolor": "white",
            "linecolor": "white",
            "ticks": ""
           }
          },
          "title": {
           "x": 0.05
          },
          "xaxis": {
           "automargin": true,
           "gridcolor": "white",
           "linecolor": "white",
           "ticks": "",
           "title": {
            "standoff": 15
           },
           "zerolinecolor": "white",
           "zerolinewidth": 2
          },
          "yaxis": {
           "automargin": true,
           "gridcolor": "white",
           "linecolor": "white",
           "ticks": "",
           "title": {
            "standoff": 15
           },
           "zerolinecolor": "white",
           "zerolinewidth": 2
          }
         }
        },
        "title": {
         "text": "Slay The Spire Acheivement Completion Percent"
        },
        "xaxis": {
         "anchor": "y",
         "domain": [
          0,
          1
         ],
         "title": {
          "text": "Completion Percent"
         }
        },
        "xaxis2": {
         "anchor": "y2",
         "domain": [
          0,
          1
         ],
         "matches": "x",
         "showgrid": true,
         "showticklabels": false
        },
        "yaxis": {
         "anchor": "x",
         "domain": [
          0,
          0.8316
         ],
         "title": {
          "text": "count"
         }
        },
        "yaxis2": {
         "anchor": "x2",
         "domain": [
          0.8416,
          1
         ],
         "matches": "y2",
         "showgrid": false,
         "showline": false,
         "showticklabels": false,
         "ticks": ""
        }
       }
      }
     },
     "metadata": {},
     "output_type": "display_data"
    }
   ],
   "source": [
    "px.histogram(acheivement_frame,x='Completion Percent',nbins=40,marginal='rug',hover_name='Name',title='Slay The Spire Acheivement Completion Percent',)"
   ]
  },
  {
   "cell_type": "code",
   "execution_count": 61,
   "metadata": {},
   "outputs": [
    {
     "name": "stdout",
     "output_type": "stream",
     "text": [
      "Successfully fetched the data\n"
     ]
    }
   ],
   "source": [
    "app_list=helpers.app_list()"
   ]
  },
  {
   "cell_type": "code",
   "execution_count": 99,
   "metadata": {},
   "outputs": [
    {
     "name": "stdout",
     "output_type": "stream",
     "text": [
      "Successfully fetched the data\n"
     ]
    }
   ],
   "source": [
    "get_acheives=f'http://api.steampowered.com/ISteamUserStats/GetGlobalAchievementPercentagesForApp/v0002/?gameid={slay_the_spire_game_id}&format={format}'\n",
    "slay_the_spire_aheive_info=helpers.get_data(get_acheives)"
   ]
  },
  {
   "cell_type": "code",
   "execution_count": 100,
   "metadata": {},
   "outputs": [
    {
     "data": {
      "text/plain": [
       "{'achievementpercentages': {'achievements': [{'name': 'GUARDIAN',\n",
       "    'percent': 89},\n",
       "   {'name': 'GHOST_GUARDIAN', 'percent': 86.19999694824219},\n",
       "   {'name': 'SLIME_BOSS', 'percent': 83.5999984741211},\n",
       "   {'name': 'CHAMP', 'percent': 76.5},\n",
       "   {'name': 'AUTOMATON', 'percent': 72.0999984741211},\n",
       "   {'name': 'ASCEND_0', 'percent': 71.80000305175781},\n",
       "   {'name': 'COLLECTOR', 'percent': 70.69999694824219},\n",
       "   {'name': 'THE_PACT', 'percent': 66.80000305175781},\n",
       "   {'name': 'ADRENALINE', 'percent': 66.0999984741211},\n",
       "   {'name': 'SHRUG_IT_OFF', 'percent': 65.0999984741211},\n",
       "   {'name': 'RUBY', 'percent': 62.400001525878906},\n",
       "   {'name': 'PERFECT', 'percent': 62.20000076293945},\n",
       "   {'name': 'SHAPES', 'percent': 61.29999923706055},\n",
       "   {'name': 'PLAGUE', 'percent': 60.599998474121094},\n",
       "   {'name': 'CROW', 'percent': 60.20000076293945},\n",
       "   {'name': 'COME_AT_ME', 'percent': 59.099998474121094},\n",
       "   {'name': 'EMERALD', 'percent': 56.400001525878906},\n",
       "   {'name': 'TIME_EATER', 'percent': 55.599998474121094},\n",
       "   {'name': 'SAPPHIRE', 'percent': 49.20000076293945},\n",
       "   {'name': 'IMPERVIOUS', 'percent': 42.29999923706055},\n",
       "   {'name': 'CATALYST', 'percent': 39},\n",
       "   {'name': 'POWERFUL', 'percent': 37.29999923706055},\n",
       "   {'name': 'LUCKY_DAY', 'percent': 30.299999237060547},\n",
       "   {'name': 'NINJA', 'percent': 29},\n",
       "   {'name': 'AMETHYST', 'percent': 27.399999618530273},\n",
       "   {'name': 'JAXXED', 'percent': 27.100000381469727},\n",
       "   {'name': 'INFINITY', 'percent': 24.100000381469727},\n",
       "   {'name': 'PURITY', 'percent': 21.5},\n",
       "   {'name': 'RUBY_PLUS', 'percent': 18},\n",
       "   {'name': 'EMERALD_PLUS', 'percent': 17.799999237060547},\n",
       "   {'name': 'SAPPHIRE_PLUS', 'percent': 15.300000190734863},\n",
       "   {'name': 'ASCEND_10', 'percent': 15},\n",
       "   {'name': 'TRANSIENT', 'percent': 14.600000381469727},\n",
       "   {'name': 'BARRICADED', 'percent': 13.800000190734863},\n",
       "   {'name': 'YOU_ARE_NOTHING', 'percent': 13},\n",
       "   {'name': 'AMETHYST_PLUS', 'percent': 12.800000190734863},\n",
       "   {'name': 'THE_ENDING', 'percent': 12.600000381469727},\n",
       "   {'name': 'DONUT', 'percent': 8.5},\n",
       "   {'name': 'SPEED_CLIMBER', 'percent': 7},\n",
       "   {'name': 'ASCEND_20', 'percent': 6.800000190734863},\n",
       "   {'name': 'NEON', 'percent': 5.900000095367432},\n",
       "   {'name': 'FOCUSED', 'percent': 5.300000190734863},\n",
       "   {'name': 'MINIMALIST', 'percent': 4.5},\n",
       "   {'name': 'COMMON_SENSE', 'percent': 4.099999904632568},\n",
       "   {'name': 'ONE_RELIC', 'percent': 3.5999999046325684},\n",
       "   {'name': 'ETERNAL_ONE', 'percent': 2.4000000953674316}]}}"
      ]
     },
     "execution_count": 100,
     "metadata": {},
     "output_type": "execute_result"
    }
   ],
   "source": [
    "slay_the_spire_aheive_info"
   ]
  },
  {
   "cell_type": "code",
   "execution_count": 102,
   "metadata": {},
   "outputs": [
    {
     "name": "stdout",
     "output_type": "stream",
     "text": [
      "Successfully fetched the data\n"
     ]
    }
   ],
   "source": [
    "game_info_query=f'http://store.steampowered.com/api/appdetails?appids={slay_the_spire_game_id}'\n",
    "\n",
    "slay_the_spire_game_info=helpers.get_data(game_info_query)"
   ]
  },
  {
   "cell_type": "code",
   "execution_count": 103,
   "metadata": {},
   "outputs": [
    {
     "data": {
      "text/plain": [
       "'23 Jan, 2019'"
      ]
     },
     "execution_count": 103,
     "metadata": {},
     "output_type": "execute_result"
    }
   ],
   "source": [
    "slay_the_spire_game_info[slay_the_spire_game_id][\"data\"][\"release_date\"]['date']\n"
   ]
  },
  {
   "cell_type": "code",
   "execution_count": 104,
   "metadata": {},
   "outputs": [
    {
     "data": {
      "text/plain": [
       "133277"
      ]
     },
     "execution_count": 104,
     "metadata": {},
     "output_type": "execute_result"
    }
   ],
   "source": [
    "slay_the_spire_game_info[slay_the_spire_game_id][\"data\"][\"recommendations\"]['total']"
   ]
  },
  {
   "cell_type": "code",
   "execution_count": 105,
   "metadata": {},
   "outputs": [
    {
     "data": {
      "text/plain": [
       "89"
      ]
     },
     "execution_count": 105,
     "metadata": {},
     "output_type": "execute_result"
    }
   ],
   "source": [
    "slay_the_spire_game_info[slay_the_spire_game_id][\"data\"][\"metacritic\"]['score']"
   ]
  },
  {
   "cell_type": "markdown",
   "metadata": {},
   "source": [
    "GetUserStatsForGame (v0002)\n",
    "Returns a list of achievements for this user by app id\n",
    "\n",
    "Example URL: http://api.steampowered.com/ISteamUserStats/GetUserStatsForGame/v0002/?appid=440&key=XXXXXXXXXXXXXXXXXXXXXXXXXXXXXXXX&steamid=76561197972495328\n",
    "\n",
    "Arguments\n",
    "steamid\n",
    "64 bit Steam ID to return friend list for.\n",
    "appid\n",
    "The ID for the game you're requesting\n",
    "l (Optional)\n",
    "Language. If specified, it will return language data for the requested language.\n"
   ]
  },
  {
   "cell_type": "code",
   "execution_count": 87,
   "metadata": {},
   "outputs": [
    {
     "name": "stdout",
     "output_type": "stream",
     "text": [
      "Error: 400. Failed to fetch data.\n",
      "Response content: b'null'\n"
     ]
    }
   ],
   "source": [
    "game_info=f'http://store.steampowered.com/api/appdetails?appids={json.dumps(total_war_ids[0:5])}'\n",
    "slay_the_spire_game_info=helpers.get_data(game_info)"
   ]
  },
  {
   "cell_type": "code",
   "execution_count": 208,
   "metadata": {},
   "outputs": [
    {
     "data": {
      "text/plain": [
       "[{'appid': 1941401, 'name': ''},\n",
       " {'appid': 2170321, 'name': ''},\n",
       " {'appid': 1825161, 'name': ''},\n",
       " {'appid': 1897482, 'name': ''},\n",
       " {'appid': 2112761, 'name': ''},\n",
       " {'appid': 1829051, 'name': ''},\n",
       " {'appid': 1808781, 'name': ''},\n",
       " {'appid': 1983382, 'name': ''},\n",
       " {'appid': 1828741, 'name': ''},\n",
       " {'appid': 216938, 'name': 'Pieterw test app76 ( 216938 )'},\n",
       " {'appid': 660010, 'name': 'test2'},\n",
       " {'appid': 660130, 'name': 'test3'},\n",
       " {'appid': 1118314, 'name': ''},\n",
       " {'appid': 1275822, 'name': ''},\n",
       " {'appid': 1343832, 'name': ''},\n",
       " {'appid': 662172, 'name': ''},\n",
       " {'appid': 1360782, 'name': ''},\n",
       " {'appid': 1820332, 'name': ''},\n",
       " {'appid': 1927051, 'name': ''},\n",
       " {'appid': 1496152, 'name': ''},\n",
       " {'appid': 1977312, 'name': ''},\n",
       " {'appid': 1700632, 'name': ''},\n",
       " {'appid': 1567401, 'name': ''},\n",
       " {'appid': 2016512, 'name': ''},\n",
       " {'appid': 2092072, 'name': ''},\n",
       " {'appid': 2119422, 'name': ''},\n",
       " {'appid': 596501, 'name': ''},\n",
       " {'appid': 2177061, 'name': ''},\n",
       " {'appid': 2156011, 'name': ''},\n",
       " {'appid': 1383152, 'name': ''},\n",
       " {'appid': 1496243, 'name': ''},\n",
       " {'appid': 2121741, 'name': ''},\n",
       " {'appid': 1375021, 'name': ''},\n",
       " {'appid': 2292161, 'name': ''},\n",
       " {'appid': 1312081, 'name': ''},\n",
       " {'appid': 2216261, 'name': ''},\n",
       " {'appid': 2944650, 'name': 'Taco Terror Demo'},\n",
       " {'appid': 2944660,\n",
       "  'name': 'Fantasy Grounds - Savage Saturday Cinema: Thunder on the Mountain'},\n",
       " {'appid': 2944680, 'name': 'Hamstörm'},\n",
       " {'appid': 2944690, 'name': 'Oh, Flock!'},\n",
       " {'appid': 2944760, 'name': '我的时光：大学日记'},\n",
       " {'appid': 2944780, 'name': 'Souls Chess'},\n",
       " {'appid': 2944790, 'name': 'Devil Must Die: The Last Supper Demo'},\n",
       " {'appid': 2944800, 'name': \"Another Crab's Treasure Soundtrack\"},\n",
       " {'appid': 2944810, 'name': 'Rosemary'},\n",
       " {'appid': 2944820, 'name': 'Emperor of the Fading Suns Demo'},\n",
       " {'appid': 2944830, 'name': 'Frustration Nation'},\n",
       " {'appid': 2944910, 'name': 'We Got Compagnie! Playtest'},\n",
       " {'appid': 2944990, 'name': 'Reality patrol: Prologue'},\n",
       " {'appid': 2945100, 'name': 'Idle Taoist Mage Warrior 2'},\n",
       " {'appid': 2945110, 'name': 'Skill Random Defense'},\n",
       " {'appid': 2944140, 'name': 'Warframe: Protea Prime Access - Complete Pack'},\n",
       " {'appid': 2944150, 'name': 'Warframe: Protea Prime - Accessories Pack'},\n",
       " {'appid': 2944160, 'name': 'Warframe: Protea Prime Access - Weapons Pack'},\n",
       " {'appid': 2944170, 'name': 'Warframe: Protea Prime Access - Prime Pack'},\n",
       " {'appid': 2944190, 'name': 'Cave in'},\n",
       " {'appid': 2944200, 'name': 'Asili Forest'},\n",
       " {'appid': 2944210, 'name': 'Eko and the bewitched lands Playtest'},\n",
       " {'appid': 2944230, 'name': 'House of Everlast Demo'},\n",
       " {'appid': 2944240, 'name': 'Spready'},\n",
       " {'appid': 2944250, 'name': 'Spready Demo'},\n",
       " {'appid': 2944260, 'name': 'Fear & Hope Demo'},\n",
       " {'appid': 2944290, 'name': 'War of Zanzor III: Birth of Unity'},\n",
       " {'appid': 2944300, 'name': 'Barro F22 - Pack #1'},\n",
       " {'appid': 2944310, 'name': 'Barro GT - Pack #1'},\n",
       " {'appid': 2944320, 'name': 'Barro T23 - Pack #1'},\n",
       " {'appid': 2944370, 'name': 'LOGIX: The Missing Part'},\n",
       " {'appid': 2944400, 'name': 'Tower! Simulator 3 - KIAH Airport'},\n",
       " {'appid': 2944430, 'name': 'Beat Battle'},\n",
       " {'appid': 2944440, 'name': 'Gyras: Rogue'},\n",
       " {'appid': 2944490, 'name': 'A Dungeon Is You'},\n",
       " {'appid': 2944520, 'name': 'Hand In Hand (Original Soundtrack)'},\n",
       " {'appid': 2944550, 'name': 'Beasties of Greenhollow'},\n",
       " {'appid': 2944560, 'name': 'A College of Thirst & Claws - Season 1'},\n",
       " {'appid': 2944590, 'name': 'Chowdown Kitty'},\n",
       " {'appid': 2944600, 'name': 'Dark Laws Playtest'},\n",
       " {'appid': 2944610, 'name': 'Gravitee Wars'},\n",
       " {'appid': 2944620,\n",
       "  'name': 'Fantasy Grounds - Pathfinder RPG - Campaign Setting: Cheliax, The Infernal Empire'},\n",
       " {'appid': 2944640, 'name': 'DNA Episode 5'},\n",
       " {'appid': 2943640, 'name': 'Симулятор ПВЗ'},\n",
       " {'appid': 2943660, 'name': \"Conge's Crunch Time Playtest\"},\n",
       " {'appid': 2943720, 'name': 'カルトに厳しいギャル-CULT VS GAL- Soundtrack'},\n",
       " {'appid': 2943780, 'name': 'Chamber Survival'},\n",
       " {'appid': 2943790, 'name': 'HexoCity Demo'},\n",
       " {'appid': 2943800, 'name': 'Casual Trucking'},\n",
       " {'appid': 2943810, 'name': 'Rogue Bot Adventure Demo'},\n",
       " {'appid': 2943820, 'name': 'Ghostboy Playtest'},\n",
       " {'appid': 2943900, 'name': '诛心手术 Demo'},\n",
       " {'appid': 2943920, 'name': 'Timeless'},\n",
       " {'appid': 2943940, 'name': \"Ama's Lullaby Demo\"},\n",
       " {'appid': 2944000, 'name': 'Arcade Space Survivor'},\n",
       " {'appid': 2944090, 'name': 'Crimson Snow Deluxe'},\n",
       " {'appid': 2944100, 'name': 'Crimson Snow Deluxe Demo'},\n",
       " {'appid': 2944120, 'name': 'CYBORG FORCE'},\n",
       " {'appid': 2943150, 'name': 'SNØ'},\n",
       " {'appid': 2943190, 'name': 'Realm of Ink: Prologue'},\n",
       " {'appid': 2943200, 'name': 'Dr. Murph'},\n",
       " {'appid': 2943210, 'name': 'Heartless Corporation Demo'},\n",
       " {'appid': 2943220, 'name': 'Prince Adventures Demo'},\n",
       " {'appid': 2943230, 'name': 'Knight Lolita'},\n",
       " {'appid': 2943250, 'name': 'Impawlse'},\n",
       " {'appid': 2943280, 'name': 'Dustland Delivery'},\n",
       " {'appid': 2943290, 'name': 'Salvo Shuffle Soundtrack'},\n",
       " {'appid': 2943310, 'name': '诛心手术'},\n",
       " {'appid': 2943320, 'name': \"Ama's Lullaby\"},\n",
       " {'appid': 2943350, 'name': 'Tow Truck'},\n",
       " {'appid': 2943380, 'name': 'Underground Prisoner'},\n",
       " {'appid': 2943390, 'name': 'MOON THIRST'},\n",
       " {'appid': 2943410, 'name': 'clothes Store Simulator'},\n",
       " {'appid': 2943440, 'name': \"Melo's nightmare\"},\n",
       " {'appid': 2943450,\n",
       "  'name': 'The Battle of Polytopia - ₼idŋighţ Skin (for the ∑∫ỹriȱŋ tribe)'},\n",
       " {'appid': 2943460,\n",
       "  'name': 'Master of Pieces © Jigsaw Puzzle DLC - Whispers of Nature'},\n",
       " {'appid': 2943470, 'name': 'Contract Cafe'},\n",
       " {'appid': 2943480, 'name': 'Night at the Cabin'},\n",
       " {'appid': 2943490, 'name': 'Bullet Buddies'},\n",
       " {'appid': 2943520, 'name': 'たまにわとりのパズル'},\n",
       " {'appid': 2943530, 'name': 'Escape Island Playtest'},\n",
       " {'appid': 2943550, 'name': 'Forgotten Skies'},\n",
       " {'appid': 2943560, 'name': \"Rusty's Retirement - Supporter Pack\"},\n",
       " {'appid': 2943580, 'name': \"Noble's Life: Kingdom Reborn Prologue Playtest\"},\n",
       " {'appid': 2943610, 'name': 'Astral Maze: Escape The Horror'},\n",
       " {'appid': 2943630, 'name': 'Corpo Connections'},\n",
       " {'appid': 2942660, 'name': 'Fantastic Frolic'},\n",
       " {'appid': 2942670, 'name': 'Ancient Scroll'},\n",
       " {'appid': 2942680, 'name': 'Survivor in the Forest'},\n",
       " {'appid': 2942690, 'name': 'Book of Spells'},\n",
       " {'appid': 2942720, 'name': 'Bot Patrol Demo'},\n",
       " {'appid': 2942730, 'name': 'Pixel Fish'},\n",
       " {'appid': 2942770, 'name': 'Dragon Ruins Original Soundtrack'},\n",
       " {'appid': 2942780, 'name': 'Bloobs Adventure Idle'},\n",
       " {'appid': 2942790, 'name': \"Warden's Will Demo\"},\n",
       " {'appid': 2942800, 'name': 'Void Carrier Demo'},\n",
       " {'appid': 2942810, 'name': 'Kilonova'},\n",
       " {'appid': 2942830, 'name': 'Dreeg Beta Demo Playtest'},\n",
       " {'appid': 2942840, 'name': 'Our Little Friend'},\n",
       " {'appid': 2942850, 'name': 'SUNSOFT is Back! レトロゲームセレクション Soundtrack'},\n",
       " {'appid': 2942860, 'name': '遗忘魔塔加速版'},\n",
       " {'appid': 2942880, 'name': '遥岸灯海 Demo'},\n",
       " {'appid': 2942920, 'name': 'Angel Legion-DLC Shadow Woven (Green)'},\n",
       " {'appid': 2942940, 'name': 'Angel Legion-DLC Secret Gift (Pink)'},\n",
       " {'appid': 2942950, 'name': 'Box Bakery'},\n",
       " {'appid': 2942980, 'name': 'UPUPUP'},\n",
       " {'appid': 2942990,\n",
       "  'name': 'JR EAST Train Simulator: Oga Line (Akita to Oga) EV-E801 series'},\n",
       " {'appid': 2943060, 'name': 'Recoil Cluck Demo'},\n",
       " {'appid': 2943090, 'name': '灵域守护者 Demo'},\n",
       " {'appid': 2943100, 'name': 'Better With A Friend'},\n",
       " {'appid': 2943130, 'name': 'Light Unseen'},\n",
       " {'appid': 2942140, 'name': 'Rushuzen'},\n",
       " {'appid': 2942160, 'name': 'Sentry System'},\n",
       " {'appid': 2942170, 'name': 'Cat Apocalypse'},\n",
       " {'appid': 2942180, 'name': 'Hentai Tales: Seed Prison'},\n",
       " {'appid': 2942190, 'name': 'Hentai Class'},\n",
       " {'appid': 2942200, 'name': 'DLC_item_0'},\n",
       " {'appid': 2942310, 'name': 'Gun Runners'},\n",
       " {'appid': 2942330, 'name': 'Pretend Cars Racing 2'},\n",
       " {'appid': 2942340, 'name': 'Planet Pioneers Demo'},\n",
       " {'appid': 2942370, 'name': '墨子星'},\n",
       " {'appid': 2942390, 'name': 'エクササイズシミュレーターVol1 -猫型ロデオマシンでハッスル大運動会-'},\n",
       " {'appid': 2942430, 'name': 'Knight Runner: Blade and Bolt'},\n",
       " {'appid': 2942440, 'name': 'System Shooterz'},\n",
       " {'appid': 2942450, 'name': 'Star Explorers Demo'},\n",
       " {'appid': 2942460, 'name': 'Backpack Monsters: Survivors Demo'},\n",
       " {'appid': 2942470, 'name': 'GLOBAL ELITE'},\n",
       " {'appid': 2942480, 'name': 'Paradox Vector Demo'},\n",
       " {'appid': 2942530, 'name': 'Paradox Vector Soundtrack'},\n",
       " {'appid': 2942610, 'name': 'Mission: Mars'},\n",
       " {'appid': 2941660, 'name': 'Archean'},\n",
       " {'appid': 2941680, 'name': 'GUN KING Playtest'},\n",
       " {'appid': 2941710, 'name': 'Project Silverfish'},\n",
       " {'appid': 2941720, 'name': 'Fishlets Playtest'},\n",
       " {'appid': 2941730, 'name': 'Bloodthief Demo'},\n",
       " {'appid': 2941740, 'name': 'Mathematics'},\n",
       " {'appid': 2941750, 'name': 'Djinn - The Forbidden Knowledge'},\n",
       " {'appid': 2941760, 'name': 'Overdrive Escape Demo'},\n",
       " {'appid': 2941810, 'name': 'Zombie House Defense'},\n",
       " {'appid': 2941820, 'name': 'Carceri'},\n",
       " {'appid': 2941850, 'name': 'Reclamation of Xanthros Playtest'},\n",
       " {'appid': 2941860, 'name': '重檐 Playtest'},\n",
       " {'appid': 2941910, 'name': 'Infinite Survivors '},\n",
       " {'appid': 2941920, 'name': '完美恋人~fragile love Demo'},\n",
       " {'appid': 2941930, 'name': 'Shape Survivor'},\n",
       " {'appid': 2941960, 'name': 'Depths of Despair'},\n",
       " {'appid': 2942020, 'name': 'Free Chess: Lewis Set'},\n",
       " {'appid': 2942030, 'name': 'Soccer VR'},\n",
       " {'appid': 2942050, 'name': 'Ports Of Call Deluxe 3D 2024'},\n",
       " {'appid': 2942060, 'name': '莫比乌斯疑案'},\n",
       " {'appid': 2942070, 'name': 'Memory Quickie'},\n",
       " {'appid': 2942080, 'name': 'Weekend Hentai'},\n",
       " {'appid': 2942120, 'name': 'Bear No Grudge Demo'},\n",
       " {'appid': 2942130, 'name': 'Interwoven Emotions'},\n",
       " {'appid': 2941140, 'name': 'Uncensor Quest Neon'},\n",
       " {'appid': 2941160, 'name': 'Frankie and Suede Demo'},\n",
       " {'appid': 2941170, 'name': 'Vague Lizards'},\n",
       " {'appid': 2941190, 'name': 'Tiny Demo'},\n",
       " {'appid': 2941200, 'name': '幽幽子大人食欲不振'},\n",
       " {'appid': 2941260, 'name': 'Bear Warrior'},\n",
       " {'appid': 2941270, 'name': '什么鸟都 Demo'},\n",
       " {'appid': 2941280, 'name': '遥岸灯海'},\n",
       " {'appid': 2941300, 'name': '富庶农桑 - 报恩塔'},\n",
       " {'appid': 2941310, 'name': 'Unknown Tapes Demo'},\n",
       " {'appid': 2941340, 'name': 'BabushCats BETA'},\n",
       " {'appid': 2941360, 'name': 'Pie in the Sky'},\n",
       " {'appid': 2941410, 'name': 'Truck'},\n",
       " {'appid': 2941420, 'name': 'Touhou: Fading Illusion OST vol.3'},\n",
       " {'appid': 2941450, 'name': 'Steal Deal'},\n",
       " {'appid': 2941480, 'name': '9SHOT'},\n",
       " {'appid': 2941510, 'name': 'MeowFall'},\n",
       " {'appid': 2941520, 'name': 'Primal Survival Wars'},\n",
       " {'appid': 2941580, 'name': 'Journey of Wrestling'},\n",
       " {'appid': 2941600, 'name': '宇宙大战'},\n",
       " {'appid': 2941620, 'name': 'FLIKK Demo'},\n",
       " {'appid': 2940640, 'name': 'Phantom Xcape'},\n",
       " {'appid': 2940650, 'name': 'Anomaly Hotel'},\n",
       " {'appid': 2940660, 'name': 'Kirakira Slimes'},\n",
       " {'appid': 2940680, 'name': 'Upstream Ante Demo'},\n",
       " {'appid': 2940690, 'name': 'Upstream Ante Soundtrack'},\n",
       " {'appid': 2940710, 'name': 'Clandestine: The Hidden Truth Demo'},\n",
       " {'appid': 2940720, 'name': 'Iridescent Demo'},\n",
       " {'appid': 2940740, 'name': 'Up! The Floor Is Lava'},\n",
       " {'appid': 2940750, 'name': 'ComplexToe'},\n",
       " {'appid': 2940810, 'name': 'Wraith Demo'},\n",
       " {'appid': 2940820, 'name': 'Tower of Mask Demo'},\n",
       " {'appid': 2940830, 'name': 'Streets of Handbags'},\n",
       " {'appid': 2940850, 'name': 'Beef Cat Ultra Demo'},\n",
       " {'appid': 2940860, 'name': \"Euclid's Inferno\"},\n",
       " {'appid': 2940870, 'name': 'Le Dernier Don'},\n",
       " {'appid': 2940890, 'name': 'Carrion Fields'},\n",
       " {'appid': 2940910, 'name': 'Grunt1991 Demo'},\n",
       " {'appid': 2940970, 'name': 'Magic Farm'},\n",
       " {'appid': 2941000, 'name': '虚灯のセレスティア'},\n",
       " {'appid': 2941010, 'name': 'Art Dash'},\n",
       " {'appid': 2941070, 'name': 'Meme Mayhem Demo'},\n",
       " {'appid': 2941130, 'name': 'ヒサとヨミ 第１章 ２人の魔法使い Soundtrack'},\n",
       " {'appid': 2940170, 'name': 'EQQO'},\n",
       " {'appid': 2940180, 'name': 'Mochi Sprint Demo'},\n",
       " {'appid': 2940210, 'name': 'RGB Rush 2'},\n",
       " {'appid': 2940250, 'name': 'The Ark Adult Game'},\n",
       " {'appid': 2940260, 'name': 'The Spewnicorn'},\n",
       " {'appid': 2940280, 'name': 'Escape the Floor'},\n",
       " {'appid': 2940310, 'name': 'Planetoid Evasion'},\n",
       " {'appid': 2940330, 'name': 'Ants Took My Eyeball Soundtrack'},\n",
       " {'appid': 2940360, 'name': 'Project Carrot Demo'},\n",
       " {'appid': 2940370, 'name': 'AnyWayOut'},\n",
       " {'appid': 2940380, 'name': \"Within : Hannah's Journey\"},\n",
       " {'appid': 2940410, 'name': 'Duck Adventures'},\n",
       " {'appid': 2940420, 'name': 'Will I Survive Tonight?'},\n",
       " {'appid': 2940460, 'name': 'Kitty Kart 64'},\n",
       " {'appid': 2940490, 'name': 'Furry Aim Trainer'},\n",
       " {'appid': 2940500, 'name': 'Find Brains'},\n",
       " {'appid': 2940540, 'name': 'Only Up: SKIBIDI TOGETHER Demo'},\n",
       " {'appid': 2940560, 'name': 'Upstream Ante'},\n",
       " {'appid': 2940580, 'name': 'Dala and The Cursed Forest Playtest'},\n",
       " {'appid': 2939740, 'name': '绝命游歌 Demo'},\n",
       " {'appid': 2939780, 'name': 'No contact'},\n",
       " {'appid': 2939790, 'name': 'Lunarium'},\n",
       " {'appid': 2939810, 'name': 'Cube Hero Demo'},\n",
       " {'appid': 2939820, 'name': 'Bedrotting'},\n",
       " {'appid': 2939890, 'name': 'Maisa: Galactic Bounty Hunter'},\n",
       " {'appid': 2939970, 'name': 'An Amazing Wizard: Prologue Playtest'},\n",
       " {'appid': 2939980, 'name': 'The Other Side: Tower of Souls Remaster'},\n",
       " {'appid': 2940020, 'name': 'tomorrow is my birthday'},\n",
       " {'appid': 2940070, 'name': 'Parlor Board 3D'},\n",
       " {'appid': 2939140, 'name': 'Chew Chew Mimic Demo'},\n",
       " {'appid': 2939160, 'name': 'Fantasy Grounds - Tower of Dead Thieves'},\n",
       " {'appid': 2939180, 'name': 'Hentai Luna'},\n",
       " {'appid': 2939220, 'name': 'Snail Playtest'},\n",
       " {'appid': 2939230, 'name': 'Mind Keeper Demo'},\n",
       " {'appid': 2939270, 'name': 'Bullet Hunter - Demo'},\n",
       " {'appid': 2939290, 'name': 'Pelago'},\n",
       " {'appid': 2939310, 'name': 'RadioWave'},\n",
       " {'appid': 2939370, 'name': \"Wolves in Sheep's Clothing Playtest\"},\n",
       " {'appid': 2939420, 'name': 'Battimals'},\n",
       " {'appid': 2939440,\n",
       "  'name': 'The Adventures of Prince Shiratama ~Climb the mountains~'},\n",
       " {'appid': 2939460, 'name': 'Astro Attack'},\n",
       " {'appid': 2939470, 'name': 'Clear Skye Thinking'},\n",
       " {'appid': 2939510, 'name': 'Under Canopies'},\n",
       " {'appid': 2939520, 'name': '雪女传'},\n",
       " {'appid': 2939550, 'name': 'ウラヤマ'},\n",
       " {'appid': 2939570, 'name': 'Tower Knight'},\n",
       " {'appid': 2939580, 'name': 'Cube Hero'},\n",
       " {'appid': 2939600, 'name': 'Tower Networking Inc.'},\n",
       " {'appid': 2939630, 'name': 'Cat Meoir: Feline Detective'},\n",
       " {'appid': 2938640, 'name': 'Whispers of The Abyss'},\n",
       " {'appid': 2938690, 'name': 'Fluida Playtest'},\n",
       " {'appid': 2938770, 'name': 'Adult Puzzle - Hentai Maid Aruha'},\n",
       " {'appid': 2938780, 'name': 'Encounters: Music Stories Demo'},\n",
       " {'appid': 2938830, 'name': 'Family Bible Quest'},\n",
       " {'appid': 2938840, 'name': 'The Trials 2'},\n",
       " {'appid': 2938870, 'name': 'Cuboidvania'},\n",
       " {'appid': 2938880, 'name': 'Diegesis of The Ruined'},\n",
       " {'appid': 2938910, 'name': 'BabushCats Demo'},\n",
       " {'appid': 2938920, 'name': 'Star Mountain'},\n",
       " {'appid': 2938930, 'name': '琳琳日語在地化眾籌——表情包*10'},\n",
       " {'appid': 2939060, 'name': \"Fantasy Grounds - Grizelda's Cursed Curiosities\"},\n",
       " {'appid': 2939070, 'name': \"Pickup 'N' Packup!\"},\n",
       " {'appid': 2939100, 'name': 'Apomo District'},\n",
       " {'appid': 2939110, 'name': 'Rhythm Station Demo'},\n",
       " {'appid': 2938210, 'name': 'Fighting Frontier 場次保衛戰'},\n",
       " {'appid': 2938300, 'name': 'Edge Of Endless'},\n",
       " {'appid': 2938330, 'name': 'Really Simple Golf'},\n",
       " {'appid': 2938340, 'name': 'Really Simple Golf Demo'},\n",
       " {'appid': 2938350, 'name': 'The Mournemore Killings'},\n",
       " {'appid': 2938370, 'name': 'TIME JOURNEY Demo'},\n",
       " {'appid': 2938380, 'name': 'The Last FARMER Demo'},\n",
       " {'appid': 2938390, 'name': 'SHARK SIEGE Demo'},\n",
       " {'appid': 2938400, 'name': 'CYBER CLUB SIMULATOR Demo'},\n",
       " {'appid': 2938410, 'name': \"The Witch's Redemption Demo\"},\n",
       " {'appid': 2938420, 'name': 'Realms of Alterra'},\n",
       " {'appid': 2938470, 'name': 'WisdomGems'},\n",
       " {'appid': 2938490, 'name': 'Crying Room'},\n",
       " {'appid': 2938550, 'name': 'Two Bad Fellas'},\n",
       " {'appid': 2938560, 'name': 'Ticket to Ride - USA 1910 Ticket Pack'},\n",
       " {'appid': 2938600, 'name': 'Escape Room Collection C2 Psychological Horror'},\n",
       " {'appid': 2938620, 'name': '21 Mayble Drive'},\n",
       " {'appid': 2938630, 'name': 'Radland'},\n",
       " {'appid': 2937640, 'name': \"Jötunn's Greed\"},\n",
       " {'appid': 2937660,\n",
       "  'name': \"Cleave Together: The Dragon King's Treasure Demo\"},\n",
       " {'appid': 2937690, 'name': 'Memora Wanderer'},\n",
       " {'appid': 2937720, 'name': \"Jötunn's Greed Playtest\"},\n",
       " {'appid': 2937810, 'name': '动物炸弹棋 / Animal Bomb Chess'},\n",
       " {'appid': 2937820, 'name': '星旅：前奏'},\n",
       " {'appid': 2937840, 'name': 'SpinSweep'},\n",
       " {'appid': 2937850, 'name': 'Avians Against Aviation'},\n",
       " {'appid': 2937870, 'name': 'Mizuki and the Crimson Moon'},\n",
       " {'appid': 2937880, 'name': 'Fallen King Demo'},\n",
       " {'appid': 2937910, 'name': \"Don't Disturb Your STEPMOM\"},\n",
       " {'appid': 2937930, 'name': 'Deadlands Duel: Time Rift Rumble'},\n",
       " {'appid': 2937970, 'name': 'TDS Demo'},\n",
       " {'appid': 2937980, 'name': 'House Of Chavez - uncensor patch'},\n",
       " {'appid': 2937990, 'name': 'Fairy Biography 6 : Revenge'},\n",
       " {'appid': 2938030, 'name': 'Cyborg Runner'},\n",
       " {'appid': 2938070, 'name': 'Volt Recharge'},\n",
       " {'appid': 2938130, 'name': 'Netherworld Covenant Demo'},\n",
       " {'appid': 2937170, 'name': 'Iridescent'},\n",
       " {'appid': 2937200, 'name': 'Dwarf Fortress Soundtrack'},\n",
       " {'appid': 2937280, 'name': 'ChronoClone'},\n",
       " {'appid': 2937300, 'name': 'Ripple and Frawg: The Seasonal Song Demo'},\n",
       " {'appid': 2937310, 'name': 'Tidal Nexus Online'},\n",
       " {'appid': 2937320, 'name': \"幻恋の夜宴 - こいしのサポートパック Koishi's Supporter Pack\"},\n",
       " {'appid': 2937340, 'name': 'Mind The Abyss'},\n",
       " {'appid': 2937360, 'name': 'My Days With Mia'},\n",
       " {'appid': 2937370, 'name': 'Into the V.O.I.D.'},\n",
       " {'appid': 2937380, 'name': 'KingdomScape'},\n",
       " {'appid': 2937390, 'name': 'GeoMaze'},\n",
       " {'appid': 2937410, 'name': 'The Public Domain: The Game'},\n",
       " {'appid': 2937420, 'name': 'Murder Next Room Demo'},\n",
       " {'appid': 2937440, 'name': 'Rival Stars Horse Racing: VR Edition'},\n",
       " {'appid': 2937480, 'name': 'Dungeons of Dolkara'},\n",
       " {'appid': 2937490, 'name': 'Iterations'},\n",
       " {'appid': 2937520, 'name': 'Sacred Earth - Reverie'},\n",
       " {'appid': 2937540, 'name': 'Quatro! - Eclipse DLC'},\n",
       " {'appid': 2937570, 'name': 'Darwake: Awakening from the Nightmare Demo'},\n",
       " {'appid': 2937580, 'name': 'Kewtia: Crystallite Hunt Demo'},\n",
       " {'appid': 2937620, 'name': 'The Last Spin'},\n",
       " {'appid': 2936650, 'name': 'Elemental Empire'},\n",
       " {'appid': 2936660, 'name': 'THE BACKWORLDS Demo'},\n",
       " {'appid': 2936700, 'name': 'Backpack'},\n",
       " {'appid': 2936740, 'name': 'Lightcube Pixel Art Editor Demo'},\n",
       " {'appid': 2936760, 'name': 'Sleep Swimmer'},\n",
       " {'appid': 2936790, 'name': 'Money Farm'},\n",
       " {'appid': 2936820, 'name': 'The Suitor'},\n",
       " {'appid': 2936890, 'name': 'Major Marble Demo'},\n",
       " {'appid': 2936910, 'name': 'Project Zero Demo'},\n",
       " {'appid': 2936950, 'name': 'Artifact Seeker:Paladin'},\n",
       " {'appid': 2936980, 'name': 'Steal It Demo'},\n",
       " {'appid': 2936990, 'name': 'Hungry Mouse'},\n",
       " {'appid': 2937000, 'name': 'Unbroken Demo'},\n",
       " {'appid': 2937030, 'name': '甜心AI追捕计划 -  画质增强4K扩展包'},\n",
       " {'appid': 2937060,\n",
       "  'name': 'Fantasy Grounds - Savage Rifts(R): Ghost Roads Adventure'},\n",
       " {'appid': 2937070, 'name': 'To Carry a Sword Soundtrack'},\n",
       " {'appid': 2937080, 'name': 'Sunny Grove Demo'},\n",
       " {'appid': 2937110, 'name': 'Super Sized Rescue Squad'},\n",
       " {'appid': 2937130, 'name': 'Create & Conquer'},\n",
       " {'appid': 2936140, 'name': '不会要俺来拯救世界吧!'},\n",
       " {'appid': 2936160, 'name': 'Pyramid Game'},\n",
       " {'appid': 2936170, 'name': 'Dusk Pub R18 patch'},\n",
       " {'appid': 2936180, 'name': '茜色'},\n",
       " {'appid': 2936190, 'name': 'Paradise Beach Simulator'},\n",
       " {'appid': 2936220, 'name': '最强祖师'},\n",
       " {'appid': 2936260, 'name': 'Lust Mansion 🔞'},\n",
       " {'appid': 2936280, 'name': 'Artifact Seeker:the last Paladin'},\n",
       " {'appid': 2936350, 'name': 'Tank Chess'},\n",
       " {'appid': 2936360, 'name': '混沌战域'},\n",
       " {'appid': 2936370, 'name': 'Escape from the Cannibal Family'},\n",
       " {'appid': 2936380, 'name': 'Miya'},\n",
       " {'appid': 2936390, 'name': 'Punk A.F. Playtest'},\n",
       " {'appid': 2936420, 'name': 'Ghost Moon High Noon'},\n",
       " {'appid': 2936450, 'name': 'Paper Sky Demo'},\n",
       " {'appid': 2936460, 'name': '极限侦探 Playtest'},\n",
       " {'appid': 2936470, 'name': 'A Fistful Of Yankees'},\n",
       " {'appid': 2936560, 'name': 'World War Armies - Legendary TAMER Pack'},\n",
       " {'appid': 2936570, 'name': 'World War Armies - Legendary PUMA Pack'},\n",
       " {'appid': 2936580, 'name': 'World War Armies - Legendary MAMNT Pack'},\n",
       " {'appid': 2936590,\n",
       "  'name': \"Mystical Riddles: Ghostly Park Collector's Edition\"},\n",
       " {'appid': 2936600, 'name': 'Mystical Riddles: Ghostly Park DLC'},\n",
       " {'appid': 2936610, 'name': 'Siberian Dawn Heroes of the Union'},\n",
       " {'appid': 2935650, 'name': 'Tortuga City'},\n",
       " {'appid': 2935680, 'name': 'Agent Brain: Tricky Puzzles Demo'},\n",
       " {'appid': 2935710, 'name': 'Disinherited'},\n",
       " {'appid': 2935730, 'name': 'Rivals 2 Playtest'},\n",
       " {'appid': 2935740, 'name': 'Spanky! Original Game Soundtrack'},\n",
       " {'appid': 2935780, 'name': 'Grand Shooter'},\n",
       " {'appid': 2935820, 'name': 'To Hell and Back'},\n",
       " {'appid': 2935830, 'name': 'Medieval Darkness Playtest'},\n",
       " {'appid': 2935840, 'name': 'POOOOL'},\n",
       " {'appid': 2935920, 'name': 'へなぽらんど - 追加アバター部屋'},\n",
       " {'appid': 2935930, 'name': 'Drewdler'},\n",
       " {'appid': 2935940, 'name': '[Test Subject Name] Closed Playtest'},\n",
       " {'appid': 2935970, 'name': 'TZW'},\n",
       " {'appid': 2936010, 'name': 'Eternal-Time-Love'},\n",
       " {'appid': 2936060, 'name': '电码无声'},\n",
       " {'appid': 2936090, 'name': '极限侦探'},\n",
       " {'appid': 2936110, 'name': \"The Leviathan's Fantasy（武士与阴阳师）\"},\n",
       " {'appid': 2936120, 'name': 'Marvel Rivals Playtest'},\n",
       " {'appid': 2935160, 'name': 'Love Undying: A Kiss Before Dawn'},\n",
       " {'appid': 2935230, 'name': 'Speakeasy: Last Call'},\n",
       " {'appid': 2935280, 'name': 'Zector 7'},\n",
       " {'appid': 2935290, 'name': 'Protocol Five'},\n",
       " {'appid': 2935360, 'name': 'Blood Typers Demo'},\n",
       " {'appid': 2935380, 'name': 'Little Fire Girl Fights Final Boss'},\n",
       " {'appid': 2935430, 'name': 'Dart The Dog'},\n",
       " {'appid': 2935440, 'name': 'The Last Warmage Demo'},\n",
       " {'appid': 2935450, 'name': 'OMG Words Playtest'},\n",
       " {'appid': 2935460, 'name': 'Descent: The Dark Corridors'},\n",
       " {'appid': 2935540, 'name': 'SneakyBeings'},\n",
       " {'appid': 2935560, 'name': 'Geometry Roll Simulator'},\n",
       " {'appid': 2935570, 'name': 'Silks of Mind'},\n",
       " {'appid': 2935580, 'name': 'Wildermyth - Omenroad'},\n",
       " {'appid': 2935620, 'name': 'DDI Touring Car Championship'},\n",
       " {'appid': 2934650, 'name': 'Ocean Mirror Playtest'},\n",
       " {'appid': 2934660, 'name': 'Ducking Grenades'},\n",
       " {'appid': 2934670, 'name': 'Phantom Fury - Digital Artbook'},\n",
       " {'appid': 2934680, 'name': 'ぼったくりタクシー'},\n",
       " {'appid': 2934690, 'name': '植物战争：基因狂潮'},\n",
       " {'appid': 2934710, 'name': 'Escape from CALYPSO Demo'},\n",
       " {'appid': 2934760, 'name': 'Forced Sacrifice: Lost Soul Demo'},\n",
       " {'appid': 2934800, 'name': 'Frogbound: the Legend of Sir Hopper Demo'},\n",
       " {'appid': 2934870, 'name': 'Cyberpunk Sister Playtest'},\n",
       " {'appid': 2934880, 'name': 'HOT MAGIC SAUSAGE'},\n",
       " {'appid': 2934900, 'name': 'Astro Colony Dedicated Server Linux'},\n",
       " {'appid': 2934910, 'name': 'Sinister Mansion'},\n",
       " {'appid': 2934930, 'name': 'Among The Game'},\n",
       " {'appid': 2934940, 'name': 'Do You Remember?'},\n",
       " {'appid': 2934980, 'name': 'Buffed'},\n",
       " {'appid': 2934990, 'name': 'Pocket Idler: Fishing Pond'},\n",
       " {'appid': 2935020, 'name': 'D-Day VR Museum Playtest'},\n",
       " {'appid': 2935040, 'name': 'Galaxy Burger Demo'},\n",
       " {'appid': 2935090, 'name': 'Evil Mountains Demo'},\n",
       " {'appid': 2935100, 'name': 'HyperPOP Demo'},\n",
       " {'appid': 2935120, 'name': 'Exorcise'},\n",
       " {'appid': 2934140, 'name': 'Super Rolling Heroes Deluxe Demo'},\n",
       " {'appid': 2934150, 'name': '史莱姆糯米'},\n",
       " {'appid': 2934200, 'name': 'Move The Chains Demo'},\n",
       " {'appid': 2934260, 'name': 'The Crew Motorfest - Demo - Ubisoft Activation'},\n",
       " {'appid': 2934290, 'name': 'Cyberpunk Sister'},\n",
       " {'appid': 2934320, 'name': 'Where are We?'},\n",
       " {'appid': 2934330, 'name': 'RADIOSOL'},\n",
       " {'appid': 2934360, 'name': '100 Istanbul Cats - Extra Content'},\n",
       " {'appid': 2934370, 'name': '100 Istanbul Cats - Artbook'},\n",
       " {'appid': 2934380, 'name': '100 Istanbul Cats Soundtrack'},\n",
       " {'appid': 2934400, 'name': 'Hexton'},\n",
       " {'appid': 2934410, 'name': 'Stoneguard Demo'},\n",
       " {'appid': 2934420, 'name': 'Stoneguard Playtest'},\n",
       " {'appid': 2934430, 'name': 'Planetiles Soundtrack'},\n",
       " {'appid': 2934470, 'name': 'Legends of Aden'},\n",
       " {'appid': 2934550, 'name': '箱庭小駅伝2'},\n",
       " {'appid': 2934570, 'name': 'Forced Sacrifice: Lost Soul Soundtrack'},\n",
       " {'appid': 2934620, 'name': 'Project DANCE'},\n",
       " {'appid': 2934630, 'name': 'Harvest hustlers'},\n",
       " {'appid': 2933700, 'name': 'Hades II Technical Test'},\n",
       " {'appid': 2933740, 'name': 'Tower Field'},\n",
       " {'appid': 2933770, 'name': 'Epic Roller Coasters - Dynasty Dash'},\n",
       " {'appid': 2933800, 'name': 'Upon the Eldritch Planet Demo'},\n",
       " {'appid': 2933810, 'name': 'Lovebugz: An Insect Dating Sim'},\n",
       " {'appid': 2933820, 'name': 'Kenoma: Action Without Action Demo'},\n",
       " {'appid': 2933870, 'name': 'Mbembe Radio'},\n",
       " {'appid': 2933910, 'name': 'catboyZOOM'},\n",
       " {'appid': 2933930, 'name': 'Tetris Dungeon'},\n",
       " {'appid': 2933950, 'name': '极简乱斗2'},\n",
       " {'appid': 2933970, 'name': 'RoboSquad Revolution: Maverick Supporter Pack'},\n",
       " {'appid': 2933980, 'name': 'Popping Bubble!'},\n",
       " {'appid': 2933990, 'name': 'Cats Hidden in Christmas'},\n",
       " {'appid': 2934010, 'name': 'Zen Rage'},\n",
       " {'appid': 2934050, 'name': 'Shadow Corridor 2 雨ノ四葩 Soundtrack'},\n",
       " {'appid': 2934080, 'name': 'Cats Hidden in England'},\n",
       " {'appid': 2934090, 'name': 'Onibi'},\n",
       " {'appid': 2934100, 'name': 'Twinworld Survivor'},\n",
       " {'appid': 2934110, 'name': 'Death Horizon: Cyberfusion'},\n",
       " {'appid': 2934120, 'name': 'Axona Demo'},\n",
       " {'appid': 2933140, 'name': 'Forgotten Red Fog Demo'},\n",
       " {'appid': 2933180, 'name': '女神保卫战'},\n",
       " {'appid': 2933230, 'name': 'Bug & Seek - Weevils DLC'},\n",
       " {'appid': 2933240, 'name': 'Desk Deck Heroes'},\n",
       " {'appid': 2933250, 'name': 'Walk the Times Demo'},\n",
       " {'appid': 2933260, 'name': 'Kenoma: Action Without Action'},\n",
       " {'appid': 2933290, 'name': 'Clap Clap'},\n",
       " {'appid': 2933350, 'name': 'Fucus'},\n",
       " {'appid': 2933370, 'name': 'Nocturnals Demo'},\n",
       " {'appid': 2933420, 'name': 'Realmbound'},\n",
       " {'appid': 2933430, 'name': 'Seafrog Demo'},\n",
       " {'appid': 2933470, 'name': 'Atomite'},\n",
       " {'appid': 2933490, 'name': 'Nine Floors'},\n",
       " {'appid': 2933500, 'name': 'S.T.A.R.W.I.E.L.D'},\n",
       " {'appid': 2933520, 'name': 'Knightly Passions (Bonus Pack)'},\n",
       " {'appid': 2933530, 'name': 'FlowerRock'},\n",
       " {'appid': 2933590, 'name': 'Boneless VR'},\n",
       " {'appid': 2933600, 'name': 'Project Dragon Playtest'},\n",
       " {'appid': 2932640, 'name': 'Eko and the bewitched lands Demo'},\n",
       " {'appid': 2932660, 'name': 'Manor Lords - Artbook'},\n",
       " {'appid': 2932690, 'name': 'Recordance Demo'},\n",
       " {'appid': 2932710, 'name': \"Storm's Eye Demo\"},\n",
       " {'appid': 2932740, 'name': 'The Well of Life Cannot Move'},\n",
       " {'appid': 2932860, 'name': 'World of Crypts'},\n",
       " {'appid': 2932880, 'name': 'A Few Days With Cassandra'},\n",
       " {'appid': 2932920, 'name': 'Mayonaka 8 chome - 迷央8丁目'},\n",
       " {'appid': 2932930, 'name': '100 Korea Cats'},\n",
       " {'appid': 2932980, 'name': 'Cute Socks'},\n",
       " {'appid': 2933010, 'name': 'GameGuru MAX Low Poly Mini Kit - Undead Quarry'},\n",
       " {'appid': 2933040, 'name': 'GameGuru MAX Low Poly Mini Kit - Goblin Camp'},\n",
       " {'appid': 2933060, 'name': 'Haloo'},\n",
       " {'appid': 2933090, 'name': 'Breach the Abyss'},\n",
       " {'appid': 2932140, 'name': '茶言茶语'},\n",
       " {'appid': 2932160, 'name': 'KEB UP!'},\n",
       " {'appid': 2932170, 'name': 'Heraean Games'},\n",
       " {'appid': 2932180, 'name': 'Великие подвиги древних Русов'},\n",
       " {'appid': 2932240, 'name': 'ハメ堕ち人妻ナース～忘れたくても体は覚えているマゾ牝の本性～デラックスパック'},\n",
       " {'appid': 2932300, 'name': '無盡愛麗絲 Playtest'},\n",
       " {'appid': 2932310, 'name': '无生之荣 Demo'},\n",
       " {'appid': 2932410, 'name': 'Forsaken Frontiers Demo'},\n",
       " {'appid': 2932430, 'name': 'Level UP! Factory'},\n",
       " {'appid': 2932450, 'name': 'Airsoft Online'},\n",
       " {'appid': 2932490, 'name': 'CYBORG-PROTOTYPE'},\n",
       " {'appid': 2932520, 'name': '黄金四目'},\n",
       " {'appid': 2932530, 'name': 'Mirror of Heaven Demo'},\n",
       " {'appid': 2932550, 'name': 'Five Years Old Memories'},\n",
       " {'appid': 2932570, 'name': 'Dirty Love'},\n",
       " {'appid': 2932610, 'name': 'Be the Ruler: Prologue'},\n",
       " {'appid': 2932620, 'name': 'Hazard Pay Playtest'},\n",
       " {'appid': 2932630, 'name': 'Manor Lords - Soundtrack'},\n",
       " {'appid': 2931640, 'name': 'Mazelit Demo'},\n",
       " {'appid': 2931650, 'name': 'Moving Jigsaw Puzzles Demo'},\n",
       " {'appid': 2931680, 'name': 'Venatrix'},\n",
       " {'appid': 2931690, 'name': 'Project Werwolf'},\n",
       " {'appid': 2931710, 'name': 'Angry Tiny Sun Playtest'},\n",
       " {'appid': 2931720, 'name': \"Neighbor's Wife\"},\n",
       " {'appid': 2931750, 'name': 'Jurnal Malam : Bestfriend'},\n",
       " {'appid': 2931760, 'name': 'Infinikin'},\n",
       " {'appid': 2931770, 'name': 'BREAK IT!'},\n",
       " {'appid': 2931790, 'name': 'Capslock'},\n",
       " {'appid': 2931800, 'name': 'Dance Junkie'},\n",
       " {'appid': 2931810, 'name': 'ハメ堕ち人妻ナース～忘れたくても体は覚えているマゾ牝の本性～'},\n",
       " {'appid': 2931820, 'name': 'ZERO PROTOCOL Demo'},\n",
       " {'appid': 2931850, 'name': 'REDEMPTION'},\n",
       " {'appid': 2931860, 'name': 'Incremental Island Demo'},\n",
       " {'appid': 2931910, 'name': 'Dungeon Slime Hero Playtest'},\n",
       " {'appid': 2931950, 'name': 'Lloyd the Monkey 3: Judgement Day Demo'},\n",
       " {'appid': 2932010, 'name': 'TRADESMAN: Deal to Dealer Demo'},\n",
       " {'appid': 2932020, 'name': 'Spark'},\n",
       " {'appid': 2932050, 'name': 'Undeliverable Playtest'},\n",
       " {'appid': 2932070, 'name': 'Fearful Injection'},\n",
       " {'appid': 2931140, 'name': 'Snowman From Outer Space'},\n",
       " {'appid': 2931160, 'name': 'The Aching Aversion'},\n",
       " {'appid': 2931170, 'name': \"Don't drop luggage! - 荷物を落とすな！ -\"},\n",
       " {'appid': 2931190, 'name': 'Aim Zen Demo'},\n",
       " {'appid': 2931200, 'name': '蓝宝石奇遇 Sapphire and girls'},\n",
       " {'appid': 2931210, 'name': 'Lustful Butler And Charming Sisters'},\n",
       " {'appid': 2931250, 'name': 'フィッシュオアチキン Demo'},\n",
       " {'appid': 2931270, 'name': 'The Fight Aftermath'},\n",
       " {'appid': 2931280, 'name': 'Legends Resurrected Online'},\n",
       " {'appid': 2931300, 'name': '星际远航：宝藏探索'},\n",
       " {'appid': 2931340, 'name': 'Blue'},\n",
       " {'appid': 2931350, 'name': 'Too Small To Matter Demo'},\n",
       " {'appid': 2931360, 'name': 'ZOE Begone! Playtest'},\n",
       " {'appid': 2931380, 'name': 'UBERSLAUGHTER Demo'},\n",
       " {'appid': 2931410, 'name': 'All of menu - Jump on clouds Soundtrack'},\n",
       " {'appid': 2931450, 'name': 'Nora - Forest Nights'},\n",
       " {'appid': 2931520, 'name': 'Marble Mechanics'},\n",
       " {'appid': 2931530, 'name': 'The Faceless Man'},\n",
       " {'appid': 2931540, 'name': 'BuzzLabs Demo'},\n",
       " {'appid': 2931550, 'name': 'Zhigu Military Exorcist Demo'},\n",
       " {'appid': 2931560, 'name': 'Working On It'},\n",
       " {'appid': 2931570, 'name': 'Pilapila Demo'},\n",
       " {'appid': 2931590, 'name': 'Pilapila Soundtrack'},\n",
       " {'appid': 2931600, 'name': 'Scrap Collector'},\n",
       " {'appid': 2931630, 'name': 'World of Unlit Demo'},\n",
       " {'appid': 2930660, 'name': 'Bomber Royale'},\n",
       " {'appid': 2930680, 'name': '人类动物园简易设定集 Human Zoo Settings'},\n",
       " {'appid': 2930690, 'name': 'NaalTales Playtest'},\n",
       " {'appid': 2930720, 'name': 'Brids Huddled Together'},\n",
       " {'appid': 2930740, 'name': 'Stevedore 2024 Demo'},\n",
       " {'appid': 2930750, 'name': 'CATACLYSM: Even Angels Sin Soundtrack'},\n",
       " {'appid': 2930770, 'name': 'CrateMage'},\n",
       " {'appid': 2930790, 'name': 'Korean Rail Driving Tour-LRT Uijeongbu Demo'},\n",
       " {'appid': 2930800, 'name': '哪吒过海 Demo'},\n",
       " {'appid': 2930850, 'name': '梦幻诗篇'},\n",
       " {'appid': 2930880, 'name': 'Angel Legion-DLC Bay\\xa0Goddess\\xa0(White II)'},\n",
       " {'appid': 2930890, 'name': 'Papercut Art Gallery-Growth'},\n",
       " {'appid': 2930900, 'name': '帝国末日前的学院狂想'},\n",
       " {'appid': 2930910, 'name': '宅府诡话'},\n",
       " {'appid': 2930930, 'name': 'Card Clash Chronicles'},\n",
       " {'appid': 2930940, 'name': '佛兰德斯的狗 A Dog of Flanders Playtest'},\n",
       " {'appid': 2930960, 'name': 'Angel Legion-DLC Charming Mystery (Red)'},\n",
       " {'appid': 2931010, 'name': 'Res Extensa'},\n",
       " {'appid': 2931030, 'name': 'Bug Bite Sugar Defence'},\n",
       " {'appid': 2931040, 'name': 'Poor Thief'},\n",
       " {'appid': 2931050, 'name': 'The Great Rebellion Soundtrack'},\n",
       " {'appid': 2931070, 'name': 'dusk shrouded Playtest'},\n",
       " {'appid': 2931080, 'name': 'Holy Clash Cards - Expansion Pack'},\n",
       " {'appid': 2931090, 'name': 'dusk shrouded Demo'},\n",
       " {'appid': 2931100, 'name': 'Celestial Wonders Pack'},\n",
       " {'appid': 2931110, 'name': 'Verdant Realms Pack'},\n",
       " {'appid': 2931120, 'name': '勇者之书2：重生 Demo'},\n",
       " {'appid': 2930140, 'name': 'Cat Got Your Tongue'},\n",
       " {'appid': 2930150, 'name': 'DeSoloFender'},\n",
       " {'appid': 2930180, 'name': 'Archery Simulator 2'},\n",
       " {'appid': 2930190, 'name': 'Oil Truck Transporter'},\n",
       " {'appid': 2930200, 'name': 'City Construction Simulator 2'},\n",
       " {'appid': 2930210, 'name': 'MY DOG!'},\n",
       " {'appid': 2930240, 'name': 'Clean Sweep'},\n",
       " {'appid': 2930270, 'name': 'Tackle for Loss'},\n",
       " {'appid': 2930290, 'name': 'Love at The Milky Way Diner'},\n",
       " {'appid': 2930300, 'name': 'Love at The Milky Way Diner Demo'},\n",
       " {'appid': 2930320, 'name': 'Pharmacy Simulator'},\n",
       " {'appid': 2930330, 'name': 'Vikings: Valhalla Saga'},\n",
       " {'appid': 2930380, 'name': 'Magic Trap'},\n",
       " {'appid': 2930390, 'name': 'Falco Tunes'},\n",
       " {'appid': 2930410, 'name': 'Cyber Seekers: Conquest'},\n",
       " {'appid': 2930420, 'name': 'Versus Dev Demo'},\n",
       " {'appid': 2930440, 'name': 'Prism Indigo DX Soundtrack'},\n",
       " {'appid': 2930500, 'name': 'DNA Episode 4'},\n",
       " {'appid': 2930520, 'name': \"Runi's Math Castle Demo\"},\n",
       " {'appid': 2930540, 'name': 'Nautical Survival Demo'},\n",
       " {'appid': 2930550, 'name': 'Parts of the Elephant'},\n",
       " {'appid': 2930560, 'name': 'Chicken Coop Demo'},\n",
       " {'appid': 2930570,\n",
       "  'name': 'The Adventures of Emoji 4: Fly High Mouse Remastered'},\n",
       " {'appid': 2930580, 'name': 'Puzzlehub: Businesswoman Hentai'},\n",
       " {'appid': 2930620, 'name': 'KillerVegetable'},\n",
       " {'appid': 2929640, 'name': 'Good Kill! Demo'},\n",
       " {'appid': 2929650, 'name': 'Out Of Hell (Beta v1.0)'},\n",
       " {'appid': 2929660, 'name': 'Touhou ~ Dreams of a Sunflower'},\n",
       " {'appid': 2929670, 'name': 'Ardency: Heart of the Rebellion'},\n",
       " {'appid': 2929680, 'name': \"Boats N' Hoes\"},\n",
       " {'appid': 2929690, 'name': 'GalRock Girls Demo'},\n",
       " {'appid': 2929710, 'name': '混沌勇者村 Playtest'},\n",
       " {'appid': 2929760, 'name': 'SokoPenguin Demo'},\n",
       " {'appid': 2929780, 'name': 'Zooms Rampage'},\n",
       " {'appid': 2929790, 'name': 'ACROFLOW'},\n",
       " {'appid': 2929800, 'name': 'Absolute Insanity Demo'},\n",
       " {'appid': 2929820, 'name': 'IRIS'},\n",
       " {'appid': 2929830, 'name': \"Megan's Adventure\"},\n",
       " {'appid': 2929840, 'name': 'Dreams and bubbles'},\n",
       " {'appid': 2929940, 'name': 'IRIS Demo'},\n",
       " {'appid': 2929960, 'name': 'Planet Game'},\n",
       " {'appid': 2929970, 'name': 'Turtle Riders Demo'},\n",
       " {'appid': 2929990, 'name': 'Find Cats 吃货猫奇遇 Demo'},\n",
       " {'appid': 2930000,\n",
       "  'name': 'Kunkun Terror Express-Ultimate Fan Edition(upgrade)'},\n",
       " {'appid': 2930010, 'name': 'No Way Out'},\n",
       " {'appid': 2930070, 'name': 'Balance'},\n",
       " {'appid': 2930080, 'name': 'Trading Towns Idle'},\n",
       " {'appid': 2930090, 'name': '魔星兄弟 Demo'},\n",
       " {'appid': 2930100, 'name': 'The Fallen Kingdoms Demo'},\n",
       " {'appid': 2930130, 'name': 'ROVA'},\n",
       " {'appid': 2929130, 'name': 'Bloodwood Dungeon'},\n",
       " {'appid': 2929180, 'name': 'We Need Space'},\n",
       " {'appid': 2929190, 'name': 'Delic Demo'},\n",
       " {'appid': 2929200, 'name': 'Hentai Casual Jigsaw - Vampires'},\n",
       " {'appid': 2929230, 'name': 'Affordable Healthcare'},\n",
       " {'appid': 2929240, 'name': 'Floor10'},\n",
       " {'appid': 2929260, 'name': 'SWARM 2'},\n",
       " {'appid': 2929280, 'name': 'Antiyoy Demo'},\n",
       " {'appid': 2929290, 'name': 'Stretchmancer'},\n",
       " {'appid': 2929300, 'name': 'QUESTSCAPE: Survival'},\n",
       " {'appid': 2929310,\n",
       "  'name': \"Clutter Puzzle Magazine Vol. 16 No. 2 Collector's Edition\"},\n",
       " {'appid': 2929320, 'name': '消防员康纳 - FireFighter Connor CG Image Pack'},\n",
       " {'appid': 2929340, 'name': 'Relic Odyssey: Ruins Of Xantao Playtest'},\n",
       " {'appid': 2929390, 'name': 'Randomice Demo'},\n",
       " {'appid': 2929410, 'name': 'Relict'},\n",
       " {'appid': 2929440, 'name': 'The Henchmen Playtest'},\n",
       " {'appid': 2929510, 'name': 'An Agonized Mind'},\n",
       " {'appid': 2929540, 'name': 'Dragon Ruins'},\n",
       " {'appid': 2929550, 'name': 'The Netcode Conflict'},\n",
       " {'appid': 2929560, 'name': 'Terralysia Demo'},\n",
       " {'appid': 2929570, 'name': 'Escape The Evil'},\n",
       " {'appid': 2929580, 'name': 'Monster Mash Demo'},\n",
       " {'appid': 2929590, 'name': 'All Fridges are Psychotic'},\n",
       " {'appid': 2929600, 'name': \"Childhood's RUSH Soundtrack\"},\n",
       " {'appid': 2929620, 'name': '冒险日记 Adventure Diary- 扩展包'},\n",
       " {'appid': 2928630,\n",
       "  'name': \"DACHstudio Puzzle Box - Illumarie's fantastic characters\"},\n",
       " {'appid': 2928650, 'name': 'Only Up: SKIBIDI TOGETHER'},\n",
       " {'appid': 2928660, 'name': 'BACKROOMS INVASION'},\n",
       " {'appid': 2928670, 'name': 'Call of the Grave'},\n",
       " {'appid': 2928690, 'name': 'Wandness'},\n",
       " {'appid': 2928730, 'name': 'Wandness Demo'},\n",
       " {'appid': 2928740, 'name': 'Not Alone'},\n",
       " {'appid': 2928750, 'name': 'Shout Seven'},\n",
       " {'appid': 2928770, 'name': 'Carnival'},\n",
       " {'appid': 2928790, 'name': 'Alpine'},\n",
       " {'appid': 2928800, 'name': 'Weapon Builder'},\n",
       " {'appid': 2928830, 'name': 'Blenderman'},\n",
       " {'appid': 2928890, 'name': 'Alchemy Mastery DEMO'},\n",
       " {'appid': 2928950, 'name': 'Cats in Heat - Sunshine Resort'},\n",
       " {'appid': 2928990, 'name': 'KILLCOLOR'},\n",
       " {'appid': 2929000, 'name': 'Topac Battle - Supporter Pack'},\n",
       " {'appid': 2929020, 'name': 'A Twisted Place'},\n",
       " {'appid': 2929030, 'name': \"Kick'n Hell Demo\"},\n",
       " {'appid': 2929060, 'name': 'Wild West Blast'},\n",
       " {'appid': 2929080, 'name': 'Antiyoy'},\n",
       " {'appid': 2929110, 'name': 'HOYO'},\n",
       " {'appid': 2929120, 'name': '따님은 제가 데리고 있습니다'},\n",
       " {'appid': 2928150, 'name': '囚偶：重逢 Demo'},\n",
       " {'appid': 2928190, 'name': 'There is NO PLAN B'},\n",
       " {'appid': 2928210, 'name': 'Tutor X Hypnosis2 - Trial Ver -'},\n",
       " {'appid': 2928280, 'name': 'Crime Simulator: Prologue'},\n",
       " {'appid': 2928320, 'name': 'PolyDrift Demo'},\n",
       " {'appid': 2928360, 'name': 'Tank Factory Simulator'},\n",
       " {'appid': 2928370, 'name': \"Ash & Adam's GOBSMACKED Demo\"},\n",
       " {'appid': 2928390, 'name': 'Find Cats 吃货猫奇遇'},\n",
       " {'appid': 2928420, 'name': 'Driver4VR Puppeteer: Full Body Estimation'},\n",
       " {'appid': 2928460, 'name': 'Gemwielders'},\n",
       " {'appid': 2928470, 'name': 'WW2: Bunker Simulator - Origins'},\n",
       " {'appid': 2928480, 'name': 'BossCrafter'},\n",
       " {'appid': 2928490, 'name': 'Melon Man'},\n",
       " {'appid': 2928500, 'name': 'Endless Casual Drive'},\n",
       " {'appid': 2928520, 'name': 'Recycling Center Simulator'},\n",
       " {'appid': 2928540, 'name': 'OutRage: Fight Fest Demo'},\n",
       " {'appid': 2928570, 'name': 'Néro & Sci ∫ Integral Edition'},\n",
       " {'appid': 2928580, 'name': 'Felampire'},\n",
       " {'appid': 2928590, 'name': 'Gaia'},\n",
       " {'appid': 2928610, 'name': \"There's no Socks\"},\n",
       " {'appid': 2927680, 'name': 'Cardverse Demo'},\n",
       " {'appid': 2927690, 'name': 'Swing Into Zero-G Demo'},\n",
       " {'appid': 2927720, 'name': 'Pawn Legends'},\n",
       " {'appid': 2927750, 'name': 'Vector Bias Playtest'},\n",
       " {'appid': 2927780, 'name': 'Last Outpost'},\n",
       " {'appid': 2927800, 'name': 'Riser of Babel'},\n",
       " {'appid': 2927820, 'name': 'Prism Indigo DX'},\n",
       " {'appid': 2927830, 'name': 'DunJaunt'},\n",
       " {'appid': 2927840, 'name': 'Vedmaak'},\n",
       " {'appid': 2927850, 'name': \"Jumpers' mountain\"},\n",
       " {'appid': 2927860, 'name': 'Elfengard Hunter Slayer'},\n",
       " {'appid': 2927880, 'name': 'H.E.N.T.A.L.K.E.R.'},\n",
       " {'appid': 2927890, 'name': 'Flavors of Fortune'},\n",
       " {'appid': 2927910, 'name': 'Honey Bee'},\n",
       " {'appid': 2927940,\n",
       "  'name': \"Rusty's Day Off: Episode One - Janitor on Duty Demo\"},\n",
       " {'appid': 2927950, 'name': 'Project Starcrash Demo'},\n",
       " {'appid': 2927960, 'name': 'Vector Space'},\n",
       " {'appid': 2927990, 'name': 'Sleeping With Sakuya Izayoi - ASMR DLC'},\n",
       " {'appid': 2928010, 'name': 'Zenatria'},\n",
       " {'appid': 2928030, 'name': 'Cryowakers Demo'},\n",
       " {'appid': 2928050, 'name': 'Carpe Dino'},\n",
       " {'appid': 2928070, 'name': 'Bob the Block: Rebooted'},\n",
       " {'appid': 2928080, 'name': 'Ezerath 3D'},\n",
       " {'appid': 2928090, 'name': 'Dungeon Mercenaries'},\n",
       " {'appid': 2927140, 'name': 'The horrible inside'},\n",
       " {'appid': 2927150, 'name': 'Karting with Animals'},\n",
       " {'appid': 2927160, 'name': 'Dynamite it!'},\n",
       " {'appid': 2927180, 'name': \"Who's the BOSS\"},\n",
       " {'appid': 2927190, 'name': 'Cashier Sim'},\n",
       " {'appid': 2927220, 'name': \"Let's go Home!\"},\n",
       " {'appid': 2927260, 'name': 'Hentai Misuzu'},\n",
       " {'appid': 2927290, 'name': 'The Adventures of Lily & Leo'},\n",
       " {'appid': 2927330, 'name': \"Mama's Quesadillaria\"},\n",
       " {'appid': 2927370, 'name': 'Kill The Clock Demo'},\n",
       " {'appid': 2927380, 'name': 'Paw Pirates'},\n",
       " {'appid': 2927390, 'name': 'Ereban: Shadow Legacy Soundtrack'},\n",
       " {'appid': 2927510, 'name': 'KilaFlow'},\n",
       " {'appid': 2927530, 'name': 'HyperPOP'},\n",
       " {'appid': 2927550, 'name': 'Polda 5'},\n",
       " {'appid': 2927570, 'name': 'Unearthing Invasions'},\n",
       " {'appid': 2927580, 'name': 'XPlayer'},\n",
       " {'appid': 2927590, 'name': 'Project Starcrash'},\n",
       " {'appid': 2927600, 'name': 'ナツノカナタ beyond Original Soundtrack'},\n",
       " {'appid': 2926680, 'name': 'Tiny'},\n",
       " {'appid': 2926710, 'name': 'Steambots'},\n",
       " {'appid': 2926730, 'name': 'Kill It With Fire 2 Soundtrack'},\n",
       " {'appid': 2926740, 'name': 'Ironmarked Demo'},\n",
       " {'appid': 2926760, 'name': 'Slime Farm Demo'},\n",
       " {'appid': 2926800, 'name': \"BABAVA's Playspace DEMO\"},\n",
       " {'appid': 2926820, 'name': 'Laysara: Summit Kingdom Soundtrack'},\n",
       " {'appid': 2926840, 'name': \"Farmer's Life - Pimp my Cottage DLC\"},\n",
       " {'appid': 2926850, 'name': 'Startenders Soundtrack'},\n",
       " {'appid': 2926910, 'name': 'Banishing You'},\n",
       " {'appid': 2926950, 'name': 'Crown Jewelz'},\n",
       " {'appid': 2926980, 'name': 'Combat Complex Demo'},\n",
       " {'appid': 2927000, 'name': 'CyberTaxi: Lunatic Nights'},\n",
       " {'appid': 2927030, 'name': 'Zhigu Military Exorcist'},\n",
       " {'appid': 2927050, 'name': '机械轮回 Cyber Loop'},\n",
       " {'appid': 2927060, 'name': '机械轮回 Cyber Loop Demo'},\n",
       " {'appid': 2927070, 'name': 'Meowstery of a Growing Aurora'},\n",
       " {'appid': 2927080, 'name': 'follow dream'},\n",
       " {'appid': 2927090, 'name': 'LAZERZ Dedicated Server'},\n",
       " {'appid': 2926170, 'name': 'Fuseless'},\n",
       " {'appid': 2926180,\n",
       "  'name': \"City Legends: The Witness in the Rye Collector's Edition\"},\n",
       " {'appid': 2926220, 'name': \"Kindvixen's\"},\n",
       " {'appid': 2926230, 'name': 'KASIORI'},\n",
       " {'appid': 2926270, 'name': 'NEKOTO'},\n",
       " {'appid': 2926290, 'name': 'PAKO - Car Chase Simulator Soundtrack'},\n",
       " {'appid': 2926300, 'name': 'Sales employee Takeru-Kun'},\n",
       " {'appid': 2926330, 'name': 'Looped Demo'},\n",
       " {'appid': 2926350, 'name': 'Morgman'},\n",
       " {'appid': 2926360, 'name': 'Cryptic Route Demo'},\n",
       " {'appid': 2926400, 'name': 'What happened to Kate'},\n",
       " {'appid': 2926420, 'name': 'My Dream Setup - Bathroom DLC'},\n",
       " {'appid': 2926430, 'name': 'My Dream Setup - Kitchen DLC'},\n",
       " {'appid': 2926460, 'name': 'Space Zone'},\n",
       " {'appid': 2926490, 'name': 'Tutor X Hypnosis - Trial Ver -'},\n",
       " {'appid': 2926540, 'name': 'Innsmouth 22 Demo'},\n",
       " {'appid': 2926550, 'name': 'Poltergeist Watcher'},\n",
       " {'appid': 2926570,\n",
       "  'name': 'CUSTOM ORDER MAID 3D2 Mature, Level-Headed, and Dependable Secretary Maid GP-01'},\n",
       " {'appid': 2926580,\n",
       "  'name': 'CUSTOM ORDER MAID 3D2 Mature, Level-Headed, and Dependable Secretary Maid GP-02'},\n",
       " {'appid': 2926590,\n",
       "  'name': 'CUSTOM ORDER MAID 3D2 Mature, Level-Headed, and Dependable Secretary Maid GP-01fb'},\n",
       " {'appid': 2926600, 'name': 'Withering Rooms Soundtrack'},\n",
       " {'appid': 2925580, 'name': 'Horny Mage Chronicles'},\n",
       " {'appid': 2925650, 'name': 'Sanguine Demo'},\n",
       " {'appid': 2925670, 'name': 'CONVRGENCE - Supporter Pack'},\n",
       " {'appid': 2925700, 'name': '11F Demo'},\n",
       " {'appid': 2925720, 'name': 'Mad World Survivors Demo'},\n",
       " {'appid': 2925730, 'name': 'Combat Cat'},\n",
       " {'appid': 2925740, 'name': 'Little Monster Demo'},\n",
       " {'appid': 2925750,\n",
       "  'name': 'Idle Champions - Jack the Pumpkin Sprout Familiar Pack'},\n",
       " {'appid': 2925760,\n",
       "  'name': 'Idle Champions - Classic Demogorgon Familiar Pack'},\n",
       " {'appid': 2925770, 'name': 'Idle Champions - Classic Remorhaz Familiar Pack'},\n",
       " {'appid': 2925780, 'name': 'Idle Champions - Mythic Diana Theme Pack'},\n",
       " {'appid': 2925790,\n",
       "  'name': 'Idle Champions - Painted Tortle Gromma Theme Pack'},\n",
       " {'appid': 2925860,\n",
       "  'name': 'Idle Champions - Aarakocra Glitch Orkira Skin & Feat Pack'},\n",
       " {'appid': 2925870, 'name': 'Hent-AI Puzzle'},\n",
       " {'appid': 2925880, 'name': 'Medical Diagnostic Simulator'},\n",
       " {'appid': 2925890, 'name': 'Army Troop 2: Modern Guns'},\n",
       " {'appid': 2925900, 'name': \"Rumble Club Founder's Pack - Silver\"},\n",
       " {'appid': 2925910, 'name': \"Rumble Club Founder's Pack - Bronze\"},\n",
       " {'appid': 2925950, 'name': 'CBO TD Demo'},\n",
       " {'appid': 2925980, 'name': '中学校ゾンビ2'},\n",
       " {'appid': 2925990, 'name': 'Escape the forest'},\n",
       " {'appid': 2926000, 'name': 'Central Killing Agency Soundtrack'},\n",
       " {'appid': 2926050, 'name': '【QuietMansion1】Unlock All Achievements'},\n",
       " {'appid': 2926070, 'name': 'Fairway to Hell'},\n",
       " {'appid': 2925060, 'name': 'LAST CALL Demo'},\n",
       " {'appid': 2925090, 'name': 'SU'},\n",
       " {'appid': 2925110, 'name': 'ASTRODELIA Soundtrack'},\n",
       " {'appid': 2925120, 'name': 'The Pale Piper'},\n",
       " {'appid': 2925130, 'name': 'Plane Starship2:Galactic Contender'},\n",
       " {'appid': 2925150, 'name': 'The Signal Playtest'},\n",
       " {'appid': 2925170, 'name': 'Silva'},\n",
       " {'appid': 2925240, 'name': 'ASTA-POOL: Can humans beat bots? Playtest'},\n",
       " {'appid': 2925270, 'name': 'CAN BULLET'},\n",
       " {'appid': 2925280, 'name': 'Tlatoani: Prologue'},\n",
       " {'appid': 2925310, 'name': 'Cats Around Us : Giant Cat'},\n",
       " {'appid': 2925330, 'name': 'A Difficult Game About Jumping'},\n",
       " {'appid': 2925340, 'name': 'World of Solaria'},\n",
       " {'appid': 2925350, 'name': 'DEPO - Buy me a coffee'},\n",
       " {'appid': 2925360, 'name': 'DEPO - Buy me a XXL coffee'},\n",
       " {'appid': 2925380, 'name': 'Fly Me To The Home! Playtest'},\n",
       " {'appid': 2925430, 'name': 'Sandwich Sim'},\n",
       " {'appid': 2925440, 'name': 'Season Changer'},\n",
       " {'appid': 2925450, 'name': 'Letter Lancers: Prologue'},\n",
       " {'appid': 2925500, 'name': 'Observe Demo'},\n",
       " {'appid': 2925510, 'name': 'Voyager-19'},\n",
       " {'appid': 2925530, 'name': 'Cat Cafe Simulator'},\n",
       " {'appid': 2925560, 'name': 'Dating Joyce: a Deckbuilding Game Demo'},\n",
       " {'appid': 2924600, 'name': 'TENNISTRONIC'},\n",
       " {'appid': 2924610, 'name': 'ARC: Antic Runes Combat Demo'},\n",
       " {'appid': 2924630, 'name': 'Tavern Manager Simulator Demo'},\n",
       " {'appid': 2924640, 'name': 'Pinball Storm:Lokanta Demo'},\n",
       " {'appid': 2924650, 'name': 'Aidan in Danger'},\n",
       " {'appid': 2924710, 'name': 'LAST CALL'},\n",
       " {'appid': 2924720, 'name': 'Path Weaver Soundtrack'},\n",
       " {'appid': 2924730, 'name': 'Spiritfall Soundtrack'},\n",
       " {'appid': 2924760, 'name': 'DIROK'},\n",
       " {'appid': 2924810, 'name': 'Undercover - Secret Management'},\n",
       " {'appid': 2924820, 'name': 'Delicious - Mansion Mystery'},\n",
       " {'appid': 2924850, 'name': 'Cyberpunk Horror'},\n",
       " {'appid': 2924870, 'name': 'Blood Within'},\n",
       " {'appid': 2924880, 'name': 'Artificial Fashionista'},\n",
       " {'appid': 2924890, 'name': 'AquaFantasia'},\n",
       " {'appid': 2924910, 'name': 'Twilight Bastion Demo'},\n",
       " {'appid': 2924920, 'name': 'Rogue Bot Adventure'},\n",
       " {'appid': 2924930, 'name': 'PAKO 3 Soundtrack'},\n",
       " {'appid': 2924950, 'name': 'Super Blockbuster Demo'},\n",
       " {'appid': 2924960, 'name': 'Just Plumbers in Hallowville Demo'},\n",
       " {'appid': 2924990, 'name': 'Duel Champions - Roguelike Deckbuilder'},\n",
       " {'appid': 2925000, 'name': 'Cosmic Breakout Playtest'},\n",
       " {'appid': 2925010, 'name': 'Cryptic Route'},\n",
       " {'appid': 2924060, 'name': 'Redlight Early Access Playtest'},\n",
       " {'appid': 2924090, 'name': 'Virtual World Heritage: Fågelsjö'},\n",
       " {'appid': 2924100, 'name': 'Mad Smartphone Tycoon Demo'},\n",
       " {'appid': 2924110, 'name': 'Tunnel Assault'},\n",
       " {'appid': 2924130, 'name': 'Forgotten Red Fog'},\n",
       " {'appid': 2924250,\n",
       "  'name': 'Master of Pieces © Jigsaw Puzzle DLC - Edge of Spring'},\n",
       " {'appid': 2924280, 'name': 'Deep Sea Hunter'},\n",
       " {'appid': 2924300, 'name': 'BackRooms:Lost demo'},\n",
       " {'appid': 2924320, 'name': 'Beat Slayer Soundtrack'},\n",
       " {'appid': 2924390, 'name': 'Find X'},\n",
       " {'appid': 2923580, 'name': 'Gribblin Defense'},\n",
       " {'appid': 2923590, 'name': 'Twilight Bastion'},\n",
       " {'appid': 2923600, 'name': 'PolyRoyale Demo'},\n",
       " {'appid': 2923640, 'name': 'Dragenas'},\n",
       " {'appid': 2923660, 'name': 'ghost light(灵灯）'},\n",
       " {'appid': 2923690, 'name': 'Mochi Sprint'},\n",
       " {'appid': 2923790, 'name': '言灵计划 Playtest'},\n",
       " {'appid': 2923820, 'name': 'Icarus: Pet Companions Pack'},\n",
       " {'appid': 2923830, 'name': 'Icarus: Zebra Rescue Mission'},\n",
       " {'appid': 2923870, 'name': 'Exfil Demo'},\n",
       " {'appid': 2923880, 'name': 'Figments'},\n",
       " {'appid': 2923900, 'name': 'Wayfarer'},\n",
       " {'appid': 2923920, 'name': 'The Fallen Kingdoms'},\n",
       " {'appid': 2923960, 'name': 'Epic Pixel War'},\n",
       " {'appid': 2923970, 'name': 'PHIBA (Education Edition)'},\n",
       " {'appid': 2923980, 'name': 'Trainz 2022 DLC - Milton Valley Railroad'},\n",
       " {'appid': 2923990, 'name': 'Trainz Plus DLC - Milton Valley Railroad'},\n",
       " {'appid': 2924000, 'name': 'Mound of Music Demo'},\n",
       " {'appid': 2924020, 'name': 'Creature Match'},\n",
       " {'appid': 2924030, 'name': 'Overtime Heroes Exit 8'},\n",
       " {'appid': 2924040, 'name': 'Nimbusfall'},\n",
       " {'appid': 2924050, 'name': 'Innocent Grape'},\n",
       " {'appid': 2923110, 'name': 'Sime Is Back'},\n",
       " {'appid': 2923130, 'name': 'Kunkun Terror Express'},\n",
       " {'appid': 2923180, 'name': 'Defense of the Dauntless'},\n",
       " {'appid': 2923200, 'name': 'Extinction Rifts'},\n",
       " {'appid': 2923210, 'name': 'Oopz-Oofs'},\n",
       " {'appid': 2923220, 'name': 'Cats Balance'},\n",
       " {'appid': 2923240, 'name': 'Echoes of Elysium Playtest'},\n",
       " {'appid': 2923270, 'name': 'BabushCats'},\n",
       " {'appid': 2923280, 'name': 'CARnage'},\n",
       " {'appid': 2923320, 'name': 'Mr. Stretch and the Stolen Fortune Playtest'},\n",
       " {'appid': 2923330, 'name': 'Revload'},\n",
       " {'appid': 2923340, 'name': 'The Happies - Amber Falcon Soundtrack'},\n",
       " {'appid': 2923410, 'name': \"Rumble Club Founder's Pack - Gold\"},\n",
       " {'appid': 2923420, 'name': 'Interview with the Horny Ghost'},\n",
       " {'appid': 2923430, 'name': 'Multiplayer Spiders'},\n",
       " {'appid': 2923440, 'name': 'Genome Guardian: Prologue'},\n",
       " {'appid': 2923450, 'name': 'Paintballers Playtest'},\n",
       " {'appid': 2923460, 'name': 'Asteroid Jungle'},\n",
       " {'appid': 2923480, 'name': 'Windowed Borderless Gaming'},\n",
       " {'appid': 2923500, 'name': 'ELEMASTA -エレマスタ-'},\n",
       " {'appid': 2922550, 'name': 'Katzala'},\n",
       " {'appid': 2922560, 'name': 'Legendary Tales: Stories Demo'},\n",
       " {'appid': 2922570, 'name': 'Tailside'},\n",
       " {'appid': 2922580, 'name': 'Wrong Number'},\n",
       " {'appid': 2922610, 'name': 'Ruby Dreams: Immortal Promise'},\n",
       " {'appid': 2922680, 'name': 'The Aquarians'},\n",
       " {'appid': 2922710, 'name': 'Beneath the Cardboard: Be Happy'},\n",
       " {'appid': 2922720, 'name': 'Raey'},\n",
       " {'appid': 2922740, 'name': 'DogDogDog'},\n",
       " {'appid': 2922760, 'name': '捏鼠妙妙屋'},\n",
       " {'appid': 2922780, 'name': 'Bully Ball Soccer Playtest'},\n",
       " {'appid': 2922790, 'name': 'Arena of Trophies'},\n",
       " {'appid': 2922800, 'name': 'Quackdzilla: Pool Cleaning Simulator'},\n",
       " {'appid': 2922810, 'name': 'Carrot Survivors Playtest'},\n",
       " {'appid': 2922940, 'name': 'PizzaPanic Demo'},\n",
       " {'appid': 2922960, 'name': 'Baldis Advanced 3D Math Class'},\n",
       " {'appid': 2923010, 'name': \"Field of Growth: A Farmer's Odyssey\"},\n",
       " {'appid': 2922050, 'name': 'Suika Jelly Game'},\n",
       " {'appid': 2922170, 'name': '无限世界'},\n",
       " {'appid': 2922180, 'name': 'Bonds of Yachiyo'},\n",
       " {'appid': 2922240, 'name': \"Norah's Song\"},\n",
       " {'appid': 2922260, 'name': \"All Doe's Life\"},\n",
       " {'appid': 2922310, 'name': 'Rento Fortune: Dice Configurator'},\n",
       " {'appid': 2922320, 'name': 'Fusionsmith Demo'},\n",
       " {'appid': 2922370, 'name': 'Blackfall Demo'},\n",
       " {'appid': 2922380, 'name': 'DLC Maid - Lifeguard'},\n",
       " {'appid': 2922420, 'name': 'Ashen Knights: Foreshadow Playtest'},\n",
       " {'appid': 2922430, 'name': 'Bunny Shadow'},\n",
       " {'appid': 2922450, 'name': 'Void Foundation: Into The Void Demo'},\n",
       " {'appid': 2922510, 'name': 'Gloomfall'},\n",
       " {'appid': 2921620, 'name': 'Harvest Bliss'},\n",
       " {'appid': 2921630, 'name': 'BASILISK'},\n",
       " {'appid': 2921650, 'name': 'Jesus Christ Simulator'},\n",
       " {'appid': 2921670, 'name': '九宫幻境录'},\n",
       " {'appid': 2921680, 'name': '幻想小镇 Demo'},\n",
       " {'appid': 2921720, 'name': 'Reflection Witch Playtest'},\n",
       " {'appid': 2921730, 'name': 'You Are My Treasure Soundtrack'},\n",
       " {'appid': 2921760, 'name': 'Emergency in Space'},\n",
       " {'appid': 2921770, 'name': 'Skeleton Village'},\n",
       " {'appid': 2921780, 'name': 'Rich City'},\n",
       " {'appid': 2921800, 'name': 'Hungry Tiger'},\n",
       " {'appid': 2921810, 'name': 'Cringegolf'},\n",
       " {'appid': 2921820, 'name': 'Undead Tower Defense'},\n",
       " {'appid': 2921830, 'name': 'Slime Slayer'},\n",
       " {'appid': 2921840, 'name': 'Dino Precision Platformer'},\n",
       " {'appid': 2921850, 'name': 'Run and Hunt: Skeleton Rebellion'},\n",
       " {'appid': 2921860, 'name': 'Mr. Woodpecker'},\n",
       " {'appid': 2921890, 'name': '业火Hellfire'},\n",
       " {'appid': 2921960, 'name': 'PROJECT : DEBUG'},\n",
       " {'appid': 2922020, 'name': 'Sex Ghoul Fling🧟❤️'},\n",
       " {'appid': 2921050, 'name': 'Ghost Talker'},\n",
       " {'appid': 2921060, 'name': 'Circus Challenge'},\n",
       " {'appid': 2921100, 'name': 'Sex Simulator 2: Cumshot Edition'},\n",
       " {'appid': 2921180, 'name': 'Homing Instinct'},\n",
       " {'appid': 2921190, 'name': 'Heather The Smither'},\n",
       " {'appid': 2921350, 'name': 'Sipssassin Playtest'},\n",
       " {'appid': 2921360, 'name': 'The Mare of Jonah'},\n",
       " {'appid': 2921380, 'name': 'Caribbean Crashers'},\n",
       " {'appid': 2921430, 'name': 'black out.'},\n",
       " {'appid': 2921450, 'name': 'COLD VR Demo'},\n",
       " {'appid': 2921460, 'name': 'NeuroNet: Mendax Proxy Soundtrack'},\n",
       " {'appid': 2921520, 'name': 'You Are My Treasure'},\n",
       " {'appid': 2921530, 'name': 'The Tennis Academy'},\n",
       " {'appid': 2963760, 'name': 'Potion Shop Simulator Demo'},\n",
       " {'appid': 2963770, 'name': 'Iridio Demo'},\n",
       " {'appid': 2963790, 'name': 'The World of Nifty Craft Demo'},\n",
       " ...]"
      ]
     },
     "execution_count": 208,
     "metadata": {},
     "output_type": "execute_result"
    }
   ],
   "source": [
    "app_list"
   ]
  },
  {
   "cell_type": "code",
   "execution_count": null,
   "metadata": {},
   "outputs": [],
   "source": [
    "total_war_ids=[i['appid'] for i in app_list if 'total war' in i['name'].lower()]\n",
    "len(total_war_ids)"
   ]
  },
  {
   "cell_type": "code",
   "execution_count": null,
   "metadata": {},
   "outputs": [],
   "source": []
  },
  {
   "cell_type": "code",
   "execution_count": 133,
   "metadata": {},
   "outputs": [
    {
     "name": "stdout",
     "output_type": "stream",
     "text": [
      "Successfully fetched the data\n",
      "Successfully fetched the data\n",
      "Successfully fetched the data\n",
      "Successfully fetched the data\n",
      "Successfully fetched the data\n",
      "Successfully fetched the data\n",
      "Successfully fetched the data\n",
      "Successfully fetched the data\n",
      "Successfully fetched the data\n",
      "Successfully fetched the data\n",
      "Successfully fetched the data\n",
      "Successfully fetched the data\n",
      "Successfully fetched the data\n",
      "Successfully fetched the data\n",
      "Successfully fetched the data\n",
      "Successfully fetched the data\n",
      "Successfully fetched the data\n",
      "Successfully fetched the data\n",
      "Successfully fetched the data\n",
      "Successfully fetched the data\n",
      "Successfully fetched the data\n",
      "Successfully fetched the data\n",
      "Successfully fetched the data\n",
      "Successfully fetched the data\n",
      "Successfully fetched the data\n",
      "Successfully fetched the data\n",
      "Successfully fetched the data\n",
      "Successfully fetched the data\n",
      "Successfully fetched the data\n",
      "Successfully fetched the data\n",
      "Successfully fetched the data\n",
      "Successfully fetched the data\n",
      "Successfully fetched the data\n",
      "Successfully fetched the data\n",
      "Successfully fetched the data\n",
      "Successfully fetched the data\n",
      "Successfully fetched the data\n",
      "Successfully fetched the data\n",
      "Successfully fetched the data\n",
      "Successfully fetched the data\n",
      "Successfully fetched the data\n",
      "Successfully fetched the data\n",
      "Successfully fetched the data\n",
      "Successfully fetched the data\n",
      "Successfully fetched the data\n",
      "Successfully fetched the data\n",
      "Successfully fetched the data\n",
      "Successfully fetched the data\n",
      "Successfully fetched the data\n",
      "Successfully fetched the data\n",
      "Successfully fetched the data\n",
      "Successfully fetched the data\n",
      "Successfully fetched the data\n",
      "Successfully fetched the data\n",
      "Successfully fetched the data\n",
      "Successfully fetched the data\n",
      "Successfully fetched the data\n",
      "Successfully fetched the data\n",
      "Successfully fetched the data\n",
      "Successfully fetched the data\n",
      "Successfully fetched the data\n",
      "Successfully fetched the data\n",
      "Successfully fetched the data\n",
      "Successfully fetched the data\n",
      "Successfully fetched the data\n",
      "Successfully fetched the data\n",
      "Successfully fetched the data\n",
      "Successfully fetched the data\n",
      "Successfully fetched the data\n",
      "Successfully fetched the data\n",
      "Successfully fetched the data\n",
      "Successfully fetched the data\n",
      "Successfully fetched the data\n",
      "Successfully fetched the data\n",
      "Successfully fetched the data\n",
      "Successfully fetched the data\n",
      "Successfully fetched the data\n",
      "Successfully fetched the data\n",
      "Successfully fetched the data\n",
      "Successfully fetched the data\n",
      "Successfully fetched the data\n",
      "Successfully fetched the data\n",
      "Successfully fetched the data\n",
      "Successfully fetched the data\n",
      "Successfully fetched the data\n",
      "Successfully fetched the data\n",
      "Successfully fetched the data\n",
      "Successfully fetched the data\n",
      "Successfully fetched the data\n",
      "Successfully fetched the data\n",
      "Successfully fetched the data\n",
      "Successfully fetched the data\n",
      "Successfully fetched the data\n",
      "Successfully fetched the data\n",
      "Successfully fetched the data\n",
      "Successfully fetched the data\n",
      "Successfully fetched the data\n",
      "Successfully fetched the data\n",
      "Successfully fetched the data\n",
      "Successfully fetched the data\n",
      "Successfully fetched the data\n",
      "Successfully fetched the data\n",
      "Successfully fetched the data\n",
      "Successfully fetched the data\n",
      "Successfully fetched the data\n",
      "Successfully fetched the data\n",
      "Successfully fetched the data\n",
      "Successfully fetched the data\n",
      "Successfully fetched the data\n",
      "Successfully fetched the data\n",
      "Successfully fetched the data\n",
      "Successfully fetched the data\n",
      "Successfully fetched the data\n",
      "Successfully fetched the data\n",
      "Successfully fetched the data\n",
      "Successfully fetched the data\n",
      "Successfully fetched the data\n",
      "Successfully fetched the data\n",
      "Successfully fetched the data\n",
      "Successfully fetched the data\n",
      "Successfully fetched the data\n",
      "Successfully fetched the data\n",
      "Successfully fetched the data\n",
      "Successfully fetched the data\n",
      "Successfully fetched the data\n",
      "Successfully fetched the data\n",
      "Successfully fetched the data\n",
      "Successfully fetched the data\n",
      "Successfully fetched the data\n",
      "Successfully fetched the data\n",
      "Successfully fetched the data\n",
      "Successfully fetched the data\n",
      "Successfully fetched the data\n",
      "Successfully fetched the data\n",
      "Successfully fetched the data\n",
      "Successfully fetched the data\n",
      "Successfully fetched the data\n",
      "Successfully fetched the data\n",
      "Successfully fetched the data\n",
      "Successfully fetched the data\n",
      "Successfully fetched the data\n",
      "Successfully fetched the data\n",
      "Successfully fetched the data\n",
      "Successfully fetched the data\n",
      "Successfully fetched the data\n",
      "Successfully fetched the data\n",
      "Successfully fetched the data\n",
      "Successfully fetched the data\n",
      "Successfully fetched the data\n",
      "Successfully fetched the data\n",
      "Successfully fetched the data\n",
      "Successfully fetched the data\n",
      "Successfully fetched the data\n",
      "Successfully fetched the data\n",
      "Successfully fetched the data\n",
      "Successfully fetched the data\n",
      "Successfully fetched the data\n",
      "Successfully fetched the data\n",
      "Successfully fetched the data\n",
      "Successfully fetched the data\n",
      "Successfully fetched the data\n",
      "Successfully fetched the data\n",
      "Successfully fetched the data\n",
      "Successfully fetched the data\n",
      "Successfully fetched the data\n",
      "Successfully fetched the data\n",
      "Successfully fetched the data\n",
      "Successfully fetched the data\n",
      "Successfully fetched the data\n",
      "Successfully fetched the data\n",
      "Successfully fetched the data\n",
      "Successfully fetched the data\n",
      "Successfully fetched the data\n",
      "Successfully fetched the data\n",
      "Successfully fetched the data\n",
      "Successfully fetched the data\n",
      "Successfully fetched the data\n",
      "Successfully fetched the data\n",
      "Successfully fetched the data\n",
      "Successfully fetched the data\n",
      "Successfully fetched the data\n",
      "Successfully fetched the data\n",
      "Successfully fetched the data\n",
      "Successfully fetched the data\n",
      "Successfully fetched the data\n",
      "Successfully fetched the data\n",
      "Successfully fetched the data\n",
      "Successfully fetched the data\n",
      "Successfully fetched the data\n",
      "Successfully fetched the data\n",
      "Successfully fetched the data\n",
      "Successfully fetched the data\n",
      "Successfully fetched the data\n",
      "Successfully fetched the data\n",
      "Successfully fetched the data\n",
      "Successfully fetched the data\n",
      "Successfully fetched the data\n",
      "Successfully fetched the data\n",
      "Successfully fetched the data\n",
      "Successfully fetched the data\n",
      "Successfully fetched the data\n",
      "Successfully fetched the data\n",
      "Successfully fetched the data\n",
      "Successfully fetched the data\n",
      "Successfully fetched the data\n",
      "Successfully fetched the data\n",
      "Successfully fetched the data\n",
      "Successfully fetched the data\n",
      "Successfully fetched the data\n",
      "Successfully fetched the data\n",
      "Successfully fetched the data\n",
      "Successfully fetched the data\n",
      "Successfully fetched the data\n",
      "Successfully fetched the data\n",
      "Successfully fetched the data\n",
      "Successfully fetched the data\n",
      "Successfully fetched the data\n",
      "Successfully fetched the data\n",
      "Successfully fetched the data\n",
      "Successfully fetched the data\n",
      "Successfully fetched the data\n",
      "Successfully fetched the data\n",
      "Successfully fetched the data\n",
      "Successfully fetched the data\n",
      "Successfully fetched the data\n",
      "Error: 429. Failed to fetch data.\n",
      "Response content: b'null'\n",
      "Error: 429. Failed to fetch data.\n",
      "Response content: b'null'\n",
      "Error: 429. Failed to fetch data.\n",
      "Response content: b'null'\n",
      "Error: 429. Failed to fetch data.\n",
      "Response content: b'null'\n",
      "Error: 429. Failed to fetch data.\n",
      "Response content: b'null'\n",
      "Error: 429. Failed to fetch data.\n",
      "Response content: b'null'\n",
      "Error: 429. Failed to fetch data.\n",
      "Response content: b'null'\n",
      "Error: 429. Failed to fetch data.\n",
      "Response content: b'null'\n",
      "Error: 429. Failed to fetch data.\n",
      "Response content: b'null'\n",
      "Error: 429. Failed to fetch data.\n",
      "Response content: b'null'\n",
      "Error: 429. Failed to fetch data.\n",
      "Response content: b'null'\n",
      "Error: 429. Failed to fetch data.\n",
      "Response content: b'null'\n",
      "Error: 429. Failed to fetch data.\n",
      "Response content: b'null'\n",
      "Error: 429. Failed to fetch data.\n",
      "Response content: b'null'\n",
      "Error: 429. Failed to fetch data.\n",
      "Response content: b'null'\n",
      "Error: 429. Failed to fetch data.\n",
      "Response content: b'null'\n",
      "Error: 429. Failed to fetch data.\n",
      "Response content: b'null'\n",
      "Error: 429. Failed to fetch data.\n",
      "Response content: b'null'\n",
      "Error: 429. Failed to fetch data.\n",
      "Response content: b'null'\n",
      "Error: 429. Failed to fetch data.\n",
      "Response content: b'null'\n",
      "Error: 429. Failed to fetch data.\n",
      "Response content: b'null'\n",
      "Error: 429. Failed to fetch data.\n",
      "Response content: b'null'\n",
      "Error: 429. Failed to fetch data.\n",
      "Response content: b'null'\n",
      "Error: 429. Failed to fetch data.\n",
      "Response content: b'null'\n",
      "Error: 429. Failed to fetch data.\n",
      "Response content: b'null'\n",
      "Successfully fetched the data\n",
      "Successfully fetched the data\n",
      "Error: 429. Failed to fetch data.\n",
      "Response content: b'null'\n",
      "Successfully fetched the data\n",
      "Successfully fetched the data\n",
      "Error: 429. Failed to fetch data.\n",
      "Response content: b'null'\n",
      "Error: 429. Failed to fetch data.\n",
      "Response content: b'null'\n",
      "Error: 429. Failed to fetch data.\n",
      "Response content: b'null'\n",
      "Error: 429. Failed to fetch data.\n",
      "Response content: b'null'\n",
      "Error: 429. Failed to fetch data.\n",
      "Response content: b'null'\n",
      "Error: 429. Failed to fetch data.\n",
      "Response content: b'null'\n",
      "Error: 429. Failed to fetch data.\n",
      "Response content: b'null'\n",
      "Error: 429. Failed to fetch data.\n",
      "Response content: b'null'\n",
      "Successfully fetched the data\n",
      "Successfully fetched the data\n",
      "Error: 429. Failed to fetch data.\n",
      "Response content: b'null'\n",
      "Error: 429. Failed to fetch data.\n",
      "Response content: b'null'\n",
      "Error: 429. Failed to fetch data.\n",
      "Response content: b'null'\n",
      "Error: 429. Failed to fetch data.\n",
      "Response content: b'null'\n",
      "Successfully fetched the data\n",
      "Successfully fetched the data\n",
      "Error: 429. Failed to fetch data.\n",
      "Response content: b'null'\n",
      "Error: 429. Failed to fetch data.\n",
      "Response content: b'null'\n",
      "Error: 429. Failed to fetch data.\n",
      "Response content: b'null'\n",
      "Error: 429. Failed to fetch data.\n",
      "Response content: b'null'\n",
      "Successfully fetched the data\n",
      "Successfully fetched the data\n",
      "Successfully fetched the data\n",
      "Successfully fetched the data\n",
      "Successfully fetched the data\n",
      "Successfully fetched the data\n",
      "Successfully fetched the data\n",
      "Successfully fetched the data\n",
      "Error: 429. Failed to fetch data.\n",
      "Response content: b'null'\n",
      "Error: 429. Failed to fetch data.\n",
      "Response content: b'null'\n",
      "Error: 429. Failed to fetch data.\n",
      "Response content: b'null'\n",
      "Error: 429. Failed to fetch data.\n",
      "Response content: b'null'\n",
      "Error: 429. Failed to fetch data.\n",
      "Response content: b'null'\n",
      "Error: 429. Failed to fetch data.\n",
      "Response content: b'null'\n",
      "Error: 429. Failed to fetch data.\n",
      "Response content: b'null'\n",
      "Error: 429. Failed to fetch data.\n",
      "Response content: b'null'\n",
      "Error: 429. Failed to fetch data.\n",
      "Response content: b'null'\n",
      "Error: 429. Failed to fetch data.\n",
      "Response content: b'null'\n",
      "Error: 429. Failed to fetch data.\n",
      "Response content: b'null'\n",
      "Error: 429. Failed to fetch data.\n",
      "Response content: b'null'\n",
      "Error: 429. Failed to fetch data.\n",
      "Response content: b'null'\n",
      "Error: 429. Failed to fetch data.\n",
      "Response content: b'null'\n",
      "Error: 429. Failed to fetch data.\n",
      "Response content: b'null'\n",
      "Error: 429. Failed to fetch data.\n",
      "Response content: b'null'\n",
      "Error: 429. Failed to fetch data.\n",
      "Response content: b'null'\n",
      "Error: 429. Failed to fetch data.\n",
      "Response content: b'null'\n",
      "Error: 429. Failed to fetch data.\n",
      "Response content: b'null'\n",
      "Error: 429. Failed to fetch data.\n",
      "Response content: b'null'\n",
      "Error: 429. Failed to fetch data.\n",
      "Response content: b'null'\n",
      "Error: 429. Failed to fetch data.\n",
      "Response content: b'null'\n",
      "Error: 429. Failed to fetch data.\n",
      "Response content: b'null'\n",
      "Error: 429. Failed to fetch data.\n",
      "Response content: b'null'\n",
      "Error: 429. Failed to fetch data.\n",
      "Response content: b'null'\n",
      "Error: 429. Failed to fetch data.\n",
      "Response content: b'null'\n",
      "Error: 429. Failed to fetch data.\n",
      "Response content: b'null'\n",
      "Error: 429. Failed to fetch data.\n",
      "Response content: b'null'\n",
      "Error: 429. Failed to fetch data.\n",
      "Response content: b'null'\n",
      "Error: 429. Failed to fetch data.\n",
      "Response content: b'null'\n",
      "Error: 429. Failed to fetch data.\n",
      "Response content: b'null'\n",
      "Error: 429. Failed to fetch data.\n",
      "Response content: b'null'\n",
      "Error: 429. Failed to fetch data.\n",
      "Response content: b'null'\n",
      "Error: 429. Failed to fetch data.\n",
      "Response content: b'null'\n",
      "Error: 429. Failed to fetch data.\n",
      "Response content: b'null'\n",
      "Error: 429. Failed to fetch data.\n",
      "Response content: b'null'\n",
      "Error: 429. Failed to fetch data.\n",
      "Response content: b'null'\n",
      "Error: 429. Failed to fetch data.\n",
      "Response content: b'null'\n",
      "Error: 429. Failed to fetch data.\n",
      "Response content: b'null'\n",
      "Error: 429. Failed to fetch data.\n",
      "Response content: b'null'\n",
      "Error: 429. Failed to fetch data.\n",
      "Response content: b'null'\n",
      "Error: 429. Failed to fetch data.\n",
      "Response content: b'null'\n",
      "Error: 429. Failed to fetch data.\n",
      "Response content: b'null'\n",
      "Error: 429. Failed to fetch data.\n",
      "Response content: b'null'\n",
      "Error: 429. Failed to fetch data.\n",
      "Response content: b'null'\n",
      "Error: 429. Failed to fetch data.\n",
      "Response content: b'null'\n",
      "Error: 429. Failed to fetch data.\n",
      "Response content: b'null'\n",
      "Error: 429. Failed to fetch data.\n",
      "Response content: b'null'\n",
      "Error: 429. Failed to fetch data.\n",
      "Response content: b'null'\n",
      "Error: 429. Failed to fetch data.\n",
      "Response content: b'null'\n",
      "Error: 429. Failed to fetch data.\n",
      "Response content: b'null'\n",
      "Error: 429. Failed to fetch data.\n",
      "Response content: b'null'\n",
      "Error: 429. Failed to fetch data.\n",
      "Response content: b'null'\n",
      "Error: 429. Failed to fetch data.\n",
      "Response content: b'null'\n",
      "Error: 429. Failed to fetch data.\n",
      "Response content: b'null'\n",
      "Successfully fetched the data\n",
      "Successfully fetched the data\n",
      "Successfully fetched the data\n",
      "Successfully fetched the data\n",
      "Successfully fetched the data\n",
      "Successfully fetched the data\n",
      "Successfully fetched the data\n",
      "Successfully fetched the data\n",
      "Successfully fetched the data\n",
      "Successfully fetched the data\n",
      "Successfully fetched the data\n",
      "Successfully fetched the data\n",
      "Successfully fetched the data\n",
      "Successfully fetched the data\n",
      "Successfully fetched the data\n",
      "Successfully fetched the data\n",
      "Successfully fetched the data\n",
      "Successfully fetched the data\n",
      "Successfully fetched the data\n",
      "Successfully fetched the data\n",
      "Successfully fetched the data\n",
      "Successfully fetched the data\n",
      "Successfully fetched the data\n",
      "Successfully fetched the data\n",
      "Successfully fetched the data\n",
      "Successfully fetched the data\n",
      "Successfully fetched the data\n",
      "Successfully fetched the data\n",
      "Successfully fetched the data\n",
      "Successfully fetched the data\n",
      "Successfully fetched the data\n",
      "Successfully fetched the data\n",
      "Successfully fetched the data\n",
      "Successfully fetched the data\n",
      "Successfully fetched the data\n",
      "Successfully fetched the data\n",
      "Successfully fetched the data\n",
      "Successfully fetched the data\n",
      "Successfully fetched the data\n",
      "Successfully fetched the data\n",
      "Successfully fetched the data\n",
      "Successfully fetched the data\n",
      "Successfully fetched the data\n",
      "Successfully fetched the data\n",
      "Successfully fetched the data\n",
      "Successfully fetched the data\n",
      "Successfully fetched the data\n",
      "Successfully fetched the data\n",
      "Successfully fetched the data\n",
      "Successfully fetched the data\n",
      "Successfully fetched the data\n",
      "Successfully fetched the data\n",
      "Successfully fetched the data\n",
      "Successfully fetched the data\n",
      "Successfully fetched the data\n",
      "Successfully fetched the data\n",
      "Successfully fetched the data\n",
      "Successfully fetched the data\n",
      "Successfully fetched the data\n",
      "Successfully fetched the data\n",
      "Successfully fetched the data\n",
      "Successfully fetched the data\n",
      "Successfully fetched the data\n",
      "Successfully fetched the data\n",
      "Successfully fetched the data\n",
      "Successfully fetched the data\n",
      "Successfully fetched the data\n",
      "Successfully fetched the data\n",
      "Successfully fetched the data\n",
      "Successfully fetched the data\n",
      "Successfully fetched the data\n",
      "Successfully fetched the data\n",
      "Successfully fetched the data\n",
      "Successfully fetched the data\n",
      "Successfully fetched the data\n",
      "Successfully fetched the data\n",
      "Successfully fetched the data\n",
      "Successfully fetched the data\n",
      "Successfully fetched the data\n",
      "Successfully fetched the data\n",
      "Successfully fetched the data\n",
      "Successfully fetched the data\n",
      "Successfully fetched the data\n",
      "Successfully fetched the data\n",
      "Successfully fetched the data\n",
      "Successfully fetched the data\n",
      "Successfully fetched the data\n",
      "Successfully fetched the data\n",
      "Successfully fetched the data\n",
      "Successfully fetched the data\n",
      "Successfully fetched the data\n",
      "Successfully fetched the data\n",
      "Successfully fetched the data\n",
      "Successfully fetched the data\n",
      "Successfully fetched the data\n",
      "Successfully fetched the data\n",
      "Successfully fetched the data\n",
      "Successfully fetched the data\n",
      "Successfully fetched the data\n"
     ]
    }
   ],
   "source": [
    "title=[]\n",
    "type=[]\n",
    "release_dates=[]\n",
    "meta_critic_scores=[]\n",
    "recomendations=[]\n",
    "for game_id in total_war_ids:\n",
    "    query_string=f'http://store.steampowered.com/api/appdetails?appids={game_id}'\n",
    "    data=helpers.get_data(query_string)\n",
    "    \n",
    "    if data==None:\n",
    "        continue\n",
    "    if data[str(game_id)]['success']==False:\n",
    "        continue\n",
    "    data=data[str(game_id)]['data']\n",
    "    title.append(data['name'])\n",
    "    type.append(data['type'])\n",
    "    try:\n",
    "        recomendations.append(data['recommendations']['total'])\n",
    "    except:\n",
    "        recomendations.append(None)\n",
    "    try:\n",
    "        meta_critic_scores.append(data['metacritic']['score'])\n",
    "    except:\n",
    "        meta_critic_scores.append(None)\n",
    "    release_dates.append(data['release_date']['date'])"
   ]
  },
  {
   "cell_type": "code",
   "execution_count": 127,
   "metadata": {},
   "outputs": [
    {
     "data": {
      "text/plain": [
       "['Total War: THREE KINGDOMS - White Tiger Yan',\n",
       " 'Total War: WARHAMMER II - The Twisted & The Twilight',\n",
       " 'Total War: WARHAMMER II - Skaven Chieftain',\n",
       " 'Total War: THREE KINGDOMS - Shi Xie',\n",
       " 'Total War: WARHAMMER II - The Shadow & The Blade',\n",
       " 'Total War: WARHAMMER II - Repanse de Lyonesse',\n",
       " 'Total War: THREE KINGDOMS - Mandate of Heaven',\n",
       " 'Total War: Elysium Playtest',\n",
       " 'Total War: WARHAMMER III - Blood for the Blood God III',\n",
       " 'A Total War Saga: TROY - Blood & Glory',\n",
       " 'Total War: THREE KINGDOMS - A World Betrayed',\n",
       " 'Total War: WARHAMMER II - The Warden & The Paunch',\n",
       " 'Total War: WARHAMMER II - Imrik',\n",
       " 'Total War: WARHAMMER - Chaos Warriors',\n",
       " 'Total War: WARHAMMER - Blood for the Blood God',\n",
       " 'Total War: WARHAMMER - Call of the Beastmen',\n",
       " 'Total War: WARHAMMER - The Grim and the Grave',\n",
       " 'Total War: WARHAMMER - The King and the Warlord',\n",
       " 'Total War: WARHAMMER - Wurrzag',\n",
       " 'Total War: WARHAMMER',\n",
       " 'SHOGUN: Total War™ - Collection',\n",
       " 'Medieval: Total War™ - Collection',\n",
       " 'Total War: ATTILA - Longbeards Culture Pack',\n",
       " 'Total War: ATTILA - Celts Culture Pack',\n",
       " 'Total War: ATTILA - The Last Roman Campaign Pack',\n",
       " 'Total War: ATTILA - Empires of Sand Culture Pack',\n",
       " 'Total War: ATTILA - Age of Charlemagne Campaign Pack',\n",
       " 'Total War: SHOGUN 2 – Otomo Clan Pack DLC',\n",
       " 'Total War: ROME II - Greek States Culture Pack',\n",
       " 'Total War Saga: FALL OF THE SAMURAI – The Saga Faction Pack',\n",
       " 'Total War Saga: FALL OF THE SAMURAI – The Obama Faction Pack',\n",
       " 'Total War Saga: FALL OF THE SAMURAI – The Tsu Faction Pack',\n",
       " 'Total War Saga: FALL OF THE SAMURAI – The Sendai Faction Pack',\n",
       " 'Total War: SHOGUN 2 - Dragon War Battle Pack',\n",
       " 'Total War: SHOGUN 2: Saints and Heroes Unit Pack',\n",
       " 'Total War: SHOGUN 2',\n",
       " 'A Total War Saga: FALL OF THE SAMURAI',\n",
       " 'Total War: Shogun 2 - Blood Pack DLC',\n",
       " 'Total War Rome II Carthage Gameplay Trailer ESRB',\n",
       " 'Total War Battles Shogun Trailer',\n",
       " 'Total War SHOGUN 2 Saints and Heroes ESRB Trailer',\n",
       " 'Napoleon Total War DLC Trailer',\n",
       " 'Total War SHOGUN 2 Dragon War Battle Pack Trailer',\n",
       " 'Total War Shogun 2 Fall of the Samurai Trailer ENG',\n",
       " 'Total War: SHOGUN 2 Blood Pack Trailer',\n",
       " 'Total War: SHOGUN 2 - Announcement (ESRB) (EN)',\n",
       " 'Total War: SHOGUN 2 - Assassination (ESRB) (EN)',\n",
       " 'Total War: SHOGUN 2 - Music Dev Diary (ESRB) (EN)',\n",
       " 'Total War: SHOGUN 2 - Gameplay (ESRB) (EN)',\n",
       " 'Total War SHOGUN 2 - CG Intro (EN)',\n",
       " 'Total War SHOGUN 2 - CG Intro (RU)',\n",
       " 'Total War SHOGUN 2 - CG Intro (DE)',\n",
       " 'Total War SHOGUN 2 - CG Intro (FR)',\n",
       " 'Total War SHOGUN 2 - CG Intro (IT)',\n",
       " 'Total War SHOGUN 2 - CG Intro (ES)',\n",
       " 'Total War: SHOGUN 2 - Assassination (FR)',\n",
       " 'Total War: SHOGUN 2 - Assassination (ES)',\n",
       " 'Total War: SHOGUN 2 - Assassination (DE)',\n",
       " 'Total War: SHOGUN 2 - Announcement (IT)',\n",
       " 'Total War: SHOGUN 2 - Announcement (FR)',\n",
       " 'Total War: SHOGUN 2 - Announcement (ES)',\n",
       " 'Total War: SHOGUN 2 - Announcement (DE)',\n",
       " 'Total War: SHOGUN 2 - Story (RU)',\n",
       " 'Total War: SHOGUN 2 - Story (IT)',\n",
       " 'Total War: SHOGUN 2 - Story (FR)',\n",
       " 'Total War: SHOGUN 2 - Story (ES)',\n",
       " 'Total War: SHOGUN 2 - Story (ESRB) (EN)',\n",
       " 'Total War: SHOGUN 2 - Story (DE)',\n",
       " 'Total War: SHOGUN 2 - Music Dev Diary (ES)',\n",
       " 'Total War: SHOGUN 2 - Music Dev Diary (IT)',\n",
       " 'Total War: SHOGUN 2 - Music Dev Diary (DE)',\n",
       " 'Total War: SHOGUN 2 - Music Dev Diary (FR)',\n",
       " 'Total War: SHOGUN 2 - Gameplay (RU)',\n",
       " 'Total War: SHOGUN 2 - Gameplay (PL)',\n",
       " 'Total War: SHOGUN 2 - Gameplay (IT)',\n",
       " 'Total War: SHOGUN 2 - Gameplay (FR)',\n",
       " 'Total War: SHOGUN 2 - Gameplay (DE)',\n",
       " 'Total War: SHOGUN 2 - Battle Report (IT)',\n",
       " 'Total War: SHOGUN 2 - Battle Report (FR)',\n",
       " 'Total War: SHOGUN 2 - Battle Report (ES)',\n",
       " 'Total War: SHOGUN 2 - Battle Report PEGI (EN)',\n",
       " 'Total War: SHOGUN 2 - Battle Report (DE)',\n",
       " 'Total War: SHOGUN 2 - Gameplay (ES)',\n",
       " 'Total War: SHOGUN 2 - Assassination (IT)',\n",
       " '[MARS] Total Warfare - Player upgrade',\n",
       " '[MARS] Total Warfare - Supervisor upgrade',\n",
       " 'Total War: WARHAMMER III - Champions of Chaos',\n",
       " 'Burning Faith - Total War',\n",
       " 'Total War: WARHAMMER II - Thorek Ironbrow',\n",
       " 'A Total War Saga: TROY - Rhesus & Memnon',\n",
       " 'A Total War Saga: TROY - MYTHOS',\n",
       " 'A Total War Saga: TROY - Ajax & Diomedes',\n",
       " 'Steam Digital Tabletop Fest: Total War: WARHAMMER II with NerdrageFred',\n",
       " 'Total War: ROME REMASTERED - Enhanced Graphics Pack',\n",
       " 'Total War: WARHAMMER III - Ogre Kingdoms',\n",
       " 'Total War: THREE KINGDOMS – The Furious Wild Original Soundtrack',\n",
       " 'A Total War Saga: TROY - Original Soundtrack',\n",
       " 'Total War: WARHAMMER III - Shadows of Change',\n",
       " 'Total War: WARHAMMER III - Elspeth – Thrones of Decay',\n",
       " 'Total War: PHARAOH - Blood & Sand',\n",
       " 'Total War: THREE KINGDOMS - Original Soundtrack',\n",
       " 'Total War: WARHAMMER III - Forge of the Chaos Dwarfs',\n",
       " 'Total War: SHOGUN 2',\n",
       " 'Total War: SHOGUN 2 - Sengoku Jidai Unit Pack',\n",
       " 'Total War: SHOGUN 2 - Rise of the Samurai Campaign',\n",
       " 'Total War: SHOGUN 2 - The Hattori Clan Pack',\n",
       " 'Total War: SHOGUN 2 - Battle of Kawagoe',\n",
       " 'Total War: SHOGUN 2 - The Ikko Ikki Clan Pack',\n",
       " 'Total War: SHOGUN 2 Demo',\n",
       " 'Total War: NAPOLEON – Definitive Edition',\n",
       " 'Napoleon: Total War Demo',\n",
       " 'Napoleon: Total War - Heroes of the Napoleonic Wars',\n",
       " 'Napoleon: Total War™ - Coalition Battle Pack',\n",
       " 'Napoleon: Total War™ - The Peninsular Campaign',\n",
       " 'Empire: Total War™ - Elite Units of the West',\n",
       " 'Empire: Total War™ - The Warpath Campaign',\n",
       " 'Empire: Total War™ - Elite Units of America',\n",
       " 'Empire: Total War™ - Elite Units of the East',\n",
       " 'Empire: Total War™ Demo',\n",
       " 'Total War: EMPIRE – Definitive Edition',\n",
       " 'Empire: Total War™ - Special Forces Units & Bonus Content',\n",
       " 'Napoleon: Total War - Peninsular Campaign Trailer',\n",
       " 'Empire: Total War - The Warpath Campaign Trailer',\n",
       " 'Empire: Total War - The Warpath Campaign Trailer (Russian)',\n",
       " 'Empire: Total War - The Warpath Campaign Trailer (Italian)',\n",
       " 'Empire: Total War - The Warpath Campaign Trailer (German)',\n",
       " 'Empire: Total War - The Warpath Campaign Trailer (French)',\n",
       " 'Napoleon: Total War™ Trailer (German)',\n",
       " 'Napoleon: Total War™ Trailer (French)',\n",
       " 'Napoleon: Total War™ Trailer (Polish)',\n",
       " 'Napoleon: Total War™ Trailer (Spanish)',\n",
       " 'Napoleon: Total War™ Trailer (Italian)',\n",
       " 'Napoleon: Total War™ Trailer (Russian)',\n",
       " 'Empire: Total War - The Warpath Campaign Trailer (Polish)',\n",
       " 'Empire: Total War - The Warpath Campaign Trailer (Spanish)',\n",
       " 'Empire: Total War™ Gameplay Video 1 of 5: Naval Battles']"
      ]
     },
     "execution_count": 127,
     "metadata": {},
     "output_type": "execute_result"
    }
   ],
   "source": [
    "title"
   ]
  },
  {
   "cell_type": "code",
   "execution_count": 134,
   "metadata": {},
   "outputs": [],
   "source": [
    "total_war_data=pd.DataFrame({'title':title,\n",
    "'type':type,'release_date':release_dates,'scores':meta_critic_scores,'recomendations':recomendations})"
   ]
  },
  {
   "cell_type": "code",
   "execution_count": 136,
   "metadata": {},
   "outputs": [],
   "source": [
    "total_war_data.to_csv('total_war_data.csv')"
   ]
  },
  {
   "cell_type": "code",
   "execution_count": 163,
   "metadata": {},
   "outputs": [],
   "source": [
    "total_war_data=pd.read_csv('total_war_data.csv')"
   ]
  },
  {
   "cell_type": "code",
   "execution_count": 164,
   "metadata": {},
   "outputs": [
    {
     "data": {
      "text/html": [
       "<div>\n",
       "<style scoped>\n",
       "    .dataframe tbody tr th:only-of-type {\n",
       "        vertical-align: middle;\n",
       "    }\n",
       "\n",
       "    .dataframe tbody tr th {\n",
       "        vertical-align: top;\n",
       "    }\n",
       "\n",
       "    .dataframe thead th {\n",
       "        text-align: right;\n",
       "    }\n",
       "</style>\n",
       "<table border=\"1\" class=\"dataframe\">\n",
       "  <thead>\n",
       "    <tr style=\"text-align: right;\">\n",
       "      <th></th>\n",
       "      <th>Unnamed: 0</th>\n",
       "      <th>scores</th>\n",
       "      <th>recomendations</th>\n",
       "    </tr>\n",
       "  </thead>\n",
       "  <tbody>\n",
       "    <tr>\n",
       "      <th>count</th>\n",
       "      <td>216.000</td>\n",
       "      <td>18.000000</td>\n",
       "      <td>69.000000</td>\n",
       "    </tr>\n",
       "    <tr>\n",
       "      <th>mean</th>\n",
       "      <td>107.500</td>\n",
       "      <td>83.666667</td>\n",
       "      <td>5610.884058</td>\n",
       "    </tr>\n",
       "    <tr>\n",
       "      <th>std</th>\n",
       "      <td>62.498</td>\n",
       "      <td>6.324555</td>\n",
       "      <td>12797.698521</td>\n",
       "    </tr>\n",
       "    <tr>\n",
       "      <th>min</th>\n",
       "      <td>0.000</td>\n",
       "      <td>72.000000</td>\n",
       "      <td>115.000000</td>\n",
       "    </tr>\n",
       "    <tr>\n",
       "      <th>25%</th>\n",
       "      <td>53.750</td>\n",
       "      <td>80.250000</td>\n",
       "      <td>319.000000</td>\n",
       "    </tr>\n",
       "    <tr>\n",
       "      <th>50%</th>\n",
       "      <td>107.500</td>\n",
       "      <td>86.000000</td>\n",
       "      <td>937.000000</td>\n",
       "    </tr>\n",
       "    <tr>\n",
       "      <th>75%</th>\n",
       "      <td>161.250</td>\n",
       "      <td>90.000000</td>\n",
       "      <td>1932.000000</td>\n",
       "    </tr>\n",
       "    <tr>\n",
       "      <th>max</th>\n",
       "      <td>215.000</td>\n",
       "      <td>90.000000</td>\n",
       "      <td>69566.000000</td>\n",
       "    </tr>\n",
       "  </tbody>\n",
       "</table>\n",
       "</div>"
      ],
      "text/plain": [
       "       Unnamed: 0     scores  recomendations\n",
       "count     216.000  18.000000       69.000000\n",
       "mean      107.500  83.666667     5610.884058\n",
       "std        62.498   6.324555    12797.698521\n",
       "min         0.000  72.000000      115.000000\n",
       "25%        53.750  80.250000      319.000000\n",
       "50%       107.500  86.000000      937.000000\n",
       "75%       161.250  90.000000     1932.000000\n",
       "max       215.000  90.000000    69566.000000"
      ]
     },
     "execution_count": 164,
     "metadata": {},
     "output_type": "execute_result"
    }
   ],
   "source": [
    "total_war_data.describe()"
   ]
  },
  {
   "cell_type": "code",
   "execution_count": 165,
   "metadata": {},
   "outputs": [
    {
     "data": {
      "text/html": [
       "<div>\n",
       "<style scoped>\n",
       "    .dataframe tbody tr th:only-of-type {\n",
       "        vertical-align: middle;\n",
       "    }\n",
       "\n",
       "    .dataframe tbody tr th {\n",
       "        vertical-align: top;\n",
       "    }\n",
       "\n",
       "    .dataframe thead th {\n",
       "        text-align: right;\n",
       "    }\n",
       "</style>\n",
       "<table border=\"1\" class=\"dataframe\">\n",
       "  <thead>\n",
       "    <tr style=\"text-align: right;\">\n",
       "      <th></th>\n",
       "      <th>Unnamed: 0</th>\n",
       "      <th>title</th>\n",
       "      <th>type</th>\n",
       "      <th>release_date</th>\n",
       "      <th>scores</th>\n",
       "      <th>recomendations</th>\n",
       "    </tr>\n",
       "  </thead>\n",
       "  <tbody>\n",
       "    <tr>\n",
       "      <th>118</th>\n",
       "      <td>118</td>\n",
       "      <td>Empire: Total War™ Demo</td>\n",
       "      <td>demo</td>\n",
       "      <td>20 Feb, 2009</td>\n",
       "      <td>90.0</td>\n",
       "      <td>NaN</td>\n",
       "    </tr>\n",
       "    <tr>\n",
       "      <th>35</th>\n",
       "      <td>35</td>\n",
       "      <td>Total War: SHOGUN 2</td>\n",
       "      <td>game</td>\n",
       "      <td>15 Mar, 2011</td>\n",
       "      <td>90.0</td>\n",
       "      <td>32010.0</td>\n",
       "    </tr>\n",
       "    <tr>\n",
       "      <th>102</th>\n",
       "      <td>102</td>\n",
       "      <td>Total War: SHOGUN 2</td>\n",
       "      <td>game</td>\n",
       "      <td>15 Mar, 2011</td>\n",
       "      <td>90.0</td>\n",
       "      <td>32010.0</td>\n",
       "    </tr>\n",
       "    <tr>\n",
       "      <th>108</th>\n",
       "      <td>108</td>\n",
       "      <td>Total War: SHOGUN 2 Demo</td>\n",
       "      <td>demo</td>\n",
       "      <td>22 Feb, 2011</td>\n",
       "      <td>90.0</td>\n",
       "      <td>NaN</td>\n",
       "    </tr>\n",
       "    <tr>\n",
       "      <th>119</th>\n",
       "      <td>119</td>\n",
       "      <td>Total War: EMPIRE – Definitive Edition</td>\n",
       "      <td>game</td>\n",
       "      <td>4 Mar, 2009</td>\n",
       "      <td>90.0</td>\n",
       "      <td>18007.0</td>\n",
       "    </tr>\n",
       "    <tr>\n",
       "      <th>...</th>\n",
       "      <td>...</td>\n",
       "      <td>...</td>\n",
       "      <td>...</td>\n",
       "      <td>...</td>\n",
       "      <td>...</td>\n",
       "      <td>...</td>\n",
       "    </tr>\n",
       "    <tr>\n",
       "      <th>209</th>\n",
       "      <td>209</td>\n",
       "      <td>Total War: ROME II - Rise of the Republic Camp...</td>\n",
       "      <td>dlc</td>\n",
       "      <td>9 Aug, 2018</td>\n",
       "      <td>NaN</td>\n",
       "      <td>644.0</td>\n",
       "    </tr>\n",
       "    <tr>\n",
       "      <th>210</th>\n",
       "      <td>210</td>\n",
       "      <td>Total War: WARHAMMER II - Tiktaq'to</td>\n",
       "      <td>dlc</td>\n",
       "      <td>17 Apr, 2019</td>\n",
       "      <td>NaN</td>\n",
       "      <td>NaN</td>\n",
       "    </tr>\n",
       "    <tr>\n",
       "      <th>211</th>\n",
       "      <td>211</td>\n",
       "      <td>Total War: WARHAMMER II - The Prophet &amp; The Wa...</td>\n",
       "      <td>dlc</td>\n",
       "      <td>17 Apr, 2019</td>\n",
       "      <td>NaN</td>\n",
       "      <td>1126.0</td>\n",
       "    </tr>\n",
       "    <tr>\n",
       "      <th>212</th>\n",
       "      <td>212</td>\n",
       "      <td>Total War: THRONES OF BRITANNIA - Rise and Fal...</td>\n",
       "      <td>video</td>\n",
       "      <td>4 Feb, 2019</td>\n",
       "      <td>NaN</td>\n",
       "      <td>NaN</td>\n",
       "    </tr>\n",
       "    <tr>\n",
       "      <th>213</th>\n",
       "      <td>213</td>\n",
       "      <td>Total War: THREE KINGDOMS - Reign of Blood</td>\n",
       "      <td>dlc</td>\n",
       "      <td>27 Jun, 2019</td>\n",
       "      <td>NaN</td>\n",
       "      <td>2701.0</td>\n",
       "    </tr>\n",
       "  </tbody>\n",
       "</table>\n",
       "<p>216 rows × 6 columns</p>\n",
       "</div>"
      ],
      "text/plain": [
       "     Unnamed: 0                                              title   type  \\\n",
       "118         118                            Empire: Total War™ Demo   demo   \n",
       "35           35                                Total War: SHOGUN 2   game   \n",
       "102         102                                Total War: SHOGUN 2   game   \n",
       "108         108                           Total War: SHOGUN 2 Demo   demo   \n",
       "119         119             Total War: EMPIRE – Definitive Edition   game   \n",
       "..          ...                                                ...    ...   \n",
       "209         209  Total War: ROME II - Rise of the Republic Camp...    dlc   \n",
       "210         210                Total War: WARHAMMER II - Tiktaq'to    dlc   \n",
       "211         211  Total War: WARHAMMER II - The Prophet & The Wa...    dlc   \n",
       "212         212  Total War: THRONES OF BRITANNIA - Rise and Fal...  video   \n",
       "213         213         Total War: THREE KINGDOMS - Reign of Blood    dlc   \n",
       "\n",
       "     release_date  scores  recomendations  \n",
       "118  20 Feb, 2009    90.0             NaN  \n",
       "35   15 Mar, 2011    90.0         32010.0  \n",
       "102  15 Mar, 2011    90.0         32010.0  \n",
       "108  22 Feb, 2011    90.0             NaN  \n",
       "119   4 Mar, 2009    90.0         18007.0  \n",
       "..            ...     ...             ...  \n",
       "209   9 Aug, 2018     NaN           644.0  \n",
       "210  17 Apr, 2019     NaN             NaN  \n",
       "211  17 Apr, 2019     NaN          1126.0  \n",
       "212   4 Feb, 2019     NaN             NaN  \n",
       "213  27 Jun, 2019     NaN          2701.0  \n",
       "\n",
       "[216 rows x 6 columns]"
      ]
     },
     "execution_count": 165,
     "metadata": {},
     "output_type": "execute_result"
    }
   ],
   "source": [
    "total_war_data.sort_values('scores',ascending=False)"
   ]
  },
  {
   "cell_type": "code",
   "execution_count": 166,
   "metadata": {},
   "outputs": [
    {
     "data": {
      "text/html": [
       "<div>\n",
       "<style scoped>\n",
       "    .dataframe tbody tr th:only-of-type {\n",
       "        vertical-align: middle;\n",
       "    }\n",
       "\n",
       "    .dataframe tbody tr th {\n",
       "        vertical-align: top;\n",
       "    }\n",
       "\n",
       "    .dataframe thead th {\n",
       "        text-align: right;\n",
       "    }\n",
       "</style>\n",
       "<table border=\"1\" class=\"dataframe\">\n",
       "  <thead>\n",
       "    <tr style=\"text-align: right;\">\n",
       "      <th></th>\n",
       "      <th>Unnamed: 0</th>\n",
       "      <th>title</th>\n",
       "      <th>type</th>\n",
       "      <th>release_date</th>\n",
       "      <th>scores</th>\n",
       "      <th>recomendations</th>\n",
       "    </tr>\n",
       "  </thead>\n",
       "  <tbody>\n",
       "    <tr>\n",
       "      <th>214</th>\n",
       "      <td>214</td>\n",
       "      <td>Total War: WARHAMMER III</td>\n",
       "      <td>game</td>\n",
       "      <td>16 Feb, 2022</td>\n",
       "      <td>86.0</td>\n",
       "      <td>69566.0</td>\n",
       "    </tr>\n",
       "    <tr>\n",
       "      <th>215</th>\n",
       "      <td>215</td>\n",
       "      <td>Total War: ROME II - Emperor Edition</td>\n",
       "      <td>game</td>\n",
       "      <td>2 Sep, 2013</td>\n",
       "      <td>76.0</td>\n",
       "      <td>50600.0</td>\n",
       "    </tr>\n",
       "    <tr>\n",
       "      <th>102</th>\n",
       "      <td>102</td>\n",
       "      <td>Total War: SHOGUN 2</td>\n",
       "      <td>game</td>\n",
       "      <td>15 Mar, 2011</td>\n",
       "      <td>90.0</td>\n",
       "      <td>32010.0</td>\n",
       "    </tr>\n",
       "    <tr>\n",
       "      <th>35</th>\n",
       "      <td>35</td>\n",
       "      <td>Total War: SHOGUN 2</td>\n",
       "      <td>game</td>\n",
       "      <td>15 Mar, 2011</td>\n",
       "      <td>90.0</td>\n",
       "      <td>32010.0</td>\n",
       "    </tr>\n",
       "    <tr>\n",
       "      <th>143</th>\n",
       "      <td>143</td>\n",
       "      <td>Total War: SHOGUN 2</td>\n",
       "      <td>game</td>\n",
       "      <td>15 Mar, 2011</td>\n",
       "      <td>90.0</td>\n",
       "      <td>32009.0</td>\n",
       "    </tr>\n",
       "    <tr>\n",
       "      <th>...</th>\n",
       "      <td>...</td>\n",
       "      <td>...</td>\n",
       "      <td>...</td>\n",
       "      <td>...</td>\n",
       "      <td>...</td>\n",
       "      <td>...</td>\n",
       "    </tr>\n",
       "    <tr>\n",
       "      <th>203</th>\n",
       "      <td>203</td>\n",
       "      <td>Total War: THREE KINGDOMS - Tao Qian</td>\n",
       "      <td>dlc</td>\n",
       "      <td>16 Jan, 2020</td>\n",
       "      <td>NaN</td>\n",
       "      <td>NaN</td>\n",
       "    </tr>\n",
       "    <tr>\n",
       "      <th>206</th>\n",
       "      <td>206</td>\n",
       "      <td>Total War: WARHAMMER II - Gor-Rok</td>\n",
       "      <td>dlc</td>\n",
       "      <td>11 Sep, 2019</td>\n",
       "      <td>NaN</td>\n",
       "      <td>NaN</td>\n",
       "    </tr>\n",
       "    <tr>\n",
       "      <th>207</th>\n",
       "      <td>207</td>\n",
       "      <td>Total War Saga: FALL OF THE SAMURAI – Blood Pack</td>\n",
       "      <td>dlc</td>\n",
       "      <td>NaN</td>\n",
       "      <td>NaN</td>\n",
       "      <td>NaN</td>\n",
       "    </tr>\n",
       "    <tr>\n",
       "      <th>210</th>\n",
       "      <td>210</td>\n",
       "      <td>Total War: WARHAMMER II - Tiktaq'to</td>\n",
       "      <td>dlc</td>\n",
       "      <td>17 Apr, 2019</td>\n",
       "      <td>NaN</td>\n",
       "      <td>NaN</td>\n",
       "    </tr>\n",
       "    <tr>\n",
       "      <th>212</th>\n",
       "      <td>212</td>\n",
       "      <td>Total War: THRONES OF BRITANNIA - Rise and Fal...</td>\n",
       "      <td>video</td>\n",
       "      <td>4 Feb, 2019</td>\n",
       "      <td>NaN</td>\n",
       "      <td>NaN</td>\n",
       "    </tr>\n",
       "  </tbody>\n",
       "</table>\n",
       "<p>216 rows × 6 columns</p>\n",
       "</div>"
      ],
      "text/plain": [
       "     Unnamed: 0                                              title   type  \\\n",
       "214         214                           Total War: WARHAMMER III   game   \n",
       "215         215               Total War: ROME II - Emperor Edition   game   \n",
       "102         102                                Total War: SHOGUN 2   game   \n",
       "35           35                                Total War: SHOGUN 2   game   \n",
       "143         143                                Total War: SHOGUN 2   game   \n",
       "..          ...                                                ...    ...   \n",
       "203         203               Total War: THREE KINGDOMS - Tao Qian    dlc   \n",
       "206         206                  Total War: WARHAMMER II - Gor-Rok    dlc   \n",
       "207         207   Total War Saga: FALL OF THE SAMURAI – Blood Pack    dlc   \n",
       "210         210                Total War: WARHAMMER II - Tiktaq'to    dlc   \n",
       "212         212  Total War: THRONES OF BRITANNIA - Rise and Fal...  video   \n",
       "\n",
       "     release_date  scores  recomendations  \n",
       "214  16 Feb, 2022    86.0         69566.0  \n",
       "215   2 Sep, 2013    76.0         50600.0  \n",
       "102  15 Mar, 2011    90.0         32010.0  \n",
       "35   15 Mar, 2011    90.0         32010.0  \n",
       "143  15 Mar, 2011    90.0         32009.0  \n",
       "..            ...     ...             ...  \n",
       "203  16 Jan, 2020     NaN             NaN  \n",
       "206  11 Sep, 2019     NaN             NaN  \n",
       "207           NaN     NaN             NaN  \n",
       "210  17 Apr, 2019     NaN             NaN  \n",
       "212   4 Feb, 2019     NaN             NaN  \n",
       "\n",
       "[216 rows x 6 columns]"
      ]
     },
     "execution_count": 166,
     "metadata": {},
     "output_type": "execute_result"
    }
   ],
   "source": [
    "total_war_data.sort_values('recomendations',ascending=False)"
   ]
  },
  {
   "cell_type": "code",
   "execution_count": 167,
   "metadata": {},
   "outputs": [
    {
     "data": {
      "application/vnd.plotly.v1+json": {
       "config": {
        "plotlyServerURL": "https://plot.ly"
       },
       "data": [
        {
         "alignmentgroup": "True",
         "bingroup": "x",
         "hovertemplate": "recomendations=%{x}<br>count=%{y}<extra></extra>",
         "legendgroup": "",
         "marker": {
          "color": "#636efa",
          "pattern": {
           "shape": ""
          }
         },
         "name": "",
         "nbinsx": 40,
         "offsetgroup": "",
         "orientation": "v",
         "showlegend": false,
         "type": "histogram",
         "x": [
          null,
          1101,
          null,
          null,
          755,
          null,
          1932,
          null,
          937,
          152,
          1511,
          1439,
          null,
          1057,
          2041,
          1322,
          654,
          560,
          null,
          31507,
          785,
          1800,
          140,
          143,
          340,
          246,
          901,
          121,
          319,
          null,
          null,
          null,
          null,
          127,
          null,
          32010,
          969,
          275,
          null,
          null,
          null,
          null,
          null,
          null,
          null,
          null,
          null,
          null,
          null,
          null,
          null,
          null,
          null,
          null,
          null,
          null,
          null,
          null,
          null,
          null,
          null,
          null,
          null,
          null,
          null,
          null,
          null,
          null,
          null,
          null,
          null,
          null,
          null,
          null,
          null,
          null,
          null,
          null,
          null,
          null,
          null,
          null,
          null,
          null,
          null,
          null,
          1182,
          null,
          null,
          null,
          null,
          null,
          null,
          null,
          712,
          null,
          null,
          3267,
          777,
          null,
          null,
          3525,
          32010,
          null,
          146,
          null,
          null,
          null,
          null,
          14787,
          null,
          null,
          null,
          null,
          null,
          118,
          null,
          null,
          null,
          18007,
          null,
          null,
          null,
          null,
          null,
          null,
          null,
          null,
          null,
          null,
          null,
          null,
          null,
          687,
          null,
          1875,
          121,
          null,
          null,
          null,
          null,
          127,
          null,
          32009,
          null,
          null,
          null,
          null,
          null,
          null,
          null,
          null,
          null,
          null,
          null,
          null,
          null,
          null,
          null,
          null,
          null,
          null,
          null,
          null,
          null,
          null,
          null,
          null,
          null,
          null,
          null,
          null,
          null,
          null,
          null,
          null,
          null,
          null,
          null,
          null,
          1095,
          799,
          115,
          null,
          11194,
          9716,
          244,
          31507,
          785,
          1800,
          140,
          143,
          340,
          246,
          901,
          1057,
          2041,
          1322,
          654,
          560,
          null,
          251,
          null,
          null,
          2547,
          1527,
          null,
          null,
          1036,
          644,
          null,
          1126,
          null,
          2701,
          69566,
          50600
         ],
         "xaxis": "x",
         "yaxis": "y"
        },
        {
         "alignmentgroup": "True",
         "boxpoints": "all",
         "fillcolor": "rgba(255,255,255,0)",
         "hoveron": "points",
         "hovertemplate": "<b>%{hovertext}</b><br><br>recomendations=%{x}<extra></extra>",
         "hovertext": [
          "Total War: THREE KINGDOMS - White Tiger Yan",
          "Total War: WARHAMMER II - The Twisted & The Twilight",
          "Total War: WARHAMMER II - Skaven Chieftain",
          "Total War: THREE KINGDOMS - Shi Xie",
          "Total War: WARHAMMER II - The Shadow & The Blade",
          "Total War: WARHAMMER II - Repanse de Lyonesse",
          "Total War: THREE KINGDOMS - Mandate of Heaven",
          "Total War: Elysium Playtest",
          "Total War: WARHAMMER III - Blood for the Blood God III",
          "A Total War Saga: TROY - Blood & Glory",
          "Total War: THREE KINGDOMS - A World Betrayed",
          "Total War: WARHAMMER II - The Warden & The Paunch",
          "Total War: WARHAMMER II - Imrik",
          "Total War: WARHAMMER - Chaos Warriors",
          "Total War: WARHAMMER - Blood for the Blood God",
          "Total War: WARHAMMER - Call of the Beastmen",
          "Total War: WARHAMMER - The Grim and the Grave",
          "Total War: WARHAMMER - The King and the Warlord",
          "Total War: WARHAMMER - Wurrzag",
          "Total War: WARHAMMER",
          "SHOGUN: Total War™ - Collection",
          "Medieval: Total War™ - Collection",
          "Total War: ATTILA - Longbeards Culture Pack",
          "Total War: ATTILA - Celts Culture Pack",
          "Total War: ATTILA - The Last Roman Campaign Pack",
          "Total War: ATTILA - Empires of Sand Culture Pack",
          "Total War: ATTILA - Age of Charlemagne Campaign Pack",
          "Total War: SHOGUN 2 – Otomo Clan Pack DLC",
          "Total War: ROME II - Greek States Culture Pack",
          "Total War Saga: FALL OF THE SAMURAI – The Saga Faction Pack",
          "Total War Saga: FALL OF THE SAMURAI – The Obama Faction Pack",
          "Total War Saga: FALL OF THE SAMURAI – The Tsu Faction Pack",
          "Total War Saga: FALL OF THE SAMURAI – The Sendai Faction Pack",
          "Total War: SHOGUN 2 - Dragon War Battle Pack",
          "Total War: SHOGUN 2: Saints and Heroes Unit Pack",
          "Total War: SHOGUN 2",
          "A Total War Saga: FALL OF THE SAMURAI",
          "Total War: Shogun 2 - Blood Pack DLC",
          "Total War Rome II Carthage Gameplay Trailer ESRB",
          "Total War Battles Shogun Trailer",
          "Total War SHOGUN 2 Saints and Heroes ESRB Trailer",
          "Napoleon Total War DLC Trailer",
          "Total War SHOGUN 2 Dragon War Battle Pack Trailer",
          "Total War Shogun 2 Fall of the Samurai Trailer ENG",
          "Total War: SHOGUN 2 Blood Pack Trailer",
          "Total War: SHOGUN 2 - Announcement (ESRB) (EN)",
          "Total War: SHOGUN 2 - Assassination (ESRB) (EN)",
          "Total War: SHOGUN 2 - Music Dev Diary (ESRB) (EN)",
          "Total War: SHOGUN 2 - Gameplay (ESRB) (EN)",
          "Total War SHOGUN 2 - CG Intro (EN)",
          "Total War SHOGUN 2 - CG Intro (RU)",
          "Total War SHOGUN 2 - CG Intro (DE)",
          "Total War SHOGUN 2 - CG Intro (FR)",
          "Total War SHOGUN 2 - CG Intro (IT)",
          "Total War SHOGUN 2 - CG Intro (ES)",
          "Total War: SHOGUN 2 - Assassination (FR)",
          "Total War: SHOGUN 2 - Assassination (ES)",
          "Total War: SHOGUN 2 - Assassination (DE)",
          "Total War: SHOGUN 2 - Announcement (IT)",
          "Total War: SHOGUN 2 - Announcement (FR)",
          "Total War: SHOGUN 2 - Announcement (ES)",
          "Total War: SHOGUN 2 - Announcement (DE)",
          "Total War: SHOGUN 2 - Story (RU)",
          "Total War: SHOGUN 2 - Story (IT)",
          "Total War: SHOGUN 2 - Story (FR)",
          "Total War: SHOGUN 2 - Story (ES)",
          "Total War: SHOGUN 2 - Story (ESRB) (EN)",
          "Total War: SHOGUN 2 - Story (DE)",
          "Total War: SHOGUN 2 - Music Dev Diary (ES)",
          "Total War: SHOGUN 2 - Music Dev Diary (IT)",
          "Total War: SHOGUN 2 - Music Dev Diary (DE)",
          "Total War: SHOGUN 2 - Music Dev Diary (FR)",
          "Total War: SHOGUN 2 - Gameplay (RU)",
          "Total War: SHOGUN 2 - Gameplay (PL)",
          "Total War: SHOGUN 2 - Gameplay (IT)",
          "Total War: SHOGUN 2 - Gameplay (FR)",
          "Total War: SHOGUN 2 - Gameplay (DE)",
          "Total War: SHOGUN 2 - Battle Report (IT)",
          "Total War: SHOGUN 2 - Battle Report (FR)",
          "Total War: SHOGUN 2 - Battle Report (ES)",
          "Total War: SHOGUN 2 - Battle Report PEGI (EN)",
          "Total War: SHOGUN 2 - Battle Report (DE)",
          "Total War: SHOGUN 2 - Gameplay (ES)",
          "Total War: SHOGUN 2 - Assassination (IT)",
          "[MARS] Total Warfare - Player upgrade",
          "[MARS] Total Warfare - Supervisor upgrade",
          "Total War: WARHAMMER III - Champions of Chaos",
          "Burning Faith - Total War",
          "Total War: WARHAMMER II - Thorek Ironbrow",
          "A Total War Saga: TROY - Rhesus & Memnon",
          "A Total War Saga: TROY - MYTHOS",
          "A Total War Saga: TROY - Ajax & Diomedes",
          "Steam Digital Tabletop Fest: Total War: WARHAMMER II with NerdrageFred",
          "Total War: ROME REMASTERED - Enhanced Graphics Pack",
          "Total War: WARHAMMER III - Ogre Kingdoms",
          "Total War: THREE KINGDOMS – The Furious Wild Original Soundtrack",
          "A Total War Saga: TROY - Original Soundtrack",
          "Total War: WARHAMMER III - Shadows of Change",
          "Total War: WARHAMMER III - Elspeth – Thrones of Decay",
          "Total War: PHARAOH - Blood & Sand",
          "Total War: THREE KINGDOMS - Original Soundtrack",
          "Total War: WARHAMMER III - Forge of the Chaos Dwarfs",
          "Total War: SHOGUN 2",
          "Total War: SHOGUN 2 - Sengoku Jidai Unit Pack",
          "Total War: SHOGUN 2 - Rise of the Samurai Campaign",
          "Total War: SHOGUN 2 - The Hattori Clan Pack",
          "Total War: SHOGUN 2 - Battle of Kawagoe",
          "Total War: SHOGUN 2 - The Ikko Ikki Clan Pack",
          "Total War: SHOGUN 2 Demo",
          "Total War: NAPOLEON – Definitive Edition",
          "Napoleon: Total War Demo",
          "Napoleon: Total War - Heroes of the Napoleonic Wars",
          "Napoleon: Total War™ - Coalition Battle Pack",
          "Napoleon: Total War™ - The Peninsular Campaign",
          "Empire: Total War™ - Elite Units of the West",
          "Empire: Total War™ - The Warpath Campaign",
          "Empire: Total War™ - Elite Units of America",
          "Empire: Total War™ - Elite Units of the East",
          "Empire: Total War™ Demo",
          "Total War: EMPIRE – Definitive Edition",
          "Empire: Total War™ - Special Forces Units & Bonus Content",
          "Napoleon: Total War - Peninsular Campaign Trailer",
          "Empire: Total War - The Warpath Campaign Trailer",
          "Empire: Total War - The Warpath Campaign Trailer (Russian)",
          "Empire: Total War - The Warpath Campaign Trailer (Italian)",
          "Empire: Total War - The Warpath Campaign Trailer (German)",
          "Empire: Total War - The Warpath Campaign Trailer (French)",
          "Napoleon: Total War™ Trailer (German)",
          "Napoleon: Total War™ Trailer (French)",
          "Napoleon: Total War™ Trailer (Polish)",
          "Napoleon: Total War™ Trailer (Spanish)",
          "Total War: WARHAMMER II - Alith Anar",
          "Total War: WARHAMMER II - Steps of Isha",
          "Total War: WARHAMMER II - The Queen & The Crone",
          "Total War: WARHAMMER II - Mortal Empires",
          "Total War: WARHAMMER II - Rise of the Tomb Kings",
          "Total War: SHOGUN 2 – Otomo Clan Pack DLC",
          "Total War Saga: FALL OF THE SAMURAI – The Saga Faction Pack",
          "Total War Saga: FALL OF THE SAMURAI – The Obama Faction Pack",
          "Total War Saga: FALL OF THE SAMURAI – The Tsu Faction Pack",
          "Total War Saga: FALL OF THE SAMURAI – The Sendai Faction Pack",
          "Total War: SHOGUN 2 - Dragon War Battle Pack",
          "Total War: SHOGUN 2: Saints and Heroes Unit Pack",
          "Total War: SHOGUN 2",
          "Total War SHOGUN 2 - CG Intro (EN)",
          "Total War SHOGUN 2 - CG Intro (RU)",
          "Total War SHOGUN 2 - CG Intro (DE)",
          "Total War SHOGUN 2 - CG Intro (FR)",
          "Total War SHOGUN 2 - CG Intro (IT)",
          "Total War SHOGUN 2 - CG Intro (ES)",
          "Total War: SHOGUN 2 - Assassination (FR)",
          "Total War: SHOGUN 2 - Assassination (ES)",
          "Total War: SHOGUN 2 - Assassination (DE)",
          "Total War: SHOGUN 2 - Announcement (IT)",
          "Total War: SHOGUN 2 - Announcement (FR)",
          "Total War: SHOGUN 2 - Announcement (ES)",
          "Total War: SHOGUN 2 - Announcement (DE)",
          "Total War: SHOGUN 2 - Story (RU)",
          "Total War: SHOGUN 2 - Story (IT)",
          "Total War: SHOGUN 2 - Story (FR)",
          "Total War: SHOGUN 2 - Story (ES)",
          "Total War: SHOGUN 2 - Story (ESRB) (EN)",
          "Total War: SHOGUN 2 - Story (DE)",
          "Total War: SHOGUN 2 - Music Dev Diary (ES)",
          "Total War: SHOGUN 2 - Music Dev Diary (IT)",
          "Total War: SHOGUN 2 - Music Dev Diary (DE)",
          "Total War: SHOGUN 2 - Music Dev Diary (FR)",
          "Total War: SHOGUN 2 - Gameplay (RU)",
          "Total War: SHOGUN 2 - Gameplay (PL)",
          "Total War: SHOGUN 2 - Gameplay (IT)",
          "Total War: SHOGUN 2 - Gameplay (FR)",
          "Total War: SHOGUN 2 - Gameplay (DE)",
          "Total War: SHOGUN 2 - Battle Report (IT)",
          "Total War: SHOGUN 2 - Battle Report (FR)",
          "Total War: SHOGUN 2 - Battle Report (ES)",
          "Total War: SHOGUN 2 - Battle Report PEGI (EN)",
          "Total War: SHOGUN 2 - Battle Report (DE)",
          "Total War: SHOGUN 2 - Gameplay (ES)",
          "Total War: SHOGUN 2 - Assassination (IT)",
          "Total War: WARHAMMER - Bretonnia",
          "Total War: WARHAMMER - Realm of The Wood Elves",
          "Total War: WARHAMMER - Norsca",
          "Total War: WARHAMMER - Isabella von Carstein",
          "Total War: WARHAMMER II - Tretch Craventail",
          "A Total War Saga: THRONES OF BRITANNIA",
          "Total War: ROME REMASTERED",
          "A Total War Saga: THRONES OF BRITANNIA - Blood, Sweat and Spears",
          "Total War: WARHAMMER",
          "SHOGUN: Total War™ - Collection",
          "Medieval: Total War™ - Collection",
          "Total War: ATTILA - Longbeards Culture Pack",
          "Total War: ATTILA - Celts Culture Pack",
          "Total War: ATTILA - The Last Roman Campaign Pack",
          "Total War: ATTILA - Empires of Sand Culture Pack",
          "Total War: ATTILA - Age of Charlemagne Campaign Pack",
          "Total War: WARHAMMER - Chaos Warriors",
          "Total War: WARHAMMER - Blood for the Blood God",
          "Total War: WARHAMMER - Call of the Beastmen",
          "Total War: WARHAMMER - The Grim and the Grave",
          "Total War: WARHAMMER - The King and the Warlord",
          "Total War: WARHAMMER - Wurrzag",
          "Total War: ATTILA - Slavic Nations Culture Pack",
          "A Total War Saga: TROY - Amazons",
          "Total War: THREE KINGDOMS - Tao Qian",
          "A Total War Saga: TROY",
          "Total War: WARHAMMER II - The Hunter & The Beast",
          "Total War: WARHAMMER II - Gor-Rok",
          "Total War Saga: FALL OF THE SAMURAI – Blood Pack",
          "Total War: THREE KINGDOMS - Yellow Turban Rebellion",
          "Total War: ROME II - Rise of the Republic Campaign Pack",
          "Total War: WARHAMMER II - Tiktaq'to",
          "Total War: WARHAMMER II - The Prophet & The Warlock",
          "Total War: THRONES OF BRITANNIA - Rise and Fall of the Anglo-Saxons",
          "Total War: THREE KINGDOMS - Reign of Blood",
          "Total War: WARHAMMER III",
          "Total War: ROME II - Emperor Edition"
         ],
         "jitter": 0,
         "legendgroup": "",
         "line": {
          "color": "rgba(255,255,255,0)"
         },
         "marker": {
          "color": "#636efa",
          "symbol": "line-ns-open"
         },
         "name": "",
         "offsetgroup": "",
         "showlegend": false,
         "type": "box",
         "x": [
          null,
          1101,
          null,
          null,
          755,
          null,
          1932,
          null,
          937,
          152,
          1511,
          1439,
          null,
          1057,
          2041,
          1322,
          654,
          560,
          null,
          31507,
          785,
          1800,
          140,
          143,
          340,
          246,
          901,
          121,
          319,
          null,
          null,
          null,
          null,
          127,
          null,
          32010,
          969,
          275,
          null,
          null,
          null,
          null,
          null,
          null,
          null,
          null,
          null,
          null,
          null,
          null,
          null,
          null,
          null,
          null,
          null,
          null,
          null,
          null,
          null,
          null,
          null,
          null,
          null,
          null,
          null,
          null,
          null,
          null,
          null,
          null,
          null,
          null,
          null,
          null,
          null,
          null,
          null,
          null,
          null,
          null,
          null,
          null,
          null,
          null,
          null,
          null,
          1182,
          null,
          null,
          null,
          null,
          null,
          null,
          null,
          712,
          null,
          null,
          3267,
          777,
          null,
          null,
          3525,
          32010,
          null,
          146,
          null,
          null,
          null,
          null,
          14787,
          null,
          null,
          null,
          null,
          null,
          118,
          null,
          null,
          null,
          18007,
          null,
          null,
          null,
          null,
          null,
          null,
          null,
          null,
          null,
          null,
          null,
          null,
          null,
          687,
          null,
          1875,
          121,
          null,
          null,
          null,
          null,
          127,
          null,
          32009,
          null,
          null,
          null,
          null,
          null,
          null,
          null,
          null,
          null,
          null,
          null,
          null,
          null,
          null,
          null,
          null,
          null,
          null,
          null,
          null,
          null,
          null,
          null,
          null,
          null,
          null,
          null,
          null,
          null,
          null,
          null,
          null,
          null,
          null,
          null,
          null,
          1095,
          799,
          115,
          null,
          11194,
          9716,
          244,
          31507,
          785,
          1800,
          140,
          143,
          340,
          246,
          901,
          1057,
          2041,
          1322,
          654,
          560,
          null,
          251,
          null,
          null,
          2547,
          1527,
          null,
          null,
          1036,
          644,
          null,
          1126,
          null,
          2701,
          69566,
          50600
         ],
         "xaxis": "x2",
         "yaxis": "y2"
        }
       ],
       "layout": {
        "barmode": "relative",
        "legend": {
         "tracegroupgap": 0
        },
        "template": {
         "data": {
          "bar": [
           {
            "error_x": {
             "color": "#2a3f5f"
            },
            "error_y": {
             "color": "#2a3f5f"
            },
            "marker": {
             "line": {
              "color": "#E5ECF6",
              "width": 0.5
             },
             "pattern": {
              "fillmode": "overlay",
              "size": 10,
              "solidity": 0.2
             }
            },
            "type": "bar"
           }
          ],
          "barpolar": [
           {
            "marker": {
             "line": {
              "color": "#E5ECF6",
              "width": 0.5
             },
             "pattern": {
              "fillmode": "overlay",
              "size": 10,
              "solidity": 0.2
             }
            },
            "type": "barpolar"
           }
          ],
          "carpet": [
           {
            "aaxis": {
             "endlinecolor": "#2a3f5f",
             "gridcolor": "white",
             "linecolor": "white",
             "minorgridcolor": "white",
             "startlinecolor": "#2a3f5f"
            },
            "baxis": {
             "endlinecolor": "#2a3f5f",
             "gridcolor": "white",
             "linecolor": "white",
             "minorgridcolor": "white",
             "startlinecolor": "#2a3f5f"
            },
            "type": "carpet"
           }
          ],
          "choropleth": [
           {
            "colorbar": {
             "outlinewidth": 0,
             "ticks": ""
            },
            "type": "choropleth"
           }
          ],
          "contour": [
           {
            "colorbar": {
             "outlinewidth": 0,
             "ticks": ""
            },
            "colorscale": [
             [
              0,
              "#0d0887"
             ],
             [
              0.1111111111111111,
              "#46039f"
             ],
             [
              0.2222222222222222,
              "#7201a8"
             ],
             [
              0.3333333333333333,
              "#9c179e"
             ],
             [
              0.4444444444444444,
              "#bd3786"
             ],
             [
              0.5555555555555556,
              "#d8576b"
             ],
             [
              0.6666666666666666,
              "#ed7953"
             ],
             [
              0.7777777777777778,
              "#fb9f3a"
             ],
             [
              0.8888888888888888,
              "#fdca26"
             ],
             [
              1,
              "#f0f921"
             ]
            ],
            "type": "contour"
           }
          ],
          "contourcarpet": [
           {
            "colorbar": {
             "outlinewidth": 0,
             "ticks": ""
            },
            "type": "contourcarpet"
           }
          ],
          "heatmap": [
           {
            "colorbar": {
             "outlinewidth": 0,
             "ticks": ""
            },
            "colorscale": [
             [
              0,
              "#0d0887"
             ],
             [
              0.1111111111111111,
              "#46039f"
             ],
             [
              0.2222222222222222,
              "#7201a8"
             ],
             [
              0.3333333333333333,
              "#9c179e"
             ],
             [
              0.4444444444444444,
              "#bd3786"
             ],
             [
              0.5555555555555556,
              "#d8576b"
             ],
             [
              0.6666666666666666,
              "#ed7953"
             ],
             [
              0.7777777777777778,
              "#fb9f3a"
             ],
             [
              0.8888888888888888,
              "#fdca26"
             ],
             [
              1,
              "#f0f921"
             ]
            ],
            "type": "heatmap"
           }
          ],
          "heatmapgl": [
           {
            "colorbar": {
             "outlinewidth": 0,
             "ticks": ""
            },
            "colorscale": [
             [
              0,
              "#0d0887"
             ],
             [
              0.1111111111111111,
              "#46039f"
             ],
             [
              0.2222222222222222,
              "#7201a8"
             ],
             [
              0.3333333333333333,
              "#9c179e"
             ],
             [
              0.4444444444444444,
              "#bd3786"
             ],
             [
              0.5555555555555556,
              "#d8576b"
             ],
             [
              0.6666666666666666,
              "#ed7953"
             ],
             [
              0.7777777777777778,
              "#fb9f3a"
             ],
             [
              0.8888888888888888,
              "#fdca26"
             ],
             [
              1,
              "#f0f921"
             ]
            ],
            "type": "heatmapgl"
           }
          ],
          "histogram": [
           {
            "marker": {
             "pattern": {
              "fillmode": "overlay",
              "size": 10,
              "solidity": 0.2
             }
            },
            "type": "histogram"
           }
          ],
          "histogram2d": [
           {
            "colorbar": {
             "outlinewidth": 0,
             "ticks": ""
            },
            "colorscale": [
             [
              0,
              "#0d0887"
             ],
             [
              0.1111111111111111,
              "#46039f"
             ],
             [
              0.2222222222222222,
              "#7201a8"
             ],
             [
              0.3333333333333333,
              "#9c179e"
             ],
             [
              0.4444444444444444,
              "#bd3786"
             ],
             [
              0.5555555555555556,
              "#d8576b"
             ],
             [
              0.6666666666666666,
              "#ed7953"
             ],
             [
              0.7777777777777778,
              "#fb9f3a"
             ],
             [
              0.8888888888888888,
              "#fdca26"
             ],
             [
              1,
              "#f0f921"
             ]
            ],
            "type": "histogram2d"
           }
          ],
          "histogram2dcontour": [
           {
            "colorbar": {
             "outlinewidth": 0,
             "ticks": ""
            },
            "colorscale": [
             [
              0,
              "#0d0887"
             ],
             [
              0.1111111111111111,
              "#46039f"
             ],
             [
              0.2222222222222222,
              "#7201a8"
             ],
             [
              0.3333333333333333,
              "#9c179e"
             ],
             [
              0.4444444444444444,
              "#bd3786"
             ],
             [
              0.5555555555555556,
              "#d8576b"
             ],
             [
              0.6666666666666666,
              "#ed7953"
             ],
             [
              0.7777777777777778,
              "#fb9f3a"
             ],
             [
              0.8888888888888888,
              "#fdca26"
             ],
             [
              1,
              "#f0f921"
             ]
            ],
            "type": "histogram2dcontour"
           }
          ],
          "mesh3d": [
           {
            "colorbar": {
             "outlinewidth": 0,
             "ticks": ""
            },
            "type": "mesh3d"
           }
          ],
          "parcoords": [
           {
            "line": {
             "colorbar": {
              "outlinewidth": 0,
              "ticks": ""
             }
            },
            "type": "parcoords"
           }
          ],
          "pie": [
           {
            "automargin": true,
            "type": "pie"
           }
          ],
          "scatter": [
           {
            "fillpattern": {
             "fillmode": "overlay",
             "size": 10,
             "solidity": 0.2
            },
            "type": "scatter"
           }
          ],
          "scatter3d": [
           {
            "line": {
             "colorbar": {
              "outlinewidth": 0,
              "ticks": ""
             }
            },
            "marker": {
             "colorbar": {
              "outlinewidth": 0,
              "ticks": ""
             }
            },
            "type": "scatter3d"
           }
          ],
          "scattercarpet": [
           {
            "marker": {
             "colorbar": {
              "outlinewidth": 0,
              "ticks": ""
             }
            },
            "type": "scattercarpet"
           }
          ],
          "scattergeo": [
           {
            "marker": {
             "colorbar": {
              "outlinewidth": 0,
              "ticks": ""
             }
            },
            "type": "scattergeo"
           }
          ],
          "scattergl": [
           {
            "marker": {
             "colorbar": {
              "outlinewidth": 0,
              "ticks": ""
             }
            },
            "type": "scattergl"
           }
          ],
          "scattermapbox": [
           {
            "marker": {
             "colorbar": {
              "outlinewidth": 0,
              "ticks": ""
             }
            },
            "type": "scattermapbox"
           }
          ],
          "scatterpolar": [
           {
            "marker": {
             "colorbar": {
              "outlinewidth": 0,
              "ticks": ""
             }
            },
            "type": "scatterpolar"
           }
          ],
          "scatterpolargl": [
           {
            "marker": {
             "colorbar": {
              "outlinewidth": 0,
              "ticks": ""
             }
            },
            "type": "scatterpolargl"
           }
          ],
          "scatterternary": [
           {
            "marker": {
             "colorbar": {
              "outlinewidth": 0,
              "ticks": ""
             }
            },
            "type": "scatterternary"
           }
          ],
          "surface": [
           {
            "colorbar": {
             "outlinewidth": 0,
             "ticks": ""
            },
            "colorscale": [
             [
              0,
              "#0d0887"
             ],
             [
              0.1111111111111111,
              "#46039f"
             ],
             [
              0.2222222222222222,
              "#7201a8"
             ],
             [
              0.3333333333333333,
              "#9c179e"
             ],
             [
              0.4444444444444444,
              "#bd3786"
             ],
             [
              0.5555555555555556,
              "#d8576b"
             ],
             [
              0.6666666666666666,
              "#ed7953"
             ],
             [
              0.7777777777777778,
              "#fb9f3a"
             ],
             [
              0.8888888888888888,
              "#fdca26"
             ],
             [
              1,
              "#f0f921"
             ]
            ],
            "type": "surface"
           }
          ],
          "table": [
           {
            "cells": {
             "fill": {
              "color": "#EBF0F8"
             },
             "line": {
              "color": "white"
             }
            },
            "header": {
             "fill": {
              "color": "#C8D4E3"
             },
             "line": {
              "color": "white"
             }
            },
            "type": "table"
           }
          ]
         },
         "layout": {
          "annotationdefaults": {
           "arrowcolor": "#2a3f5f",
           "arrowhead": 0,
           "arrowwidth": 1
          },
          "autotypenumbers": "strict",
          "coloraxis": {
           "colorbar": {
            "outlinewidth": 0,
            "ticks": ""
           }
          },
          "colorscale": {
           "diverging": [
            [
             0,
             "#8e0152"
            ],
            [
             0.1,
             "#c51b7d"
            ],
            [
             0.2,
             "#de77ae"
            ],
            [
             0.3,
             "#f1b6da"
            ],
            [
             0.4,
             "#fde0ef"
            ],
            [
             0.5,
             "#f7f7f7"
            ],
            [
             0.6,
             "#e6f5d0"
            ],
            [
             0.7,
             "#b8e186"
            ],
            [
             0.8,
             "#7fbc41"
            ],
            [
             0.9,
             "#4d9221"
            ],
            [
             1,
             "#276419"
            ]
           ],
           "sequential": [
            [
             0,
             "#0d0887"
            ],
            [
             0.1111111111111111,
             "#46039f"
            ],
            [
             0.2222222222222222,
             "#7201a8"
            ],
            [
             0.3333333333333333,
             "#9c179e"
            ],
            [
             0.4444444444444444,
             "#bd3786"
            ],
            [
             0.5555555555555556,
             "#d8576b"
            ],
            [
             0.6666666666666666,
             "#ed7953"
            ],
            [
             0.7777777777777778,
             "#fb9f3a"
            ],
            [
             0.8888888888888888,
             "#fdca26"
            ],
            [
             1,
             "#f0f921"
            ]
           ],
           "sequentialminus": [
            [
             0,
             "#0d0887"
            ],
            [
             0.1111111111111111,
             "#46039f"
            ],
            [
             0.2222222222222222,
             "#7201a8"
            ],
            [
             0.3333333333333333,
             "#9c179e"
            ],
            [
             0.4444444444444444,
             "#bd3786"
            ],
            [
             0.5555555555555556,
             "#d8576b"
            ],
            [
             0.6666666666666666,
             "#ed7953"
            ],
            [
             0.7777777777777778,
             "#fb9f3a"
            ],
            [
             0.8888888888888888,
             "#fdca26"
            ],
            [
             1,
             "#f0f921"
            ]
           ]
          },
          "colorway": [
           "#636efa",
           "#EF553B",
           "#00cc96",
           "#ab63fa",
           "#FFA15A",
           "#19d3f3",
           "#FF6692",
           "#B6E880",
           "#FF97FF",
           "#FECB52"
          ],
          "font": {
           "color": "#2a3f5f"
          },
          "geo": {
           "bgcolor": "white",
           "lakecolor": "white",
           "landcolor": "#E5ECF6",
           "showlakes": true,
           "showland": true,
           "subunitcolor": "white"
          },
          "hoverlabel": {
           "align": "left"
          },
          "hovermode": "closest",
          "mapbox": {
           "style": "light"
          },
          "paper_bgcolor": "white",
          "plot_bgcolor": "#E5ECF6",
          "polar": {
           "angularaxis": {
            "gridcolor": "white",
            "linecolor": "white",
            "ticks": ""
           },
           "bgcolor": "#E5ECF6",
           "radialaxis": {
            "gridcolor": "white",
            "linecolor": "white",
            "ticks": ""
           }
          },
          "scene": {
           "xaxis": {
            "backgroundcolor": "#E5ECF6",
            "gridcolor": "white",
            "gridwidth": 2,
            "linecolor": "white",
            "showbackground": true,
            "ticks": "",
            "zerolinecolor": "white"
           },
           "yaxis": {
            "backgroundcolor": "#E5ECF6",
            "gridcolor": "white",
            "gridwidth": 2,
            "linecolor": "white",
            "showbackground": true,
            "ticks": "",
            "zerolinecolor": "white"
           },
           "zaxis": {
            "backgroundcolor": "#E5ECF6",
            "gridcolor": "white",
            "gridwidth": 2,
            "linecolor": "white",
            "showbackground": true,
            "ticks": "",
            "zerolinecolor": "white"
           }
          },
          "shapedefaults": {
           "line": {
            "color": "#2a3f5f"
           }
          },
          "ternary": {
           "aaxis": {
            "gridcolor": "white",
            "linecolor": "white",
            "ticks": ""
           },
           "baxis": {
            "gridcolor": "white",
            "linecolor": "white",
            "ticks": ""
           },
           "bgcolor": "#E5ECF6",
           "caxis": {
            "gridcolor": "white",
            "linecolor": "white",
            "ticks": ""
           }
          },
          "title": {
           "x": 0.05
          },
          "xaxis": {
           "automargin": true,
           "gridcolor": "white",
           "linecolor": "white",
           "ticks": "",
           "title": {
            "standoff": 15
           },
           "zerolinecolor": "white",
           "zerolinewidth": 2
          },
          "yaxis": {
           "automargin": true,
           "gridcolor": "white",
           "linecolor": "white",
           "ticks": "",
           "title": {
            "standoff": 15
           },
           "zerolinecolor": "white",
           "zerolinewidth": 2
          }
         }
        },
        "title": {
         "text": "Total War Recomendations"
        },
        "xaxis": {
         "anchor": "y",
         "domain": [
          0,
          1
         ],
         "title": {
          "text": "recomendations"
         }
        },
        "xaxis2": {
         "anchor": "y2",
         "domain": [
          0,
          1
         ],
         "matches": "x",
         "showgrid": true,
         "showticklabels": false
        },
        "yaxis": {
         "anchor": "x",
         "domain": [
          0,
          0.8316
         ],
         "title": {
          "text": "count"
         }
        },
        "yaxis2": {
         "anchor": "x2",
         "domain": [
          0.8416,
          1
         ],
         "matches": "y2",
         "showgrid": false,
         "showline": false,
         "showticklabels": false,
         "ticks": ""
        }
       }
      }
     },
     "metadata": {},
     "output_type": "display_data"
    }
   ],
   "source": [
    "px.histogram(total_war_data,x='recomendations',nbins=40,marginal='rug',hover_name='title',title='Total War Recomendations',)"
   ]
  },
  {
   "cell_type": "code",
   "execution_count": 168,
   "metadata": {},
   "outputs": [
    {
     "data": {
      "application/vnd.plotly.v1+json": {
       "config": {
        "plotlyServerURL": "https://plot.ly"
       },
       "data": [
        {
         "alignmentgroup": "True",
         "bingroup": "x",
         "hovertemplate": "scores=%{x}<br>count=%{y}<extra></extra>",
         "legendgroup": "",
         "marker": {
          "color": "#636efa",
          "pattern": {
           "shape": ""
          }
         },
         "name": "",
         "nbinsx": 40,
         "offsetgroup": "",
         "orientation": "v",
         "showlegend": false,
         "type": "histogram",
         "x": [
          null,
          null,
          null,
          null,
          null,
          null,
          80,
          null,
          null,
          null,
          null,
          null,
          null,
          null,
          null,
          72,
          null,
          null,
          null,
          86,
          null,
          null,
          null,
          null,
          null,
          null,
          null,
          null,
          null,
          null,
          null,
          null,
          null,
          null,
          null,
          90,
          86,
          null,
          null,
          null,
          null,
          null,
          null,
          null,
          null,
          null,
          null,
          null,
          null,
          null,
          null,
          null,
          null,
          null,
          null,
          null,
          null,
          null,
          null,
          null,
          null,
          null,
          null,
          null,
          null,
          null,
          null,
          null,
          null,
          null,
          null,
          null,
          null,
          null,
          null,
          null,
          null,
          null,
          null,
          null,
          null,
          null,
          null,
          null,
          null,
          null,
          null,
          null,
          null,
          null,
          null,
          null,
          null,
          null,
          null,
          null,
          null,
          null,
          null,
          null,
          null,
          null,
          90,
          null,
          null,
          null,
          null,
          null,
          90,
          81,
          81,
          null,
          null,
          null,
          null,
          null,
          null,
          null,
          90,
          90,
          null,
          null,
          null,
          null,
          null,
          null,
          null,
          null,
          null,
          null,
          null,
          null,
          null,
          null,
          null,
          84,
          null,
          null,
          null,
          null,
          null,
          null,
          null,
          90,
          null,
          null,
          null,
          null,
          null,
          null,
          null,
          null,
          null,
          null,
          null,
          null,
          null,
          null,
          null,
          null,
          null,
          null,
          null,
          null,
          null,
          null,
          null,
          null,
          null,
          null,
          null,
          null,
          null,
          null,
          null,
          null,
          null,
          null,
          null,
          null,
          76,
          null,
          null,
          null,
          null,
          null,
          null,
          86,
          null,
          null,
          null,
          null,
          null,
          null,
          null,
          null,
          null,
          72,
          null,
          null,
          null,
          null,
          null,
          null,
          null,
          null,
          null,
          null,
          null,
          null,
          null,
          null,
          null,
          null,
          86,
          76
         ],
         "xaxis": "x",
         "yaxis": "y"
        },
        {
         "alignmentgroup": "True",
         "boxpoints": "all",
         "fillcolor": "rgba(255,255,255,0)",
         "hoveron": "points",
         "hovertemplate": "<b>%{hovertext}</b><br><br>scores=%{x}<extra></extra>",
         "hovertext": [
          "Total War: THREE KINGDOMS - White Tiger Yan",
          "Total War: WARHAMMER II - The Twisted & The Twilight",
          "Total War: WARHAMMER II - Skaven Chieftain",
          "Total War: THREE KINGDOMS - Shi Xie",
          "Total War: WARHAMMER II - The Shadow & The Blade",
          "Total War: WARHAMMER II - Repanse de Lyonesse",
          "Total War: THREE KINGDOMS - Mandate of Heaven",
          "Total War: Elysium Playtest",
          "Total War: WARHAMMER III - Blood for the Blood God III",
          "A Total War Saga: TROY - Blood & Glory",
          "Total War: THREE KINGDOMS - A World Betrayed",
          "Total War: WARHAMMER II - The Warden & The Paunch",
          "Total War: WARHAMMER II - Imrik",
          "Total War: WARHAMMER - Chaos Warriors",
          "Total War: WARHAMMER - Blood for the Blood God",
          "Total War: WARHAMMER - Call of the Beastmen",
          "Total War: WARHAMMER - The Grim and the Grave",
          "Total War: WARHAMMER - The King and the Warlord",
          "Total War: WARHAMMER - Wurrzag",
          "Total War: WARHAMMER",
          "SHOGUN: Total War™ - Collection",
          "Medieval: Total War™ - Collection",
          "Total War: ATTILA - Longbeards Culture Pack",
          "Total War: ATTILA - Celts Culture Pack",
          "Total War: ATTILA - The Last Roman Campaign Pack",
          "Total War: ATTILA - Empires of Sand Culture Pack",
          "Total War: ATTILA - Age of Charlemagne Campaign Pack",
          "Total War: SHOGUN 2 – Otomo Clan Pack DLC",
          "Total War: ROME II - Greek States Culture Pack",
          "Total War Saga: FALL OF THE SAMURAI – The Saga Faction Pack",
          "Total War Saga: FALL OF THE SAMURAI – The Obama Faction Pack",
          "Total War Saga: FALL OF THE SAMURAI – The Tsu Faction Pack",
          "Total War Saga: FALL OF THE SAMURAI – The Sendai Faction Pack",
          "Total War: SHOGUN 2 - Dragon War Battle Pack",
          "Total War: SHOGUN 2: Saints and Heroes Unit Pack",
          "Total War: SHOGUN 2",
          "A Total War Saga: FALL OF THE SAMURAI",
          "Total War: Shogun 2 - Blood Pack DLC",
          "Total War Rome II Carthage Gameplay Trailer ESRB",
          "Total War Battles Shogun Trailer",
          "Total War SHOGUN 2 Saints and Heroes ESRB Trailer",
          "Napoleon Total War DLC Trailer",
          "Total War SHOGUN 2 Dragon War Battle Pack Trailer",
          "Total War Shogun 2 Fall of the Samurai Trailer ENG",
          "Total War: SHOGUN 2 Blood Pack Trailer",
          "Total War: SHOGUN 2 - Announcement (ESRB) (EN)",
          "Total War: SHOGUN 2 - Assassination (ESRB) (EN)",
          "Total War: SHOGUN 2 - Music Dev Diary (ESRB) (EN)",
          "Total War: SHOGUN 2 - Gameplay (ESRB) (EN)",
          "Total War SHOGUN 2 - CG Intro (EN)",
          "Total War SHOGUN 2 - CG Intro (RU)",
          "Total War SHOGUN 2 - CG Intro (DE)",
          "Total War SHOGUN 2 - CG Intro (FR)",
          "Total War SHOGUN 2 - CG Intro (IT)",
          "Total War SHOGUN 2 - CG Intro (ES)",
          "Total War: SHOGUN 2 - Assassination (FR)",
          "Total War: SHOGUN 2 - Assassination (ES)",
          "Total War: SHOGUN 2 - Assassination (DE)",
          "Total War: SHOGUN 2 - Announcement (IT)",
          "Total War: SHOGUN 2 - Announcement (FR)",
          "Total War: SHOGUN 2 - Announcement (ES)",
          "Total War: SHOGUN 2 - Announcement (DE)",
          "Total War: SHOGUN 2 - Story (RU)",
          "Total War: SHOGUN 2 - Story (IT)",
          "Total War: SHOGUN 2 - Story (FR)",
          "Total War: SHOGUN 2 - Story (ES)",
          "Total War: SHOGUN 2 - Story (ESRB) (EN)",
          "Total War: SHOGUN 2 - Story (DE)",
          "Total War: SHOGUN 2 - Music Dev Diary (ES)",
          "Total War: SHOGUN 2 - Music Dev Diary (IT)",
          "Total War: SHOGUN 2 - Music Dev Diary (DE)",
          "Total War: SHOGUN 2 - Music Dev Diary (FR)",
          "Total War: SHOGUN 2 - Gameplay (RU)",
          "Total War: SHOGUN 2 - Gameplay (PL)",
          "Total War: SHOGUN 2 - Gameplay (IT)",
          "Total War: SHOGUN 2 - Gameplay (FR)",
          "Total War: SHOGUN 2 - Gameplay (DE)",
          "Total War: SHOGUN 2 - Battle Report (IT)",
          "Total War: SHOGUN 2 - Battle Report (FR)",
          "Total War: SHOGUN 2 - Battle Report (ES)",
          "Total War: SHOGUN 2 - Battle Report PEGI (EN)",
          "Total War: SHOGUN 2 - Battle Report (DE)",
          "Total War: SHOGUN 2 - Gameplay (ES)",
          "Total War: SHOGUN 2 - Assassination (IT)",
          "[MARS] Total Warfare - Player upgrade",
          "[MARS] Total Warfare - Supervisor upgrade",
          "Total War: WARHAMMER III - Champions of Chaos",
          "Burning Faith - Total War",
          "Total War: WARHAMMER II - Thorek Ironbrow",
          "A Total War Saga: TROY - Rhesus & Memnon",
          "A Total War Saga: TROY - MYTHOS",
          "A Total War Saga: TROY - Ajax & Diomedes",
          "Steam Digital Tabletop Fest: Total War: WARHAMMER II with NerdrageFred",
          "Total War: ROME REMASTERED - Enhanced Graphics Pack",
          "Total War: WARHAMMER III - Ogre Kingdoms",
          "Total War: THREE KINGDOMS – The Furious Wild Original Soundtrack",
          "A Total War Saga: TROY - Original Soundtrack",
          "Total War: WARHAMMER III - Shadows of Change",
          "Total War: WARHAMMER III - Elspeth – Thrones of Decay",
          "Total War: PHARAOH - Blood & Sand",
          "Total War: THREE KINGDOMS - Original Soundtrack",
          "Total War: WARHAMMER III - Forge of the Chaos Dwarfs",
          "Total War: SHOGUN 2",
          "Total War: SHOGUN 2 - Sengoku Jidai Unit Pack",
          "Total War: SHOGUN 2 - Rise of the Samurai Campaign",
          "Total War: SHOGUN 2 - The Hattori Clan Pack",
          "Total War: SHOGUN 2 - Battle of Kawagoe",
          "Total War: SHOGUN 2 - The Ikko Ikki Clan Pack",
          "Total War: SHOGUN 2 Demo",
          "Total War: NAPOLEON – Definitive Edition",
          "Napoleon: Total War Demo",
          "Napoleon: Total War - Heroes of the Napoleonic Wars",
          "Napoleon: Total War™ - Coalition Battle Pack",
          "Napoleon: Total War™ - The Peninsular Campaign",
          "Empire: Total War™ - Elite Units of the West",
          "Empire: Total War™ - The Warpath Campaign",
          "Empire: Total War™ - Elite Units of America",
          "Empire: Total War™ - Elite Units of the East",
          "Empire: Total War™ Demo",
          "Total War: EMPIRE – Definitive Edition",
          "Empire: Total War™ - Special Forces Units & Bonus Content",
          "Napoleon: Total War - Peninsular Campaign Trailer",
          "Empire: Total War - The Warpath Campaign Trailer",
          "Empire: Total War - The Warpath Campaign Trailer (Russian)",
          "Empire: Total War - The Warpath Campaign Trailer (Italian)",
          "Empire: Total War - The Warpath Campaign Trailer (German)",
          "Empire: Total War - The Warpath Campaign Trailer (French)",
          "Napoleon: Total War™ Trailer (German)",
          "Napoleon: Total War™ Trailer (French)",
          "Napoleon: Total War™ Trailer (Polish)",
          "Napoleon: Total War™ Trailer (Spanish)",
          "Total War: WARHAMMER II - Alith Anar",
          "Total War: WARHAMMER II - Steps of Isha",
          "Total War: WARHAMMER II - The Queen & The Crone",
          "Total War: WARHAMMER II - Mortal Empires",
          "Total War: WARHAMMER II - Rise of the Tomb Kings",
          "Total War: SHOGUN 2 – Otomo Clan Pack DLC",
          "Total War Saga: FALL OF THE SAMURAI – The Saga Faction Pack",
          "Total War Saga: FALL OF THE SAMURAI – The Obama Faction Pack",
          "Total War Saga: FALL OF THE SAMURAI – The Tsu Faction Pack",
          "Total War Saga: FALL OF THE SAMURAI – The Sendai Faction Pack",
          "Total War: SHOGUN 2 - Dragon War Battle Pack",
          "Total War: SHOGUN 2: Saints and Heroes Unit Pack",
          "Total War: SHOGUN 2",
          "Total War SHOGUN 2 - CG Intro (EN)",
          "Total War SHOGUN 2 - CG Intro (RU)",
          "Total War SHOGUN 2 - CG Intro (DE)",
          "Total War SHOGUN 2 - CG Intro (FR)",
          "Total War SHOGUN 2 - CG Intro (IT)",
          "Total War SHOGUN 2 - CG Intro (ES)",
          "Total War: SHOGUN 2 - Assassination (FR)",
          "Total War: SHOGUN 2 - Assassination (ES)",
          "Total War: SHOGUN 2 - Assassination (DE)",
          "Total War: SHOGUN 2 - Announcement (IT)",
          "Total War: SHOGUN 2 - Announcement (FR)",
          "Total War: SHOGUN 2 - Announcement (ES)",
          "Total War: SHOGUN 2 - Announcement (DE)",
          "Total War: SHOGUN 2 - Story (RU)",
          "Total War: SHOGUN 2 - Story (IT)",
          "Total War: SHOGUN 2 - Story (FR)",
          "Total War: SHOGUN 2 - Story (ES)",
          "Total War: SHOGUN 2 - Story (ESRB) (EN)",
          "Total War: SHOGUN 2 - Story (DE)",
          "Total War: SHOGUN 2 - Music Dev Diary (ES)",
          "Total War: SHOGUN 2 - Music Dev Diary (IT)",
          "Total War: SHOGUN 2 - Music Dev Diary (DE)",
          "Total War: SHOGUN 2 - Music Dev Diary (FR)",
          "Total War: SHOGUN 2 - Gameplay (RU)",
          "Total War: SHOGUN 2 - Gameplay (PL)",
          "Total War: SHOGUN 2 - Gameplay (IT)",
          "Total War: SHOGUN 2 - Gameplay (FR)",
          "Total War: SHOGUN 2 - Gameplay (DE)",
          "Total War: SHOGUN 2 - Battle Report (IT)",
          "Total War: SHOGUN 2 - Battle Report (FR)",
          "Total War: SHOGUN 2 - Battle Report (ES)",
          "Total War: SHOGUN 2 - Battle Report PEGI (EN)",
          "Total War: SHOGUN 2 - Battle Report (DE)",
          "Total War: SHOGUN 2 - Gameplay (ES)",
          "Total War: SHOGUN 2 - Assassination (IT)",
          "Total War: WARHAMMER - Bretonnia",
          "Total War: WARHAMMER - Realm of The Wood Elves",
          "Total War: WARHAMMER - Norsca",
          "Total War: WARHAMMER - Isabella von Carstein",
          "Total War: WARHAMMER II - Tretch Craventail",
          "A Total War Saga: THRONES OF BRITANNIA",
          "Total War: ROME REMASTERED",
          "A Total War Saga: THRONES OF BRITANNIA - Blood, Sweat and Spears",
          "Total War: WARHAMMER",
          "SHOGUN: Total War™ - Collection",
          "Medieval: Total War™ - Collection",
          "Total War: ATTILA - Longbeards Culture Pack",
          "Total War: ATTILA - Celts Culture Pack",
          "Total War: ATTILA - The Last Roman Campaign Pack",
          "Total War: ATTILA - Empires of Sand Culture Pack",
          "Total War: ATTILA - Age of Charlemagne Campaign Pack",
          "Total War: WARHAMMER - Chaos Warriors",
          "Total War: WARHAMMER - Blood for the Blood God",
          "Total War: WARHAMMER - Call of the Beastmen",
          "Total War: WARHAMMER - The Grim and the Grave",
          "Total War: WARHAMMER - The King and the Warlord",
          "Total War: WARHAMMER - Wurrzag",
          "Total War: ATTILA - Slavic Nations Culture Pack",
          "A Total War Saga: TROY - Amazons",
          "Total War: THREE KINGDOMS - Tao Qian",
          "A Total War Saga: TROY",
          "Total War: WARHAMMER II - The Hunter & The Beast",
          "Total War: WARHAMMER II - Gor-Rok",
          "Total War Saga: FALL OF THE SAMURAI – Blood Pack",
          "Total War: THREE KINGDOMS - Yellow Turban Rebellion",
          "Total War: ROME II - Rise of the Republic Campaign Pack",
          "Total War: WARHAMMER II - Tiktaq'to",
          "Total War: WARHAMMER II - The Prophet & The Warlock",
          "Total War: THRONES OF BRITANNIA - Rise and Fall of the Anglo-Saxons",
          "Total War: THREE KINGDOMS - Reign of Blood",
          "Total War: WARHAMMER III",
          "Total War: ROME II - Emperor Edition"
         ],
         "jitter": 0,
         "legendgroup": "",
         "line": {
          "color": "rgba(255,255,255,0)"
         },
         "marker": {
          "color": "#636efa",
          "symbol": "line-ns-open"
         },
         "name": "",
         "offsetgroup": "",
         "showlegend": false,
         "type": "box",
         "x": [
          null,
          null,
          null,
          null,
          null,
          null,
          80,
          null,
          null,
          null,
          null,
          null,
          null,
          null,
          null,
          72,
          null,
          null,
          null,
          86,
          null,
          null,
          null,
          null,
          null,
          null,
          null,
          null,
          null,
          null,
          null,
          null,
          null,
          null,
          null,
          90,
          86,
          null,
          null,
          null,
          null,
          null,
          null,
          null,
          null,
          null,
          null,
          null,
          null,
          null,
          null,
          null,
          null,
          null,
          null,
          null,
          null,
          null,
          null,
          null,
          null,
          null,
          null,
          null,
          null,
          null,
          null,
          null,
          null,
          null,
          null,
          null,
          null,
          null,
          null,
          null,
          null,
          null,
          null,
          null,
          null,
          null,
          null,
          null,
          null,
          null,
          null,
          null,
          null,
          null,
          null,
          null,
          null,
          null,
          null,
          null,
          null,
          null,
          null,
          null,
          null,
          null,
          90,
          null,
          null,
          null,
          null,
          null,
          90,
          81,
          81,
          null,
          null,
          null,
          null,
          null,
          null,
          null,
          90,
          90,
          null,
          null,
          null,
          null,
          null,
          null,
          null,
          null,
          null,
          null,
          null,
          null,
          null,
          null,
          null,
          84,
          null,
          null,
          null,
          null,
          null,
          null,
          null,
          90,
          null,
          null,
          null,
          null,
          null,
          null,
          null,
          null,
          null,
          null,
          null,
          null,
          null,
          null,
          null,
          null,
          null,
          null,
          null,
          null,
          null,
          null,
          null,
          null,
          null,
          null,
          null,
          null,
          null,
          null,
          null,
          null,
          null,
          null,
          null,
          null,
          76,
          null,
          null,
          null,
          null,
          null,
          null,
          86,
          null,
          null,
          null,
          null,
          null,
          null,
          null,
          null,
          null,
          72,
          null,
          null,
          null,
          null,
          null,
          null,
          null,
          null,
          null,
          null,
          null,
          null,
          null,
          null,
          null,
          null,
          86,
          76
         ],
         "xaxis": "x2",
         "yaxis": "y2"
        }
       ],
       "layout": {
        "barmode": "relative",
        "legend": {
         "tracegroupgap": 0
        },
        "template": {
         "data": {
          "bar": [
           {
            "error_x": {
             "color": "#2a3f5f"
            },
            "error_y": {
             "color": "#2a3f5f"
            },
            "marker": {
             "line": {
              "color": "#E5ECF6",
              "width": 0.5
             },
             "pattern": {
              "fillmode": "overlay",
              "size": 10,
              "solidity": 0.2
             }
            },
            "type": "bar"
           }
          ],
          "barpolar": [
           {
            "marker": {
             "line": {
              "color": "#E5ECF6",
              "width": 0.5
             },
             "pattern": {
              "fillmode": "overlay",
              "size": 10,
              "solidity": 0.2
             }
            },
            "type": "barpolar"
           }
          ],
          "carpet": [
           {
            "aaxis": {
             "endlinecolor": "#2a3f5f",
             "gridcolor": "white",
             "linecolor": "white",
             "minorgridcolor": "white",
             "startlinecolor": "#2a3f5f"
            },
            "baxis": {
             "endlinecolor": "#2a3f5f",
             "gridcolor": "white",
             "linecolor": "white",
             "minorgridcolor": "white",
             "startlinecolor": "#2a3f5f"
            },
            "type": "carpet"
           }
          ],
          "choropleth": [
           {
            "colorbar": {
             "outlinewidth": 0,
             "ticks": ""
            },
            "type": "choropleth"
           }
          ],
          "contour": [
           {
            "colorbar": {
             "outlinewidth": 0,
             "ticks": ""
            },
            "colorscale": [
             [
              0,
              "#0d0887"
             ],
             [
              0.1111111111111111,
              "#46039f"
             ],
             [
              0.2222222222222222,
              "#7201a8"
             ],
             [
              0.3333333333333333,
              "#9c179e"
             ],
             [
              0.4444444444444444,
              "#bd3786"
             ],
             [
              0.5555555555555556,
              "#d8576b"
             ],
             [
              0.6666666666666666,
              "#ed7953"
             ],
             [
              0.7777777777777778,
              "#fb9f3a"
             ],
             [
              0.8888888888888888,
              "#fdca26"
             ],
             [
              1,
              "#f0f921"
             ]
            ],
            "type": "contour"
           }
          ],
          "contourcarpet": [
           {
            "colorbar": {
             "outlinewidth": 0,
             "ticks": ""
            },
            "type": "contourcarpet"
           }
          ],
          "heatmap": [
           {
            "colorbar": {
             "outlinewidth": 0,
             "ticks": ""
            },
            "colorscale": [
             [
              0,
              "#0d0887"
             ],
             [
              0.1111111111111111,
              "#46039f"
             ],
             [
              0.2222222222222222,
              "#7201a8"
             ],
             [
              0.3333333333333333,
              "#9c179e"
             ],
             [
              0.4444444444444444,
              "#bd3786"
             ],
             [
              0.5555555555555556,
              "#d8576b"
             ],
             [
              0.6666666666666666,
              "#ed7953"
             ],
             [
              0.7777777777777778,
              "#fb9f3a"
             ],
             [
              0.8888888888888888,
              "#fdca26"
             ],
             [
              1,
              "#f0f921"
             ]
            ],
            "type": "heatmap"
           }
          ],
          "heatmapgl": [
           {
            "colorbar": {
             "outlinewidth": 0,
             "ticks": ""
            },
            "colorscale": [
             [
              0,
              "#0d0887"
             ],
             [
              0.1111111111111111,
              "#46039f"
             ],
             [
              0.2222222222222222,
              "#7201a8"
             ],
             [
              0.3333333333333333,
              "#9c179e"
             ],
             [
              0.4444444444444444,
              "#bd3786"
             ],
             [
              0.5555555555555556,
              "#d8576b"
             ],
             [
              0.6666666666666666,
              "#ed7953"
             ],
             [
              0.7777777777777778,
              "#fb9f3a"
             ],
             [
              0.8888888888888888,
              "#fdca26"
             ],
             [
              1,
              "#f0f921"
             ]
            ],
            "type": "heatmapgl"
           }
          ],
          "histogram": [
           {
            "marker": {
             "pattern": {
              "fillmode": "overlay",
              "size": 10,
              "solidity": 0.2
             }
            },
            "type": "histogram"
           }
          ],
          "histogram2d": [
           {
            "colorbar": {
             "outlinewidth": 0,
             "ticks": ""
            },
            "colorscale": [
             [
              0,
              "#0d0887"
             ],
             [
              0.1111111111111111,
              "#46039f"
             ],
             [
              0.2222222222222222,
              "#7201a8"
             ],
             [
              0.3333333333333333,
              "#9c179e"
             ],
             [
              0.4444444444444444,
              "#bd3786"
             ],
             [
              0.5555555555555556,
              "#d8576b"
             ],
             [
              0.6666666666666666,
              "#ed7953"
             ],
             [
              0.7777777777777778,
              "#fb9f3a"
             ],
             [
              0.8888888888888888,
              "#fdca26"
             ],
             [
              1,
              "#f0f921"
             ]
            ],
            "type": "histogram2d"
           }
          ],
          "histogram2dcontour": [
           {
            "colorbar": {
             "outlinewidth": 0,
             "ticks": ""
            },
            "colorscale": [
             [
              0,
              "#0d0887"
             ],
             [
              0.1111111111111111,
              "#46039f"
             ],
             [
              0.2222222222222222,
              "#7201a8"
             ],
             [
              0.3333333333333333,
              "#9c179e"
             ],
             [
              0.4444444444444444,
              "#bd3786"
             ],
             [
              0.5555555555555556,
              "#d8576b"
             ],
             [
              0.6666666666666666,
              "#ed7953"
             ],
             [
              0.7777777777777778,
              "#fb9f3a"
             ],
             [
              0.8888888888888888,
              "#fdca26"
             ],
             [
              1,
              "#f0f921"
             ]
            ],
            "type": "histogram2dcontour"
           }
          ],
          "mesh3d": [
           {
            "colorbar": {
             "outlinewidth": 0,
             "ticks": ""
            },
            "type": "mesh3d"
           }
          ],
          "parcoords": [
           {
            "line": {
             "colorbar": {
              "outlinewidth": 0,
              "ticks": ""
             }
            },
            "type": "parcoords"
           }
          ],
          "pie": [
           {
            "automargin": true,
            "type": "pie"
           }
          ],
          "scatter": [
           {
            "fillpattern": {
             "fillmode": "overlay",
             "size": 10,
             "solidity": 0.2
            },
            "type": "scatter"
           }
          ],
          "scatter3d": [
           {
            "line": {
             "colorbar": {
              "outlinewidth": 0,
              "ticks": ""
             }
            },
            "marker": {
             "colorbar": {
              "outlinewidth": 0,
              "ticks": ""
             }
            },
            "type": "scatter3d"
           }
          ],
          "scattercarpet": [
           {
            "marker": {
             "colorbar": {
              "outlinewidth": 0,
              "ticks": ""
             }
            },
            "type": "scattercarpet"
           }
          ],
          "scattergeo": [
           {
            "marker": {
             "colorbar": {
              "outlinewidth": 0,
              "ticks": ""
             }
            },
            "type": "scattergeo"
           }
          ],
          "scattergl": [
           {
            "marker": {
             "colorbar": {
              "outlinewidth": 0,
              "ticks": ""
             }
            },
            "type": "scattergl"
           }
          ],
          "scattermapbox": [
           {
            "marker": {
             "colorbar": {
              "outlinewidth": 0,
              "ticks": ""
             }
            },
            "type": "scattermapbox"
           }
          ],
          "scatterpolar": [
           {
            "marker": {
             "colorbar": {
              "outlinewidth": 0,
              "ticks": ""
             }
            },
            "type": "scatterpolar"
           }
          ],
          "scatterpolargl": [
           {
            "marker": {
             "colorbar": {
              "outlinewidth": 0,
              "ticks": ""
             }
            },
            "type": "scatterpolargl"
           }
          ],
          "scatterternary": [
           {
            "marker": {
             "colorbar": {
              "outlinewidth": 0,
              "ticks": ""
             }
            },
            "type": "scatterternary"
           }
          ],
          "surface": [
           {
            "colorbar": {
             "outlinewidth": 0,
             "ticks": ""
            },
            "colorscale": [
             [
              0,
              "#0d0887"
             ],
             [
              0.1111111111111111,
              "#46039f"
             ],
             [
              0.2222222222222222,
              "#7201a8"
             ],
             [
              0.3333333333333333,
              "#9c179e"
             ],
             [
              0.4444444444444444,
              "#bd3786"
             ],
             [
              0.5555555555555556,
              "#d8576b"
             ],
             [
              0.6666666666666666,
              "#ed7953"
             ],
             [
              0.7777777777777778,
              "#fb9f3a"
             ],
             [
              0.8888888888888888,
              "#fdca26"
             ],
             [
              1,
              "#f0f921"
             ]
            ],
            "type": "surface"
           }
          ],
          "table": [
           {
            "cells": {
             "fill": {
              "color": "#EBF0F8"
             },
             "line": {
              "color": "white"
             }
            },
            "header": {
             "fill": {
              "color": "#C8D4E3"
             },
             "line": {
              "color": "white"
             }
            },
            "type": "table"
           }
          ]
         },
         "layout": {
          "annotationdefaults": {
           "arrowcolor": "#2a3f5f",
           "arrowhead": 0,
           "arrowwidth": 1
          },
          "autotypenumbers": "strict",
          "coloraxis": {
           "colorbar": {
            "outlinewidth": 0,
            "ticks": ""
           }
          },
          "colorscale": {
           "diverging": [
            [
             0,
             "#8e0152"
            ],
            [
             0.1,
             "#c51b7d"
            ],
            [
             0.2,
             "#de77ae"
            ],
            [
             0.3,
             "#f1b6da"
            ],
            [
             0.4,
             "#fde0ef"
            ],
            [
             0.5,
             "#f7f7f7"
            ],
            [
             0.6,
             "#e6f5d0"
            ],
            [
             0.7,
             "#b8e186"
            ],
            [
             0.8,
             "#7fbc41"
            ],
            [
             0.9,
             "#4d9221"
            ],
            [
             1,
             "#276419"
            ]
           ],
           "sequential": [
            [
             0,
             "#0d0887"
            ],
            [
             0.1111111111111111,
             "#46039f"
            ],
            [
             0.2222222222222222,
             "#7201a8"
            ],
            [
             0.3333333333333333,
             "#9c179e"
            ],
            [
             0.4444444444444444,
             "#bd3786"
            ],
            [
             0.5555555555555556,
             "#d8576b"
            ],
            [
             0.6666666666666666,
             "#ed7953"
            ],
            [
             0.7777777777777778,
             "#fb9f3a"
            ],
            [
             0.8888888888888888,
             "#fdca26"
            ],
            [
             1,
             "#f0f921"
            ]
           ],
           "sequentialminus": [
            [
             0,
             "#0d0887"
            ],
            [
             0.1111111111111111,
             "#46039f"
            ],
            [
             0.2222222222222222,
             "#7201a8"
            ],
            [
             0.3333333333333333,
             "#9c179e"
            ],
            [
             0.4444444444444444,
             "#bd3786"
            ],
            [
             0.5555555555555556,
             "#d8576b"
            ],
            [
             0.6666666666666666,
             "#ed7953"
            ],
            [
             0.7777777777777778,
             "#fb9f3a"
            ],
            [
             0.8888888888888888,
             "#fdca26"
            ],
            [
             1,
             "#f0f921"
            ]
           ]
          },
          "colorway": [
           "#636efa",
           "#EF553B",
           "#00cc96",
           "#ab63fa",
           "#FFA15A",
           "#19d3f3",
           "#FF6692",
           "#B6E880",
           "#FF97FF",
           "#FECB52"
          ],
          "font": {
           "color": "#2a3f5f"
          },
          "geo": {
           "bgcolor": "white",
           "lakecolor": "white",
           "landcolor": "#E5ECF6",
           "showlakes": true,
           "showland": true,
           "subunitcolor": "white"
          },
          "hoverlabel": {
           "align": "left"
          },
          "hovermode": "closest",
          "mapbox": {
           "style": "light"
          },
          "paper_bgcolor": "white",
          "plot_bgcolor": "#E5ECF6",
          "polar": {
           "angularaxis": {
            "gridcolor": "white",
            "linecolor": "white",
            "ticks": ""
           },
           "bgcolor": "#E5ECF6",
           "radialaxis": {
            "gridcolor": "white",
            "linecolor": "white",
            "ticks": ""
           }
          },
          "scene": {
           "xaxis": {
            "backgroundcolor": "#E5ECF6",
            "gridcolor": "white",
            "gridwidth": 2,
            "linecolor": "white",
            "showbackground": true,
            "ticks": "",
            "zerolinecolor": "white"
           },
           "yaxis": {
            "backgroundcolor": "#E5ECF6",
            "gridcolor": "white",
            "gridwidth": 2,
            "linecolor": "white",
            "showbackground": true,
            "ticks": "",
            "zerolinecolor": "white"
           },
           "zaxis": {
            "backgroundcolor": "#E5ECF6",
            "gridcolor": "white",
            "gridwidth": 2,
            "linecolor": "white",
            "showbackground": true,
            "ticks": "",
            "zerolinecolor": "white"
           }
          },
          "shapedefaults": {
           "line": {
            "color": "#2a3f5f"
           }
          },
          "ternary": {
           "aaxis": {
            "gridcolor": "white",
            "linecolor": "white",
            "ticks": ""
           },
           "baxis": {
            "gridcolor": "white",
            "linecolor": "white",
            "ticks": ""
           },
           "bgcolor": "#E5ECF6",
           "caxis": {
            "gridcolor": "white",
            "linecolor": "white",
            "ticks": ""
           }
          },
          "title": {
           "x": 0.05
          },
          "xaxis": {
           "automargin": true,
           "gridcolor": "white",
           "linecolor": "white",
           "ticks": "",
           "title": {
            "standoff": 15
           },
           "zerolinecolor": "white",
           "zerolinewidth": 2
          },
          "yaxis": {
           "automargin": true,
           "gridcolor": "white",
           "linecolor": "white",
           "ticks": "",
           "title": {
            "standoff": 15
           },
           "zerolinecolor": "white",
           "zerolinewidth": 2
          }
         }
        },
        "title": {
         "text": "Total War Scores"
        },
        "xaxis": {
         "anchor": "y",
         "domain": [
          0,
          1
         ],
         "title": {
          "text": "scores"
         }
        },
        "xaxis2": {
         "anchor": "y2",
         "domain": [
          0,
          1
         ],
         "matches": "x",
         "showgrid": true,
         "showticklabels": false
        },
        "yaxis": {
         "anchor": "x",
         "domain": [
          0,
          0.8316
         ],
         "title": {
          "text": "count"
         }
        },
        "yaxis2": {
         "anchor": "x2",
         "domain": [
          0.8416,
          1
         ],
         "matches": "y2",
         "showgrid": false,
         "showline": false,
         "showticklabels": false,
         "ticks": ""
        }
       }
      }
     },
     "metadata": {},
     "output_type": "display_data"
    }
   ],
   "source": [
    "px.histogram(total_war_data,x='scores',nbins=40,marginal='rug',hover_name='title',title='Total War Scores',)"
   ]
  },
  {
   "cell_type": "code",
   "execution_count": 169,
   "metadata": {},
   "outputs": [
    {
     "data": {
      "text/html": [
       "<div>\n",
       "<style scoped>\n",
       "    .dataframe tbody tr th:only-of-type {\n",
       "        vertical-align: middle;\n",
       "    }\n",
       "\n",
       "    .dataframe tbody tr th {\n",
       "        vertical-align: top;\n",
       "    }\n",
       "\n",
       "    .dataframe thead th {\n",
       "        text-align: right;\n",
       "    }\n",
       "</style>\n",
       "<table border=\"1\" class=\"dataframe\">\n",
       "  <thead>\n",
       "    <tr style=\"text-align: right;\">\n",
       "      <th></th>\n",
       "      <th>Unnamed: 0</th>\n",
       "      <th>title</th>\n",
       "      <th>type</th>\n",
       "      <th>release_date</th>\n",
       "      <th>scores</th>\n",
       "      <th>recomendations</th>\n",
       "    </tr>\n",
       "  </thead>\n",
       "  <tbody>\n",
       "    <tr>\n",
       "      <th>21</th>\n",
       "      <td>21</td>\n",
       "      <td>Medieval: Total War™ - Collection</td>\n",
       "      <td>game</td>\n",
       "      <td>25 Jun, 2015</td>\n",
       "      <td>NaN</td>\n",
       "      <td>1800.0</td>\n",
       "    </tr>\n",
       "    <tr>\n",
       "      <th>189</th>\n",
       "      <td>189</td>\n",
       "      <td>Medieval: Total War™ - Collection</td>\n",
       "      <td>game</td>\n",
       "      <td>25 Jun, 2015</td>\n",
       "      <td>NaN</td>\n",
       "      <td>1800.0</td>\n",
       "    </tr>\n",
       "  </tbody>\n",
       "</table>\n",
       "</div>"
      ],
      "text/plain": [
       "     Unnamed: 0                              title  type  release_date  \\\n",
       "21           21  Medieval: Total War™ - Collection  game  25 Jun, 2015   \n",
       "189         189  Medieval: Total War™ - Collection  game  25 Jun, 2015   \n",
       "\n",
       "     scores  recomendations  \n",
       "21      NaN          1800.0  \n",
       "189     NaN          1800.0  "
      ]
     },
     "execution_count": 169,
     "metadata": {},
     "output_type": "execute_result"
    }
   ],
   "source": [
    "total_war_data.loc[['medieval' in i.lower() for i in total_war_data['title'] ]]"
   ]
  },
  {
   "cell_type": "code",
   "execution_count": 171,
   "metadata": {},
   "outputs": [],
   "source": [
    "total_war_data.index=total_war_data['release_date']"
   ]
  },
  {
   "cell_type": "code",
   "execution_count": 181,
   "metadata": {},
   "outputs": [],
   "source": [
    "total_war_data.index=pd.to_datetime(total_war_data.release_date,format='mixed')"
   ]
  },
  {
   "cell_type": "code",
   "execution_count": 184,
   "metadata": {},
   "outputs": [],
   "source": [
    "total_war_data.rename({'Unnamed: 0':'old_index'},inplace=True)"
   ]
  },
  {
   "cell_type": "code",
   "execution_count": 187,
   "metadata": {},
   "outputs": [
    {
     "data": {
      "text/html": [
       "<div>\n",
       "<style scoped>\n",
       "    .dataframe tbody tr th:only-of-type {\n",
       "        vertical-align: middle;\n",
       "    }\n",
       "\n",
       "    .dataframe tbody tr th {\n",
       "        vertical-align: top;\n",
       "    }\n",
       "\n",
       "    .dataframe thead th {\n",
       "        text-align: right;\n",
       "    }\n",
       "</style>\n",
       "<table border=\"1\" class=\"dataframe\">\n",
       "  <thead>\n",
       "    <tr style=\"text-align: right;\">\n",
       "      <th></th>\n",
       "      <th>Unnamed: 0</th>\n",
       "      <th>title</th>\n",
       "      <th>type</th>\n",
       "      <th>release_date</th>\n",
       "      <th>scores</th>\n",
       "      <th>recomendations</th>\n",
       "    </tr>\n",
       "    <tr>\n",
       "      <th>release_date</th>\n",
       "      <th></th>\n",
       "      <th></th>\n",
       "      <th></th>\n",
       "      <th></th>\n",
       "      <th></th>\n",
       "      <th></th>\n",
       "    </tr>\n",
       "  </thead>\n",
       "  <tbody>\n",
       "    <tr>\n",
       "      <th>2020-03-19</th>\n",
       "      <td>0</td>\n",
       "      <td>Total War: THREE KINGDOMS - White Tiger Yan</td>\n",
       "      <td>dlc</td>\n",
       "      <td>19 Mar, 2020</td>\n",
       "      <td>NaN</td>\n",
       "      <td>NaN</td>\n",
       "    </tr>\n",
       "    <tr>\n",
       "      <th>2020-12-03</th>\n",
       "      <td>1</td>\n",
       "      <td>Total War: WARHAMMER II - The Twisted &amp; The Tw...</td>\n",
       "      <td>dlc</td>\n",
       "      <td>3 Dec, 2020</td>\n",
       "      <td>NaN</td>\n",
       "      <td>1101.0</td>\n",
       "    </tr>\n",
       "    <tr>\n",
       "      <th>2020-12-03</th>\n",
       "      <td>2</td>\n",
       "      <td>Total War: WARHAMMER II - Skaven Chieftain</td>\n",
       "      <td>dlc</td>\n",
       "      <td>3 Dec, 2020</td>\n",
       "      <td>NaN</td>\n",
       "      <td>NaN</td>\n",
       "    </tr>\n",
       "    <tr>\n",
       "      <th>2020-09-03</th>\n",
       "      <td>3</td>\n",
       "      <td>Total War: THREE KINGDOMS - Shi Xie</td>\n",
       "      <td>dlc</td>\n",
       "      <td>3 Sep, 2020</td>\n",
       "      <td>NaN</td>\n",
       "      <td>NaN</td>\n",
       "    </tr>\n",
       "    <tr>\n",
       "      <th>2019-12-12</th>\n",
       "      <td>4</td>\n",
       "      <td>Total War: WARHAMMER II - The Shadow &amp; The Blade</td>\n",
       "      <td>dlc</td>\n",
       "      <td>12 Dec, 2019</td>\n",
       "      <td>NaN</td>\n",
       "      <td>755.0</td>\n",
       "    </tr>\n",
       "    <tr>\n",
       "      <th>...</th>\n",
       "      <td>...</td>\n",
       "      <td>...</td>\n",
       "      <td>...</td>\n",
       "      <td>...</td>\n",
       "      <td>...</td>\n",
       "      <td>...</td>\n",
       "    </tr>\n",
       "    <tr>\n",
       "      <th>2019-04-17</th>\n",
       "      <td>211</td>\n",
       "      <td>Total War: WARHAMMER II - The Prophet &amp; The Wa...</td>\n",
       "      <td>dlc</td>\n",
       "      <td>17 Apr, 2019</td>\n",
       "      <td>NaN</td>\n",
       "      <td>1126.0</td>\n",
       "    </tr>\n",
       "    <tr>\n",
       "      <th>2019-02-04</th>\n",
       "      <td>212</td>\n",
       "      <td>Total War: THRONES OF BRITANNIA - Rise and Fal...</td>\n",
       "      <td>video</td>\n",
       "      <td>4 Feb, 2019</td>\n",
       "      <td>NaN</td>\n",
       "      <td>NaN</td>\n",
       "    </tr>\n",
       "    <tr>\n",
       "      <th>2019-06-27</th>\n",
       "      <td>213</td>\n",
       "      <td>Total War: THREE KINGDOMS - Reign of Blood</td>\n",
       "      <td>dlc</td>\n",
       "      <td>27 Jun, 2019</td>\n",
       "      <td>NaN</td>\n",
       "      <td>2701.0</td>\n",
       "    </tr>\n",
       "    <tr>\n",
       "      <th>2022-02-16</th>\n",
       "      <td>214</td>\n",
       "      <td>Total War: WARHAMMER III</td>\n",
       "      <td>game</td>\n",
       "      <td>16 Feb, 2022</td>\n",
       "      <td>86.0</td>\n",
       "      <td>69566.0</td>\n",
       "    </tr>\n",
       "    <tr>\n",
       "      <th>2013-09-02</th>\n",
       "      <td>215</td>\n",
       "      <td>Total War: ROME II - Emperor Edition</td>\n",
       "      <td>game</td>\n",
       "      <td>2 Sep, 2013</td>\n",
       "      <td>76.0</td>\n",
       "      <td>50600.0</td>\n",
       "    </tr>\n",
       "  </tbody>\n",
       "</table>\n",
       "<p>216 rows × 6 columns</p>\n",
       "</div>"
      ],
      "text/plain": [
       "              Unnamed: 0                                              title  \\\n",
       "release_date                                                                  \n",
       "2020-03-19             0        Total War: THREE KINGDOMS - White Tiger Yan   \n",
       "2020-12-03             1  Total War: WARHAMMER II - The Twisted & The Tw...   \n",
       "2020-12-03             2         Total War: WARHAMMER II - Skaven Chieftain   \n",
       "2020-09-03             3                Total War: THREE KINGDOMS - Shi Xie   \n",
       "2019-12-12             4   Total War: WARHAMMER II - The Shadow & The Blade   \n",
       "...                  ...                                                ...   \n",
       "2019-04-17           211  Total War: WARHAMMER II - The Prophet & The Wa...   \n",
       "2019-02-04           212  Total War: THRONES OF BRITANNIA - Rise and Fal...   \n",
       "2019-06-27           213         Total War: THREE KINGDOMS - Reign of Blood   \n",
       "2022-02-16           214                           Total War: WARHAMMER III   \n",
       "2013-09-02           215               Total War: ROME II - Emperor Edition   \n",
       "\n",
       "               type  release_date  scores  recomendations  \n",
       "release_date                                               \n",
       "2020-03-19      dlc  19 Mar, 2020     NaN             NaN  \n",
       "2020-12-03      dlc   3 Dec, 2020     NaN          1101.0  \n",
       "2020-12-03      dlc   3 Dec, 2020     NaN             NaN  \n",
       "2020-09-03      dlc   3 Sep, 2020     NaN             NaN  \n",
       "2019-12-12      dlc  12 Dec, 2019     NaN           755.0  \n",
       "...             ...           ...     ...             ...  \n",
       "2019-04-17      dlc  17 Apr, 2019     NaN          1126.0  \n",
       "2019-02-04    video   4 Feb, 2019     NaN             NaN  \n",
       "2019-06-27      dlc  27 Jun, 2019     NaN          2701.0  \n",
       "2022-02-16     game  16 Feb, 2022    86.0         69566.0  \n",
       "2013-09-02     game   2 Sep, 2013    76.0         50600.0  \n",
       "\n",
       "[216 rows x 6 columns]"
      ]
     },
     "execution_count": 187,
     "metadata": {},
     "output_type": "execute_result"
    }
   ],
   "source": [
    "total_war_data"
   ]
  },
  {
   "cell_type": "code",
   "execution_count": 196,
   "metadata": {},
   "outputs": [
    {
     "data": {
      "text/html": [
       "<div>\n",
       "<style scoped>\n",
       "    .dataframe tbody tr th:only-of-type {\n",
       "        vertical-align: middle;\n",
       "    }\n",
       "\n",
       "    .dataframe tbody tr th {\n",
       "        vertical-align: top;\n",
       "    }\n",
       "\n",
       "    .dataframe thead th {\n",
       "        text-align: right;\n",
       "    }\n",
       "</style>\n",
       "<table border=\"1\" class=\"dataframe\">\n",
       "  <thead>\n",
       "    <tr style=\"text-align: right;\">\n",
       "      <th></th>\n",
       "      <th>scores</th>\n",
       "      <th>recomendations</th>\n",
       "    </tr>\n",
       "    <tr>\n",
       "      <th>release_date</th>\n",
       "      <th></th>\n",
       "      <th></th>\n",
       "    </tr>\n",
       "  </thead>\n",
       "  <tbody>\n",
       "    <tr>\n",
       "      <th>2009-02-20</th>\n",
       "      <td>90.0</td>\n",
       "      <td>NaN</td>\n",
       "    </tr>\n",
       "    <tr>\n",
       "      <th>2009-03-02</th>\n",
       "      <td>90.0</td>\n",
       "      <td>18007.0</td>\n",
       "    </tr>\n",
       "    <tr>\n",
       "      <th>2009-03-12</th>\n",
       "      <td>NaN</td>\n",
       "      <td>NaN</td>\n",
       "    </tr>\n",
       "    <tr>\n",
       "      <th>2009-03-22</th>\n",
       "      <td>NaN</td>\n",
       "      <td>NaN</td>\n",
       "    </tr>\n",
       "    <tr>\n",
       "      <th>2009-04-01</th>\n",
       "      <td>NaN</td>\n",
       "      <td>NaN</td>\n",
       "    </tr>\n",
       "    <tr>\n",
       "      <th>...</th>\n",
       "      <td>...</td>\n",
       "      <td>...</td>\n",
       "    </tr>\n",
       "    <tr>\n",
       "      <th>2024-03-13</th>\n",
       "      <td>NaN</td>\n",
       "      <td>NaN</td>\n",
       "    </tr>\n",
       "    <tr>\n",
       "      <th>2024-03-23</th>\n",
       "      <td>NaN</td>\n",
       "      <td>NaN</td>\n",
       "    </tr>\n",
       "    <tr>\n",
       "      <th>2024-04-02</th>\n",
       "      <td>NaN</td>\n",
       "      <td>NaN</td>\n",
       "    </tr>\n",
       "    <tr>\n",
       "      <th>2024-04-12</th>\n",
       "      <td>NaN</td>\n",
       "      <td>NaN</td>\n",
       "    </tr>\n",
       "    <tr>\n",
       "      <th>2024-04-22</th>\n",
       "      <td>NaN</td>\n",
       "      <td>777.0</td>\n",
       "    </tr>\n",
       "  </tbody>\n",
       "</table>\n",
       "<p>555 rows × 2 columns</p>\n",
       "</div>"
      ],
      "text/plain": [
       "              scores  recomendations\n",
       "release_date                        \n",
       "2009-02-20      90.0             NaN\n",
       "2009-03-02      90.0         18007.0\n",
       "2009-03-12       NaN             NaN\n",
       "2009-03-22       NaN             NaN\n",
       "2009-04-01       NaN             NaN\n",
       "...              ...             ...\n",
       "2024-03-13       NaN             NaN\n",
       "2024-03-23       NaN             NaN\n",
       "2024-04-02       NaN             NaN\n",
       "2024-04-12       NaN             NaN\n",
       "2024-04-22       NaN           777.0\n",
       "\n",
       "[555 rows x 2 columns]"
      ]
     },
     "execution_count": 196,
     "metadata": {},
     "output_type": "execute_result"
    }
   ],
   "source": [
    "total_war_data[['scores','recomendations']].resample('10D').mean()"
   ]
  },
  {
   "cell_type": "code",
   "execution_count": 203,
   "metadata": {},
   "outputs": [
    {
     "data": {
      "application/vnd.plotly.v1+json": {
       "config": {
        "plotlyServerURL": "https://plot.ly"
       },
       "data": [
        {
         "mode": "lines",
         "name": "average scores",
         "type": "scatter",
         "x": [
          "2009-02-20T00:00:00",
          "2009-03-02T00:00:00",
          "2009-03-12T00:00:00",
          "2009-03-22T00:00:00",
          "2009-04-01T00:00:00",
          "2009-04-11T00:00:00",
          "2009-04-21T00:00:00",
          "2009-05-01T00:00:00",
          "2009-05-11T00:00:00",
          "2009-05-21T00:00:00",
          "2009-05-31T00:00:00",
          "2009-06-10T00:00:00",
          "2009-06-20T00:00:00",
          "2009-06-30T00:00:00",
          "2009-07-10T00:00:00",
          "2009-07-20T00:00:00",
          "2009-07-30T00:00:00",
          "2009-08-09T00:00:00",
          "2009-08-19T00:00:00",
          "2009-08-29T00:00:00",
          "2009-09-08T00:00:00",
          "2009-09-18T00:00:00",
          "2009-09-28T00:00:00",
          "2009-10-08T00:00:00",
          "2009-10-18T00:00:00",
          "2009-10-28T00:00:00",
          "2009-11-07T00:00:00",
          "2009-11-17T00:00:00",
          "2009-11-27T00:00:00",
          "2009-12-07T00:00:00",
          "2009-12-17T00:00:00",
          "2009-12-27T00:00:00",
          "2010-01-06T00:00:00",
          "2010-01-16T00:00:00",
          "2010-01-26T00:00:00",
          "2010-02-05T00:00:00",
          "2010-02-15T00:00:00",
          "2010-02-25T00:00:00",
          "2010-03-07T00:00:00",
          "2010-03-17T00:00:00",
          "2010-03-27T00:00:00",
          "2010-04-06T00:00:00",
          "2010-04-16T00:00:00",
          "2010-04-26T00:00:00",
          "2010-05-06T00:00:00",
          "2010-05-16T00:00:00",
          "2010-05-26T00:00:00",
          "2010-06-05T00:00:00",
          "2010-06-15T00:00:00",
          "2010-06-25T00:00:00",
          "2010-07-05T00:00:00",
          "2010-07-15T00:00:00",
          "2010-07-25T00:00:00",
          "2010-08-04T00:00:00",
          "2010-08-14T00:00:00",
          "2010-08-24T00:00:00",
          "2010-09-03T00:00:00",
          "2010-09-13T00:00:00",
          "2010-09-23T00:00:00",
          "2010-10-03T00:00:00",
          "2010-10-13T00:00:00",
          "2010-10-23T00:00:00",
          "2010-11-02T00:00:00",
          "2010-11-12T00:00:00",
          "2010-11-22T00:00:00",
          "2010-12-02T00:00:00",
          "2010-12-12T00:00:00",
          "2010-12-22T00:00:00",
          "2011-01-01T00:00:00",
          "2011-01-11T00:00:00",
          "2011-01-21T00:00:00",
          "2011-01-31T00:00:00",
          "2011-02-10T00:00:00",
          "2011-02-20T00:00:00",
          "2011-03-02T00:00:00",
          "2011-03-12T00:00:00",
          "2011-03-22T00:00:00",
          "2011-04-01T00:00:00",
          "2011-04-11T00:00:00",
          "2011-04-21T00:00:00",
          "2011-05-01T00:00:00",
          "2011-05-11T00:00:00",
          "2011-05-21T00:00:00",
          "2011-05-31T00:00:00",
          "2011-06-10T00:00:00",
          "2011-06-20T00:00:00",
          "2011-06-30T00:00:00",
          "2011-07-10T00:00:00",
          "2011-07-20T00:00:00",
          "2011-07-30T00:00:00",
          "2011-08-09T00:00:00",
          "2011-08-19T00:00:00",
          "2011-08-29T00:00:00",
          "2011-09-08T00:00:00",
          "2011-09-18T00:00:00",
          "2011-09-28T00:00:00",
          "2011-10-08T00:00:00",
          "2011-10-18T00:00:00",
          "2011-10-28T00:00:00",
          "2011-11-07T00:00:00",
          "2011-11-17T00:00:00",
          "2011-11-27T00:00:00",
          "2011-12-07T00:00:00",
          "2011-12-17T00:00:00",
          "2011-12-27T00:00:00",
          "2012-01-06T00:00:00",
          "2012-01-16T00:00:00",
          "2012-01-26T00:00:00",
          "2012-02-05T00:00:00",
          "2012-02-15T00:00:00",
          "2012-02-25T00:00:00",
          "2012-03-06T00:00:00",
          "2012-03-16T00:00:00",
          "2012-03-26T00:00:00",
          "2012-04-05T00:00:00",
          "2012-04-15T00:00:00",
          "2012-04-25T00:00:00",
          "2012-05-05T00:00:00",
          "2012-05-15T00:00:00",
          "2012-05-25T00:00:00",
          "2012-06-04T00:00:00",
          "2012-06-14T00:00:00",
          "2012-06-24T00:00:00",
          "2012-07-04T00:00:00",
          "2012-07-14T00:00:00",
          "2012-07-24T00:00:00",
          "2012-08-03T00:00:00",
          "2012-08-13T00:00:00",
          "2012-08-23T00:00:00",
          "2012-09-02T00:00:00",
          "2012-09-12T00:00:00",
          "2012-09-22T00:00:00",
          "2012-10-02T00:00:00",
          "2012-10-12T00:00:00",
          "2012-10-22T00:00:00",
          "2012-11-01T00:00:00",
          "2012-11-11T00:00:00",
          "2012-11-21T00:00:00",
          "2012-12-01T00:00:00",
          "2012-12-11T00:00:00",
          "2012-12-21T00:00:00",
          "2012-12-31T00:00:00",
          "2013-01-10T00:00:00",
          "2013-01-20T00:00:00",
          "2013-01-30T00:00:00",
          "2013-02-09T00:00:00",
          "2013-02-19T00:00:00",
          "2013-03-01T00:00:00",
          "2013-03-11T00:00:00",
          "2013-03-21T00:00:00",
          "2013-03-31T00:00:00",
          "2013-04-10T00:00:00",
          "2013-04-20T00:00:00",
          "2013-04-30T00:00:00",
          "2013-05-10T00:00:00",
          "2013-05-20T00:00:00",
          "2013-05-30T00:00:00",
          "2013-06-09T00:00:00",
          "2013-06-19T00:00:00",
          "2013-06-29T00:00:00",
          "2013-07-09T00:00:00",
          "2013-07-19T00:00:00",
          "2013-07-29T00:00:00",
          "2013-08-08T00:00:00",
          "2013-08-18T00:00:00",
          "2013-08-28T00:00:00",
          "2013-09-07T00:00:00",
          "2013-09-17T00:00:00",
          "2013-09-27T00:00:00",
          "2013-10-07T00:00:00",
          "2013-10-17T00:00:00",
          "2013-10-27T00:00:00",
          "2013-11-06T00:00:00",
          "2013-11-16T00:00:00",
          "2013-11-26T00:00:00",
          "2013-12-06T00:00:00",
          "2013-12-16T00:00:00",
          "2013-12-26T00:00:00",
          "2014-01-05T00:00:00",
          "2014-01-15T00:00:00",
          "2014-01-25T00:00:00",
          "2014-02-04T00:00:00",
          "2014-02-14T00:00:00",
          "2014-02-24T00:00:00",
          "2014-03-06T00:00:00",
          "2014-03-16T00:00:00",
          "2014-03-26T00:00:00",
          "2014-04-05T00:00:00",
          "2014-04-15T00:00:00",
          "2014-04-25T00:00:00",
          "2014-05-05T00:00:00",
          "2014-05-15T00:00:00",
          "2014-05-25T00:00:00",
          "2014-06-04T00:00:00",
          "2014-06-14T00:00:00",
          "2014-06-24T00:00:00",
          "2014-07-04T00:00:00",
          "2014-07-14T00:00:00",
          "2014-07-24T00:00:00",
          "2014-08-03T00:00:00",
          "2014-08-13T00:00:00",
          "2014-08-23T00:00:00",
          "2014-09-02T00:00:00",
          "2014-09-12T00:00:00",
          "2014-09-22T00:00:00",
          "2014-10-02T00:00:00",
          "2014-10-12T00:00:00",
          "2014-10-22T00:00:00",
          "2014-11-01T00:00:00",
          "2014-11-11T00:00:00",
          "2014-11-21T00:00:00",
          "2014-12-01T00:00:00",
          "2014-12-11T00:00:00",
          "2014-12-21T00:00:00",
          "2014-12-31T00:00:00",
          "2015-01-10T00:00:00",
          "2015-01-20T00:00:00",
          "2015-01-30T00:00:00",
          "2015-02-09T00:00:00",
          "2015-02-19T00:00:00",
          "2015-03-01T00:00:00",
          "2015-03-11T00:00:00",
          "2015-03-21T00:00:00",
          "2015-03-31T00:00:00",
          "2015-04-10T00:00:00",
          "2015-04-20T00:00:00",
          "2015-04-30T00:00:00",
          "2015-05-10T00:00:00",
          "2015-05-20T00:00:00",
          "2015-05-30T00:00:00",
          "2015-06-09T00:00:00",
          "2015-06-19T00:00:00",
          "2015-06-29T00:00:00",
          "2015-07-09T00:00:00",
          "2015-07-19T00:00:00",
          "2015-07-29T00:00:00",
          "2015-08-08T00:00:00",
          "2015-08-18T00:00:00",
          "2015-08-28T00:00:00",
          "2015-09-07T00:00:00",
          "2015-09-17T00:00:00",
          "2015-09-27T00:00:00",
          "2015-10-07T00:00:00",
          "2015-10-17T00:00:00",
          "2015-10-27T00:00:00",
          "2015-11-06T00:00:00",
          "2015-11-16T00:00:00",
          "2015-11-26T00:00:00",
          "2015-12-06T00:00:00",
          "2015-12-16T00:00:00",
          "2015-12-26T00:00:00",
          "2016-01-05T00:00:00",
          "2016-01-15T00:00:00",
          "2016-01-25T00:00:00",
          "2016-02-04T00:00:00",
          "2016-02-14T00:00:00",
          "2016-02-24T00:00:00",
          "2016-03-05T00:00:00",
          "2016-03-15T00:00:00",
          "2016-03-25T00:00:00",
          "2016-04-04T00:00:00",
          "2016-04-14T00:00:00",
          "2016-04-24T00:00:00",
          "2016-05-04T00:00:00",
          "2016-05-14T00:00:00",
          "2016-05-24T00:00:00",
          "2016-06-03T00:00:00",
          "2016-06-13T00:00:00",
          "2016-06-23T00:00:00",
          "2016-07-03T00:00:00",
          "2016-07-13T00:00:00",
          "2016-07-23T00:00:00",
          "2016-08-02T00:00:00",
          "2016-08-12T00:00:00",
          "2016-08-22T00:00:00",
          "2016-09-01T00:00:00",
          "2016-09-11T00:00:00",
          "2016-09-21T00:00:00",
          "2016-10-01T00:00:00",
          "2016-10-11T00:00:00",
          "2016-10-21T00:00:00",
          "2016-10-31T00:00:00",
          "2016-11-10T00:00:00",
          "2016-11-20T00:00:00",
          "2016-11-30T00:00:00",
          "2016-12-10T00:00:00",
          "2016-12-20T00:00:00",
          "2016-12-30T00:00:00",
          "2017-01-09T00:00:00",
          "2017-01-19T00:00:00",
          "2017-01-29T00:00:00",
          "2017-02-08T00:00:00",
          "2017-02-18T00:00:00",
          "2017-02-28T00:00:00",
          "2017-03-10T00:00:00",
          "2017-03-20T00:00:00",
          "2017-03-30T00:00:00",
          "2017-04-09T00:00:00",
          "2017-04-19T00:00:00",
          "2017-04-29T00:00:00",
          "2017-05-09T00:00:00",
          "2017-05-19T00:00:00",
          "2017-05-29T00:00:00",
          "2017-06-08T00:00:00",
          "2017-06-18T00:00:00",
          "2017-06-28T00:00:00",
          "2017-07-08T00:00:00",
          "2017-07-18T00:00:00",
          "2017-07-28T00:00:00",
          "2017-08-07T00:00:00",
          "2017-08-17T00:00:00",
          "2017-08-27T00:00:00",
          "2017-09-06T00:00:00",
          "2017-09-16T00:00:00",
          "2017-09-26T00:00:00",
          "2017-10-06T00:00:00",
          "2017-10-16T00:00:00",
          "2017-10-26T00:00:00",
          "2017-11-05T00:00:00",
          "2017-11-15T00:00:00",
          "2017-11-25T00:00:00",
          "2017-12-05T00:00:00",
          "2017-12-15T00:00:00",
          "2017-12-25T00:00:00",
          "2018-01-04T00:00:00",
          "2018-01-14T00:00:00",
          "2018-01-24T00:00:00",
          "2018-02-03T00:00:00",
          "2018-02-13T00:00:00",
          "2018-02-23T00:00:00",
          "2018-03-05T00:00:00",
          "2018-03-15T00:00:00",
          "2018-03-25T00:00:00",
          "2018-04-04T00:00:00",
          "2018-04-14T00:00:00",
          "2018-04-24T00:00:00",
          "2018-05-04T00:00:00",
          "2018-05-14T00:00:00",
          "2018-05-24T00:00:00",
          "2018-06-03T00:00:00",
          "2018-06-13T00:00:00",
          "2018-06-23T00:00:00",
          "2018-07-03T00:00:00",
          "2018-07-13T00:00:00",
          "2018-07-23T00:00:00",
          "2018-08-02T00:00:00",
          "2018-08-12T00:00:00",
          "2018-08-22T00:00:00",
          "2018-09-01T00:00:00",
          "2018-09-11T00:00:00",
          "2018-09-21T00:00:00",
          "2018-10-01T00:00:00",
          "2018-10-11T00:00:00",
          "2018-10-21T00:00:00",
          "2018-10-31T00:00:00",
          "2018-11-10T00:00:00",
          "2018-11-20T00:00:00",
          "2018-11-30T00:00:00",
          "2018-12-10T00:00:00",
          "2018-12-20T00:00:00",
          "2018-12-30T00:00:00",
          "2019-01-09T00:00:00",
          "2019-01-19T00:00:00",
          "2019-01-29T00:00:00",
          "2019-02-08T00:00:00",
          "2019-02-18T00:00:00",
          "2019-02-28T00:00:00",
          "2019-03-10T00:00:00",
          "2019-03-20T00:00:00",
          "2019-03-30T00:00:00",
          "2019-04-09T00:00:00",
          "2019-04-19T00:00:00",
          "2019-04-29T00:00:00",
          "2019-05-09T00:00:00",
          "2019-05-19T00:00:00",
          "2019-05-29T00:00:00",
          "2019-06-08T00:00:00",
          "2019-06-18T00:00:00",
          "2019-06-28T00:00:00",
          "2019-07-08T00:00:00",
          "2019-07-18T00:00:00",
          "2019-07-28T00:00:00",
          "2019-08-07T00:00:00",
          "2019-08-17T00:00:00",
          "2019-08-27T00:00:00",
          "2019-09-06T00:00:00",
          "2019-09-16T00:00:00",
          "2019-09-26T00:00:00",
          "2019-10-06T00:00:00",
          "2019-10-16T00:00:00",
          "2019-10-26T00:00:00",
          "2019-11-05T00:00:00",
          "2019-11-15T00:00:00",
          "2019-11-25T00:00:00",
          "2019-12-05T00:00:00",
          "2019-12-15T00:00:00",
          "2019-12-25T00:00:00",
          "2020-01-04T00:00:00",
          "2020-01-14T00:00:00",
          "2020-01-24T00:00:00",
          "2020-02-03T00:00:00",
          "2020-02-13T00:00:00",
          "2020-02-23T00:00:00",
          "2020-03-04T00:00:00",
          "2020-03-14T00:00:00",
          "2020-03-24T00:00:00",
          "2020-04-03T00:00:00",
          "2020-04-13T00:00:00",
          "2020-04-23T00:00:00",
          "2020-05-03T00:00:00",
          "2020-05-13T00:00:00",
          "2020-05-23T00:00:00",
          "2020-06-02T00:00:00",
          "2020-06-12T00:00:00",
          "2020-06-22T00:00:00",
          "2020-07-02T00:00:00",
          "2020-07-12T00:00:00",
          "2020-07-22T00:00:00",
          "2020-08-01T00:00:00",
          "2020-08-11T00:00:00",
          "2020-08-21T00:00:00",
          "2020-08-31T00:00:00",
          "2020-09-10T00:00:00",
          "2020-09-20T00:00:00",
          "2020-09-30T00:00:00",
          "2020-10-10T00:00:00",
          "2020-10-20T00:00:00",
          "2020-10-30T00:00:00",
          "2020-11-09T00:00:00",
          "2020-11-19T00:00:00",
          "2020-11-29T00:00:00",
          "2020-12-09T00:00:00",
          "2020-12-19T00:00:00",
          "2020-12-29T00:00:00",
          "2021-01-08T00:00:00",
          "2021-01-18T00:00:00",
          "2021-01-28T00:00:00",
          "2021-02-07T00:00:00",
          "2021-02-17T00:00:00",
          "2021-02-27T00:00:00",
          "2021-03-09T00:00:00",
          "2021-03-19T00:00:00",
          "2021-03-29T00:00:00",
          "2021-04-08T00:00:00",
          "2021-04-18T00:00:00",
          "2021-04-28T00:00:00",
          "2021-05-08T00:00:00",
          "2021-05-18T00:00:00",
          "2021-05-28T00:00:00",
          "2021-06-07T00:00:00",
          "2021-06-17T00:00:00",
          "2021-06-27T00:00:00",
          "2021-07-07T00:00:00",
          "2021-07-17T00:00:00",
          "2021-07-27T00:00:00",
          "2021-08-06T00:00:00",
          "2021-08-16T00:00:00",
          "2021-08-26T00:00:00",
          "2021-09-05T00:00:00",
          "2021-09-15T00:00:00",
          "2021-09-25T00:00:00",
          "2021-10-05T00:00:00",
          "2021-10-15T00:00:00",
          "2021-10-25T00:00:00",
          "2021-11-04T00:00:00",
          "2021-11-14T00:00:00",
          "2021-11-24T00:00:00",
          "2021-12-04T00:00:00",
          "2021-12-14T00:00:00",
          "2021-12-24T00:00:00",
          "2022-01-03T00:00:00",
          "2022-01-13T00:00:00",
          "2022-01-23T00:00:00",
          "2022-02-02T00:00:00",
          "2022-02-12T00:00:00",
          "2022-02-22T00:00:00",
          "2022-03-04T00:00:00",
          "2022-03-14T00:00:00",
          "2022-03-24T00:00:00",
          "2022-04-03T00:00:00",
          "2022-04-13T00:00:00",
          "2022-04-23T00:00:00",
          "2022-05-03T00:00:00",
          "2022-05-13T00:00:00",
          "2022-05-23T00:00:00",
          "2022-06-02T00:00:00",
          "2022-06-12T00:00:00",
          "2022-06-22T00:00:00",
          "2022-07-02T00:00:00",
          "2022-07-12T00:00:00",
          "2022-07-22T00:00:00",
          "2022-08-01T00:00:00",
          "2022-08-11T00:00:00",
          "2022-08-21T00:00:00",
          "2022-08-31T00:00:00",
          "2022-09-10T00:00:00",
          "2022-09-20T00:00:00",
          "2022-09-30T00:00:00",
          "2022-10-10T00:00:00",
          "2022-10-20T00:00:00",
          "2022-10-30T00:00:00",
          "2022-11-09T00:00:00",
          "2022-11-19T00:00:00",
          "2022-11-29T00:00:00",
          "2022-12-09T00:00:00",
          "2022-12-19T00:00:00",
          "2022-12-29T00:00:00",
          "2023-01-08T00:00:00",
          "2023-01-18T00:00:00",
          "2023-01-28T00:00:00",
          "2023-02-07T00:00:00",
          "2023-02-17T00:00:00",
          "2023-02-27T00:00:00",
          "2023-03-09T00:00:00",
          "2023-03-19T00:00:00",
          "2023-03-29T00:00:00",
          "2023-04-08T00:00:00",
          "2023-04-18T00:00:00",
          "2023-04-28T00:00:00",
          "2023-05-08T00:00:00",
          "2023-05-18T00:00:00",
          "2023-05-28T00:00:00",
          "2023-06-07T00:00:00",
          "2023-06-17T00:00:00",
          "2023-06-27T00:00:00",
          "2023-07-07T00:00:00",
          "2023-07-17T00:00:00",
          "2023-07-27T00:00:00",
          "2023-08-06T00:00:00",
          "2023-08-16T00:00:00",
          "2023-08-26T00:00:00",
          "2023-09-05T00:00:00",
          "2023-09-15T00:00:00",
          "2023-09-25T00:00:00",
          "2023-10-05T00:00:00",
          "2023-10-15T00:00:00",
          "2023-10-25T00:00:00",
          "2023-11-04T00:00:00",
          "2023-11-14T00:00:00",
          "2023-11-24T00:00:00",
          "2023-12-04T00:00:00",
          "2023-12-14T00:00:00",
          "2023-12-24T00:00:00",
          "2024-01-03T00:00:00",
          "2024-01-13T00:00:00",
          "2024-01-23T00:00:00",
          "2024-02-02T00:00:00",
          "2024-02-12T00:00:00",
          "2024-02-22T00:00:00",
          "2024-03-03T00:00:00",
          "2024-03-13T00:00:00",
          "2024-03-23T00:00:00",
          "2024-04-02T00:00:00",
          "2024-04-12T00:00:00",
          "2024-04-22T00:00:00"
         ],
         "xaxis": "x",
         "y": [
          90,
          90,
          -1,
          -1,
          -1,
          -1,
          -1,
          -1,
          -1,
          -1,
          -1,
          -1,
          -1,
          -1,
          -1,
          -1,
          -1,
          -1,
          -1,
          -1,
          -1,
          -1,
          -1,
          -1,
          -1,
          -1,
          -1,
          -1,
          -1,
          -1,
          -1,
          -1,
          -1,
          -1,
          -1,
          -1,
          -1,
          81,
          81,
          -1,
          -1,
          -1,
          -1,
          -1,
          -1,
          -1,
          -1,
          -1,
          -1,
          -1,
          -1,
          -1,
          -1,
          -1,
          -1,
          -1,
          -1,
          -1,
          -1,
          -1,
          -1,
          -1,
          -1,
          -1,
          -1,
          -1,
          -1,
          -1,
          -1,
          -1,
          -1,
          -1,
          -1,
          90,
          -1,
          90,
          -1,
          -1,
          -1,
          -1,
          -1,
          -1,
          -1,
          -1,
          -1,
          -1,
          -1,
          -1,
          -1,
          -1,
          -1,
          -1,
          -1,
          -1,
          -1,
          -1,
          -1,
          -1,
          -1,
          -1,
          -1,
          -1,
          -1,
          -1,
          -1,
          -1,
          -1,
          -1,
          -1,
          -1,
          -1,
          -1,
          86,
          -1,
          -1,
          -1,
          -1,
          -1,
          -1,
          -1,
          -1,
          -1,
          -1,
          -1,
          -1,
          -1,
          -1,
          -1,
          -1,
          -1,
          -1,
          -1,
          -1,
          -1,
          -1,
          -1,
          -1,
          -1,
          -1,
          -1,
          -1,
          -1,
          -1,
          -1,
          -1,
          -1,
          -1,
          -1,
          -1,
          -1,
          -1,
          -1,
          -1,
          -1,
          -1,
          -1,
          -1,
          -1,
          -1,
          -1,
          -1,
          -1,
          -1,
          -1,
          -1,
          76,
          -1,
          -1,
          -1,
          -1,
          -1,
          -1,
          -1,
          -1,
          -1,
          -1,
          -1,
          -1,
          -1,
          -1,
          -1,
          -1,
          -1,
          -1,
          -1,
          -1,
          -1,
          -1,
          -1,
          -1,
          -1,
          -1,
          -1,
          -1,
          -1,
          -1,
          -1,
          -1,
          -1,
          -1,
          -1,
          -1,
          -1,
          -1,
          -1,
          -1,
          -1,
          -1,
          -1,
          -1,
          -1,
          -1,
          -1,
          -1,
          -1,
          -1,
          -1,
          -1,
          -1,
          -1,
          -1,
          -1,
          -1,
          -1,
          -1,
          -1,
          -1,
          -1,
          -1,
          -1,
          -1,
          -1,
          -1,
          -1,
          -1,
          -1,
          -1,
          -1,
          -1,
          -1,
          -1,
          -1,
          -1,
          -1,
          -1,
          -1,
          -1,
          -1,
          -1,
          -1,
          -1,
          -1,
          -1,
          -1,
          -1,
          -1,
          -1,
          -1,
          -1,
          -1,
          -1,
          -1,
          -1,
          -1,
          -1,
          86,
          -1,
          -1,
          -1,
          -1,
          -1,
          72,
          -1,
          -1,
          -1,
          -1,
          -1,
          -1,
          -1,
          -1,
          -1,
          -1,
          -1,
          -1,
          76,
          -1,
          -1,
          -1,
          -1,
          -1,
          -1,
          -1,
          -1,
          -1,
          -1,
          -1,
          -1,
          -1,
          -1,
          -1,
          -1,
          -1,
          -1,
          -1,
          -1,
          -1,
          -1,
          -1,
          -1,
          -1,
          -1,
          -1,
          -1,
          -1,
          -1,
          -1,
          -1,
          -1,
          -1,
          -1,
          -1,
          -1,
          -1,
          -1,
          -1,
          84,
          -1,
          -1,
          -1,
          -1,
          -1,
          -1,
          -1,
          -1,
          -1,
          -1,
          -1,
          -1,
          -1,
          -1,
          -1,
          -1,
          -1,
          -1,
          -1,
          -1,
          -1,
          -1,
          -1,
          -1,
          -1,
          -1,
          -1,
          -1,
          -1,
          -1,
          -1,
          -1,
          -1,
          -1,
          -1,
          -1,
          -1,
          -1,
          -1,
          -1,
          -1,
          -1,
          -1,
          -1,
          -1,
          -1,
          -1,
          -1,
          -1,
          -1,
          -1,
          -1,
          -1,
          -1,
          -1,
          -1,
          -1,
          -1,
          -1,
          -1,
          -1,
          -1,
          -1,
          -1,
          -1,
          -1,
          -1,
          -1,
          -1,
          -1,
          -1,
          -1,
          80,
          -1,
          -1,
          -1,
          -1,
          -1,
          -1,
          -1,
          -1,
          -1,
          -1,
          -1,
          -1,
          -1,
          -1,
          -1,
          -1,
          -1,
          -1,
          -1,
          -1,
          -1,
          -1,
          -1,
          -1,
          -1,
          -1,
          -1,
          -1,
          -1,
          -1,
          -1,
          -1,
          -1,
          -1,
          -1,
          -1,
          -1,
          -1,
          -1,
          -1,
          -1,
          -1,
          -1,
          -1,
          -1,
          -1,
          -1,
          -1,
          -1,
          -1,
          -1,
          -1,
          -1,
          -1,
          -1,
          -1,
          -1,
          -1,
          -1,
          -1,
          -1,
          -1,
          -1,
          -1,
          -1,
          -1,
          -1,
          -1,
          -1,
          -1,
          -1,
          -1,
          -1,
          -1,
          -1,
          86,
          -1,
          -1,
          -1,
          -1,
          -1,
          -1,
          -1,
          -1,
          -1,
          -1,
          -1,
          -1,
          -1,
          -1,
          -1,
          -1,
          -1,
          -1,
          -1,
          -1,
          -1,
          -1,
          -1,
          -1,
          -1,
          -1,
          -1,
          -1,
          -1,
          -1,
          -1,
          -1,
          -1,
          -1,
          -1,
          -1,
          -1,
          -1,
          -1,
          -1,
          -1,
          -1,
          -1,
          -1,
          -1,
          -1,
          -1,
          -1,
          -1,
          -1,
          -1,
          -1,
          -1,
          -1,
          -1,
          -1,
          -1,
          -1,
          -1,
          -1,
          -1,
          -1,
          -1,
          -1,
          -1,
          -1,
          -1,
          -1,
          -1,
          -1,
          -1,
          -1,
          -1,
          -1,
          -1,
          -1,
          -1,
          -1,
          -1,
          -1
         ],
         "yaxis": "y"
        },
        {
         "mode": "lines",
         "name": "average Recomendation Count",
         "type": "scatter",
         "x": [
          "2009-02-20T00:00:00",
          "2009-03-02T00:00:00",
          "2009-03-12T00:00:00",
          "2009-03-22T00:00:00",
          "2009-04-01T00:00:00",
          "2009-04-11T00:00:00",
          "2009-04-21T00:00:00",
          "2009-05-01T00:00:00",
          "2009-05-11T00:00:00",
          "2009-05-21T00:00:00",
          "2009-05-31T00:00:00",
          "2009-06-10T00:00:00",
          "2009-06-20T00:00:00",
          "2009-06-30T00:00:00",
          "2009-07-10T00:00:00",
          "2009-07-20T00:00:00",
          "2009-07-30T00:00:00",
          "2009-08-09T00:00:00",
          "2009-08-19T00:00:00",
          "2009-08-29T00:00:00",
          "2009-09-08T00:00:00",
          "2009-09-18T00:00:00",
          "2009-09-28T00:00:00",
          "2009-10-08T00:00:00",
          "2009-10-18T00:00:00",
          "2009-10-28T00:00:00",
          "2009-11-07T00:00:00",
          "2009-11-17T00:00:00",
          "2009-11-27T00:00:00",
          "2009-12-07T00:00:00",
          "2009-12-17T00:00:00",
          "2009-12-27T00:00:00",
          "2010-01-06T00:00:00",
          "2010-01-16T00:00:00",
          "2010-01-26T00:00:00",
          "2010-02-05T00:00:00",
          "2010-02-15T00:00:00",
          "2010-02-25T00:00:00",
          "2010-03-07T00:00:00",
          "2010-03-17T00:00:00",
          "2010-03-27T00:00:00",
          "2010-04-06T00:00:00",
          "2010-04-16T00:00:00",
          "2010-04-26T00:00:00",
          "2010-05-06T00:00:00",
          "2010-05-16T00:00:00",
          "2010-05-26T00:00:00",
          "2010-06-05T00:00:00",
          "2010-06-15T00:00:00",
          "2010-06-25T00:00:00",
          "2010-07-05T00:00:00",
          "2010-07-15T00:00:00",
          "2010-07-25T00:00:00",
          "2010-08-04T00:00:00",
          "2010-08-14T00:00:00",
          "2010-08-24T00:00:00",
          "2010-09-03T00:00:00",
          "2010-09-13T00:00:00",
          "2010-09-23T00:00:00",
          "2010-10-03T00:00:00",
          "2010-10-13T00:00:00",
          "2010-10-23T00:00:00",
          "2010-11-02T00:00:00",
          "2010-11-12T00:00:00",
          "2010-11-22T00:00:00",
          "2010-12-02T00:00:00",
          "2010-12-12T00:00:00",
          "2010-12-22T00:00:00",
          "2011-01-01T00:00:00",
          "2011-01-11T00:00:00",
          "2011-01-21T00:00:00",
          "2011-01-31T00:00:00",
          "2011-02-10T00:00:00",
          "2011-02-20T00:00:00",
          "2011-03-02T00:00:00",
          "2011-03-12T00:00:00",
          "2011-03-22T00:00:00",
          "2011-04-01T00:00:00",
          "2011-04-11T00:00:00",
          "2011-04-21T00:00:00",
          "2011-05-01T00:00:00",
          "2011-05-11T00:00:00",
          "2011-05-21T00:00:00",
          "2011-05-31T00:00:00",
          "2011-06-10T00:00:00",
          "2011-06-20T00:00:00",
          "2011-06-30T00:00:00",
          "2011-07-10T00:00:00",
          "2011-07-20T00:00:00",
          "2011-07-30T00:00:00",
          "2011-08-09T00:00:00",
          "2011-08-19T00:00:00",
          "2011-08-29T00:00:00",
          "2011-09-08T00:00:00",
          "2011-09-18T00:00:00",
          "2011-09-28T00:00:00",
          "2011-10-08T00:00:00",
          "2011-10-18T00:00:00",
          "2011-10-28T00:00:00",
          "2011-11-07T00:00:00",
          "2011-11-17T00:00:00",
          "2011-11-27T00:00:00",
          "2011-12-07T00:00:00",
          "2011-12-17T00:00:00",
          "2011-12-27T00:00:00",
          "2012-01-06T00:00:00",
          "2012-01-16T00:00:00",
          "2012-01-26T00:00:00",
          "2012-02-05T00:00:00",
          "2012-02-15T00:00:00",
          "2012-02-25T00:00:00",
          "2012-03-06T00:00:00",
          "2012-03-16T00:00:00",
          "2012-03-26T00:00:00",
          "2012-04-05T00:00:00",
          "2012-04-15T00:00:00",
          "2012-04-25T00:00:00",
          "2012-05-05T00:00:00",
          "2012-05-15T00:00:00",
          "2012-05-25T00:00:00",
          "2012-06-04T00:00:00",
          "2012-06-14T00:00:00",
          "2012-06-24T00:00:00",
          "2012-07-04T00:00:00",
          "2012-07-14T00:00:00",
          "2012-07-24T00:00:00",
          "2012-08-03T00:00:00",
          "2012-08-13T00:00:00",
          "2012-08-23T00:00:00",
          "2012-09-02T00:00:00",
          "2012-09-12T00:00:00",
          "2012-09-22T00:00:00",
          "2012-10-02T00:00:00",
          "2012-10-12T00:00:00",
          "2012-10-22T00:00:00",
          "2012-11-01T00:00:00",
          "2012-11-11T00:00:00",
          "2012-11-21T00:00:00",
          "2012-12-01T00:00:00",
          "2012-12-11T00:00:00",
          "2012-12-21T00:00:00",
          "2012-12-31T00:00:00",
          "2013-01-10T00:00:00",
          "2013-01-20T00:00:00",
          "2013-01-30T00:00:00",
          "2013-02-09T00:00:00",
          "2013-02-19T00:00:00",
          "2013-03-01T00:00:00",
          "2013-03-11T00:00:00",
          "2013-03-21T00:00:00",
          "2013-03-31T00:00:00",
          "2013-04-10T00:00:00",
          "2013-04-20T00:00:00",
          "2013-04-30T00:00:00",
          "2013-05-10T00:00:00",
          "2013-05-20T00:00:00",
          "2013-05-30T00:00:00",
          "2013-06-09T00:00:00",
          "2013-06-19T00:00:00",
          "2013-06-29T00:00:00",
          "2013-07-09T00:00:00",
          "2013-07-19T00:00:00",
          "2013-07-29T00:00:00",
          "2013-08-08T00:00:00",
          "2013-08-18T00:00:00",
          "2013-08-28T00:00:00",
          "2013-09-07T00:00:00",
          "2013-09-17T00:00:00",
          "2013-09-27T00:00:00",
          "2013-10-07T00:00:00",
          "2013-10-17T00:00:00",
          "2013-10-27T00:00:00",
          "2013-11-06T00:00:00",
          "2013-11-16T00:00:00",
          "2013-11-26T00:00:00",
          "2013-12-06T00:00:00",
          "2013-12-16T00:00:00",
          "2013-12-26T00:00:00",
          "2014-01-05T00:00:00",
          "2014-01-15T00:00:00",
          "2014-01-25T00:00:00",
          "2014-02-04T00:00:00",
          "2014-02-14T00:00:00",
          "2014-02-24T00:00:00",
          "2014-03-06T00:00:00",
          "2014-03-16T00:00:00",
          "2014-03-26T00:00:00",
          "2014-04-05T00:00:00",
          "2014-04-15T00:00:00",
          "2014-04-25T00:00:00",
          "2014-05-05T00:00:00",
          "2014-05-15T00:00:00",
          "2014-05-25T00:00:00",
          "2014-06-04T00:00:00",
          "2014-06-14T00:00:00",
          "2014-06-24T00:00:00",
          "2014-07-04T00:00:00",
          "2014-07-14T00:00:00",
          "2014-07-24T00:00:00",
          "2014-08-03T00:00:00",
          "2014-08-13T00:00:00",
          "2014-08-23T00:00:00",
          "2014-09-02T00:00:00",
          "2014-09-12T00:00:00",
          "2014-09-22T00:00:00",
          "2014-10-02T00:00:00",
          "2014-10-12T00:00:00",
          "2014-10-22T00:00:00",
          "2014-11-01T00:00:00",
          "2014-11-11T00:00:00",
          "2014-11-21T00:00:00",
          "2014-12-01T00:00:00",
          "2014-12-11T00:00:00",
          "2014-12-21T00:00:00",
          "2014-12-31T00:00:00",
          "2015-01-10T00:00:00",
          "2015-01-20T00:00:00",
          "2015-01-30T00:00:00",
          "2015-02-09T00:00:00",
          "2015-02-19T00:00:00",
          "2015-03-01T00:00:00",
          "2015-03-11T00:00:00",
          "2015-03-21T00:00:00",
          "2015-03-31T00:00:00",
          "2015-04-10T00:00:00",
          "2015-04-20T00:00:00",
          "2015-04-30T00:00:00",
          "2015-05-10T00:00:00",
          "2015-05-20T00:00:00",
          "2015-05-30T00:00:00",
          "2015-06-09T00:00:00",
          "2015-06-19T00:00:00",
          "2015-06-29T00:00:00",
          "2015-07-09T00:00:00",
          "2015-07-19T00:00:00",
          "2015-07-29T00:00:00",
          "2015-08-08T00:00:00",
          "2015-08-18T00:00:00",
          "2015-08-28T00:00:00",
          "2015-09-07T00:00:00",
          "2015-09-17T00:00:00",
          "2015-09-27T00:00:00",
          "2015-10-07T00:00:00",
          "2015-10-17T00:00:00",
          "2015-10-27T00:00:00",
          "2015-11-06T00:00:00",
          "2015-11-16T00:00:00",
          "2015-11-26T00:00:00",
          "2015-12-06T00:00:00",
          "2015-12-16T00:00:00",
          "2015-12-26T00:00:00",
          "2016-01-05T00:00:00",
          "2016-01-15T00:00:00",
          "2016-01-25T00:00:00",
          "2016-02-04T00:00:00",
          "2016-02-14T00:00:00",
          "2016-02-24T00:00:00",
          "2016-03-05T00:00:00",
          "2016-03-15T00:00:00",
          "2016-03-25T00:00:00",
          "2016-04-04T00:00:00",
          "2016-04-14T00:00:00",
          "2016-04-24T00:00:00",
          "2016-05-04T00:00:00",
          "2016-05-14T00:00:00",
          "2016-05-24T00:00:00",
          "2016-06-03T00:00:00",
          "2016-06-13T00:00:00",
          "2016-06-23T00:00:00",
          "2016-07-03T00:00:00",
          "2016-07-13T00:00:00",
          "2016-07-23T00:00:00",
          "2016-08-02T00:00:00",
          "2016-08-12T00:00:00",
          "2016-08-22T00:00:00",
          "2016-09-01T00:00:00",
          "2016-09-11T00:00:00",
          "2016-09-21T00:00:00",
          "2016-10-01T00:00:00",
          "2016-10-11T00:00:00",
          "2016-10-21T00:00:00",
          "2016-10-31T00:00:00",
          "2016-11-10T00:00:00",
          "2016-11-20T00:00:00",
          "2016-11-30T00:00:00",
          "2016-12-10T00:00:00",
          "2016-12-20T00:00:00",
          "2016-12-30T00:00:00",
          "2017-01-09T00:00:00",
          "2017-01-19T00:00:00",
          "2017-01-29T00:00:00",
          "2017-02-08T00:00:00",
          "2017-02-18T00:00:00",
          "2017-02-28T00:00:00",
          "2017-03-10T00:00:00",
          "2017-03-20T00:00:00",
          "2017-03-30T00:00:00",
          "2017-04-09T00:00:00",
          "2017-04-19T00:00:00",
          "2017-04-29T00:00:00",
          "2017-05-09T00:00:00",
          "2017-05-19T00:00:00",
          "2017-05-29T00:00:00",
          "2017-06-08T00:00:00",
          "2017-06-18T00:00:00",
          "2017-06-28T00:00:00",
          "2017-07-08T00:00:00",
          "2017-07-18T00:00:00",
          "2017-07-28T00:00:00",
          "2017-08-07T00:00:00",
          "2017-08-17T00:00:00",
          "2017-08-27T00:00:00",
          "2017-09-06T00:00:00",
          "2017-09-16T00:00:00",
          "2017-09-26T00:00:00",
          "2017-10-06T00:00:00",
          "2017-10-16T00:00:00",
          "2017-10-26T00:00:00",
          "2017-11-05T00:00:00",
          "2017-11-15T00:00:00",
          "2017-11-25T00:00:00",
          "2017-12-05T00:00:00",
          "2017-12-15T00:00:00",
          "2017-12-25T00:00:00",
          "2018-01-04T00:00:00",
          "2018-01-14T00:00:00",
          "2018-01-24T00:00:00",
          "2018-02-03T00:00:00",
          "2018-02-13T00:00:00",
          "2018-02-23T00:00:00",
          "2018-03-05T00:00:00",
          "2018-03-15T00:00:00",
          "2018-03-25T00:00:00",
          "2018-04-04T00:00:00",
          "2018-04-14T00:00:00",
          "2018-04-24T00:00:00",
          "2018-05-04T00:00:00",
          "2018-05-14T00:00:00",
          "2018-05-24T00:00:00",
          "2018-06-03T00:00:00",
          "2018-06-13T00:00:00",
          "2018-06-23T00:00:00",
          "2018-07-03T00:00:00",
          "2018-07-13T00:00:00",
          "2018-07-23T00:00:00",
          "2018-08-02T00:00:00",
          "2018-08-12T00:00:00",
          "2018-08-22T00:00:00",
          "2018-09-01T00:00:00",
          "2018-09-11T00:00:00",
          "2018-09-21T00:00:00",
          "2018-10-01T00:00:00",
          "2018-10-11T00:00:00",
          "2018-10-21T00:00:00",
          "2018-10-31T00:00:00",
          "2018-11-10T00:00:00",
          "2018-11-20T00:00:00",
          "2018-11-30T00:00:00",
          "2018-12-10T00:00:00",
          "2018-12-20T00:00:00",
          "2018-12-30T00:00:00",
          "2019-01-09T00:00:00",
          "2019-01-19T00:00:00",
          "2019-01-29T00:00:00",
          "2019-02-08T00:00:00",
          "2019-02-18T00:00:00",
          "2019-02-28T00:00:00",
          "2019-03-10T00:00:00",
          "2019-03-20T00:00:00",
          "2019-03-30T00:00:00",
          "2019-04-09T00:00:00",
          "2019-04-19T00:00:00",
          "2019-04-29T00:00:00",
          "2019-05-09T00:00:00",
          "2019-05-19T00:00:00",
          "2019-05-29T00:00:00",
          "2019-06-08T00:00:00",
          "2019-06-18T00:00:00",
          "2019-06-28T00:00:00",
          "2019-07-08T00:00:00",
          "2019-07-18T00:00:00",
          "2019-07-28T00:00:00",
          "2019-08-07T00:00:00",
          "2019-08-17T00:00:00",
          "2019-08-27T00:00:00",
          "2019-09-06T00:00:00",
          "2019-09-16T00:00:00",
          "2019-09-26T00:00:00",
          "2019-10-06T00:00:00",
          "2019-10-16T00:00:00",
          "2019-10-26T00:00:00",
          "2019-11-05T00:00:00",
          "2019-11-15T00:00:00",
          "2019-11-25T00:00:00",
          "2019-12-05T00:00:00",
          "2019-12-15T00:00:00",
          "2019-12-25T00:00:00",
          "2020-01-04T00:00:00",
          "2020-01-14T00:00:00",
          "2020-01-24T00:00:00",
          "2020-02-03T00:00:00",
          "2020-02-13T00:00:00",
          "2020-02-23T00:00:00",
          "2020-03-04T00:00:00",
          "2020-03-14T00:00:00",
          "2020-03-24T00:00:00",
          "2020-04-03T00:00:00",
          "2020-04-13T00:00:00",
          "2020-04-23T00:00:00",
          "2020-05-03T00:00:00",
          "2020-05-13T00:00:00",
          "2020-05-23T00:00:00",
          "2020-06-02T00:00:00",
          "2020-06-12T00:00:00",
          "2020-06-22T00:00:00",
          "2020-07-02T00:00:00",
          "2020-07-12T00:00:00",
          "2020-07-22T00:00:00",
          "2020-08-01T00:00:00",
          "2020-08-11T00:00:00",
          "2020-08-21T00:00:00",
          "2020-08-31T00:00:00",
          "2020-09-10T00:00:00",
          "2020-09-20T00:00:00",
          "2020-09-30T00:00:00",
          "2020-10-10T00:00:00",
          "2020-10-20T00:00:00",
          "2020-10-30T00:00:00",
          "2020-11-09T00:00:00",
          "2020-11-19T00:00:00",
          "2020-11-29T00:00:00",
          "2020-12-09T00:00:00",
          "2020-12-19T00:00:00",
          "2020-12-29T00:00:00",
          "2021-01-08T00:00:00",
          "2021-01-18T00:00:00",
          "2021-01-28T00:00:00",
          "2021-02-07T00:00:00",
          "2021-02-17T00:00:00",
          "2021-02-27T00:00:00",
          "2021-03-09T00:00:00",
          "2021-03-19T00:00:00",
          "2021-03-29T00:00:00",
          "2021-04-08T00:00:00",
          "2021-04-18T00:00:00",
          "2021-04-28T00:00:00",
          "2021-05-08T00:00:00",
          "2021-05-18T00:00:00",
          "2021-05-28T00:00:00",
          "2021-06-07T00:00:00",
          "2021-06-17T00:00:00",
          "2021-06-27T00:00:00",
          "2021-07-07T00:00:00",
          "2021-07-17T00:00:00",
          "2021-07-27T00:00:00",
          "2021-08-06T00:00:00",
          "2021-08-16T00:00:00",
          "2021-08-26T00:00:00",
          "2021-09-05T00:00:00",
          "2021-09-15T00:00:00",
          "2021-09-25T00:00:00",
          "2021-10-05T00:00:00",
          "2021-10-15T00:00:00",
          "2021-10-25T00:00:00",
          "2021-11-04T00:00:00",
          "2021-11-14T00:00:00",
          "2021-11-24T00:00:00",
          "2021-12-04T00:00:00",
          "2021-12-14T00:00:00",
          "2021-12-24T00:00:00",
          "2022-01-03T00:00:00",
          "2022-01-13T00:00:00",
          "2022-01-23T00:00:00",
          "2022-02-02T00:00:00",
          "2022-02-12T00:00:00",
          "2022-02-22T00:00:00",
          "2022-03-04T00:00:00",
          "2022-03-14T00:00:00",
          "2022-03-24T00:00:00",
          "2022-04-03T00:00:00",
          "2022-04-13T00:00:00",
          "2022-04-23T00:00:00",
          "2022-05-03T00:00:00",
          "2022-05-13T00:00:00",
          "2022-05-23T00:00:00",
          "2022-06-02T00:00:00",
          "2022-06-12T00:00:00",
          "2022-06-22T00:00:00",
          "2022-07-02T00:00:00",
          "2022-07-12T00:00:00",
          "2022-07-22T00:00:00",
          "2022-08-01T00:00:00",
          "2022-08-11T00:00:00",
          "2022-08-21T00:00:00",
          "2022-08-31T00:00:00",
          "2022-09-10T00:00:00",
          "2022-09-20T00:00:00",
          "2022-09-30T00:00:00",
          "2022-10-10T00:00:00",
          "2022-10-20T00:00:00",
          "2022-10-30T00:00:00",
          "2022-11-09T00:00:00",
          "2022-11-19T00:00:00",
          "2022-11-29T00:00:00",
          "2022-12-09T00:00:00",
          "2022-12-19T00:00:00",
          "2022-12-29T00:00:00",
          "2023-01-08T00:00:00",
          "2023-01-18T00:00:00",
          "2023-01-28T00:00:00",
          "2023-02-07T00:00:00",
          "2023-02-17T00:00:00",
          "2023-02-27T00:00:00",
          "2023-03-09T00:00:00",
          "2023-03-19T00:00:00",
          "2023-03-29T00:00:00",
          "2023-04-08T00:00:00",
          "2023-04-18T00:00:00",
          "2023-04-28T00:00:00",
          "2023-05-08T00:00:00",
          "2023-05-18T00:00:00",
          "2023-05-28T00:00:00",
          "2023-06-07T00:00:00",
          "2023-06-17T00:00:00",
          "2023-06-27T00:00:00",
          "2023-07-07T00:00:00",
          "2023-07-17T00:00:00",
          "2023-07-27T00:00:00",
          "2023-08-06T00:00:00",
          "2023-08-16T00:00:00",
          "2023-08-26T00:00:00",
          "2023-09-05T00:00:00",
          "2023-09-15T00:00:00",
          "2023-09-25T00:00:00",
          "2023-10-05T00:00:00",
          "2023-10-15T00:00:00",
          "2023-10-25T00:00:00",
          "2023-11-04T00:00:00",
          "2023-11-14T00:00:00",
          "2023-11-24T00:00:00",
          "2023-12-04T00:00:00",
          "2023-12-14T00:00:00",
          "2023-12-24T00:00:00",
          "2024-01-03T00:00:00",
          "2024-01-13T00:00:00",
          "2024-01-23T00:00:00",
          "2024-02-02T00:00:00",
          "2024-02-12T00:00:00",
          "2024-02-22T00:00:00",
          "2024-03-03T00:00:00",
          "2024-03-13T00:00:00",
          "2024-03-23T00:00:00",
          "2024-04-02T00:00:00",
          "2024-04-12T00:00:00",
          "2024-04-22T00:00:00"
         ],
         "xaxis": "x2",
         "y": [
          -1,
          18007,
          -1,
          -1,
          -1,
          -1,
          -1,
          -1,
          -1,
          -1,
          -1,
          -1,
          -1,
          -1,
          -1,
          -1,
          -1,
          -1,
          -1,
          -1,
          -1,
          -1,
          118,
          -1,
          -1,
          -1,
          -1,
          -1,
          -1,
          -1,
          -1,
          -1,
          -1,
          -1,
          -1,
          -1,
          -1,
          14787,
          -1,
          -1,
          -1,
          -1,
          -1,
          -1,
          -1,
          -1,
          -1,
          -1,
          -1,
          -1,
          -1,
          -1,
          -1,
          -1,
          -1,
          -1,
          -1,
          -1,
          -1,
          -1,
          -1,
          -1,
          -1,
          -1,
          -1,
          -1,
          -1,
          -1,
          -1,
          -1,
          -1,
          -1,
          -1,
          -1,
          -1,
          32009.666666666668,
          -1,
          -1,
          -1,
          -1,
          -1,
          -1,
          -1,
          -1,
          -1,
          -1,
          -1,
          -1,
          -1,
          -1,
          -1,
          -1,
          -1,
          -1,
          146,
          -1,
          -1,
          -1,
          -1,
          -1,
          -1,
          275,
          -1,
          -1,
          -1,
          -1,
          -1,
          -1,
          -1,
          -1,
          -1,
          -1,
          969,
          -1,
          -1,
          -1,
          127,
          -1,
          -1,
          -1,
          -1,
          -1,
          -1,
          -1,
          -1,
          -1,
          -1,
          -1,
          -1,
          -1,
          -1,
          -1,
          -1,
          -1,
          -1,
          -1,
          -1,
          121,
          -1,
          -1,
          -1,
          -1,
          -1,
          -1,
          -1,
          -1,
          -1,
          -1,
          -1,
          -1,
          -1,
          -1,
          -1,
          -1,
          -1,
          -1,
          -1,
          -1,
          -1,
          -1,
          -1,
          -1,
          -1,
          -1,
          -1,
          25459.5,
          -1,
          -1,
          -1,
          -1,
          -1,
          -1,
          -1,
          -1,
          -1,
          -1,
          -1,
          -1,
          -1,
          -1,
          -1,
          -1,
          -1,
          -1,
          -1,
          -1,
          -1,
          -1,
          -1,
          -1,
          -1,
          -1,
          -1,
          -1,
          -1,
          -1,
          -1,
          -1,
          -1,
          -1,
          -1,
          -1,
          -1,
          -1,
          -1,
          -1,
          -1,
          -1,
          -1,
          -1,
          -1,
          -1,
          -1,
          -1,
          -1,
          -1,
          -1,
          -1,
          -1,
          -1,
          140,
          -1,
          143,
          -1,
          -1,
          -1,
          -1,
          -1,
          -1,
          -1,
          -1,
          975,
          -1,
          -1,
          -1,
          -1,
          -1,
          -1,
          -1,
          246,
          -1,
          -1,
          -1,
          -1,
          -1,
          -1,
          -1,
          -1,
          901,
          -1,
          -1,
          -1,
          -1,
          -1,
          -1,
          -1,
          251,
          -1,
          -1,
          -1,
          -1,
          -1,
          -1,
          -1,
          -1,
          16282,
          -1,
          -1,
          2041,
          -1,
          -1,
          1322,
          -1,
          -1,
          -1,
          654,
          -1,
          -1,
          -1,
          560,
          -1,
          -1,
          -1,
          -1,
          1095,
          -1,
          -1,
          -1,
          -1,
          -1,
          -1,
          -1,
          -1,
          115,
          -1,
          -1,
          -1,
          -1,
          -1,
          -1,
          -1,
          -1,
          -1,
          -1,
          -1,
          -1,
          -1,
          -1,
          -1,
          799,
          -1,
          -1,
          -1,
          -1,
          -1,
          -1,
          -1,
          -1,
          -1,
          -1,
          -1,
          -1,
          -1,
          -1,
          -1,
          1875,
          -1,
          -1,
          -1,
          -1,
          -1,
          -1,
          -1,
          -1,
          -1,
          11194,
          -1,
          -1,
          687,
          -1,
          -1,
          -1,
          -1,
          -1,
          -1,
          644,
          -1,
          244,
          -1,
          -1,
          -1,
          -1,
          -1,
          -1,
          -1,
          -1,
          -1,
          -1,
          -1,
          -1,
          -1,
          -1,
          -1,
          -1,
          -1,
          -1,
          -1,
          -1,
          -1,
          -1,
          1126,
          -1,
          -1,
          -1,
          1036,
          -1,
          -1,
          2701,
          -1,
          -1,
          -1,
          -1,
          -1,
          -1,
          -1,
          1527,
          -1,
          -1,
          -1,
          -1,
          -1,
          -1,
          -1,
          -1,
          755,
          -1,
          -1,
          -1,
          1932,
          -1,
          -1,
          -1,
          -1,
          -1,
          1511,
          -1,
          -1,
          -1,
          -1,
          -1,
          1439,
          -1,
          -1,
          -1,
          -1,
          -1,
          -1,
          -1,
          -1,
          -1,
          -1,
          -1,
          -1,
          -1,
          -1,
          -1,
          -1,
          -1,
          -1,
          -1,
          1101,
          -1,
          -1,
          -1,
          -1,
          -1,
          -1,
          -1,
          -1,
          -1,
          -1,
          -1,
          -1,
          -1,
          -1,
          9716,
          -1,
          -1,
          -1,
          -1,
          -1,
          -1,
          -1,
          -1,
          -1,
          -1,
          -1,
          1349.5,
          -1,
          -1,
          -1,
          -1,
          -1,
          -1,
          -1,
          -1,
          -1,
          -1,
          -1,
          -1,
          -1,
          -1,
          -1,
          -1,
          69566,
          712,
          -1,
          -1,
          -1,
          -1,
          -1,
          -1,
          -1,
          -1,
          -1,
          -1,
          -1,
          -1,
          -1,
          -1,
          -1,
          -1,
          -1,
          1059.5,
          -1,
          -1,
          -1,
          -1,
          -1,
          -1,
          -1,
          -1,
          -1,
          -1,
          -1,
          -1,
          -1,
          -1,
          -1,
          -1,
          -1,
          -1,
          -1,
          -1,
          -1,
          -1,
          3525,
          -1,
          -1,
          -1,
          -1,
          -1,
          -1,
          -1,
          -1,
          -1,
          -1,
          -1,
          -1,
          -1,
          3267,
          -1,
          -1,
          -1,
          -1,
          -1,
          -1,
          -1,
          -1,
          -1,
          -1,
          -1,
          -1,
          -1,
          -1,
          -1,
          -1,
          -1,
          -1,
          -1,
          -1,
          -1,
          -1,
          -1,
          777
         ],
         "yaxis": "y2"
        }
       ],
       "layout": {
        "height": 600,
        "template": {
         "data": {
          "bar": [
           {
            "error_x": {
             "color": "#2a3f5f"
            },
            "error_y": {
             "color": "#2a3f5f"
            },
            "marker": {
             "line": {
              "color": "#E5ECF6",
              "width": 0.5
             },
             "pattern": {
              "fillmode": "overlay",
              "size": 10,
              "solidity": 0.2
             }
            },
            "type": "bar"
           }
          ],
          "barpolar": [
           {
            "marker": {
             "line": {
              "color": "#E5ECF6",
              "width": 0.5
             },
             "pattern": {
              "fillmode": "overlay",
              "size": 10,
              "solidity": 0.2
             }
            },
            "type": "barpolar"
           }
          ],
          "carpet": [
           {
            "aaxis": {
             "endlinecolor": "#2a3f5f",
             "gridcolor": "white",
             "linecolor": "white",
             "minorgridcolor": "white",
             "startlinecolor": "#2a3f5f"
            },
            "baxis": {
             "endlinecolor": "#2a3f5f",
             "gridcolor": "white",
             "linecolor": "white",
             "minorgridcolor": "white",
             "startlinecolor": "#2a3f5f"
            },
            "type": "carpet"
           }
          ],
          "choropleth": [
           {
            "colorbar": {
             "outlinewidth": 0,
             "ticks": ""
            },
            "type": "choropleth"
           }
          ],
          "contour": [
           {
            "colorbar": {
             "outlinewidth": 0,
             "ticks": ""
            },
            "colorscale": [
             [
              0,
              "#0d0887"
             ],
             [
              0.1111111111111111,
              "#46039f"
             ],
             [
              0.2222222222222222,
              "#7201a8"
             ],
             [
              0.3333333333333333,
              "#9c179e"
             ],
             [
              0.4444444444444444,
              "#bd3786"
             ],
             [
              0.5555555555555556,
              "#d8576b"
             ],
             [
              0.6666666666666666,
              "#ed7953"
             ],
             [
              0.7777777777777778,
              "#fb9f3a"
             ],
             [
              0.8888888888888888,
              "#fdca26"
             ],
             [
              1,
              "#f0f921"
             ]
            ],
            "type": "contour"
           }
          ],
          "contourcarpet": [
           {
            "colorbar": {
             "outlinewidth": 0,
             "ticks": ""
            },
            "type": "contourcarpet"
           }
          ],
          "heatmap": [
           {
            "colorbar": {
             "outlinewidth": 0,
             "ticks": ""
            },
            "colorscale": [
             [
              0,
              "#0d0887"
             ],
             [
              0.1111111111111111,
              "#46039f"
             ],
             [
              0.2222222222222222,
              "#7201a8"
             ],
             [
              0.3333333333333333,
              "#9c179e"
             ],
             [
              0.4444444444444444,
              "#bd3786"
             ],
             [
              0.5555555555555556,
              "#d8576b"
             ],
             [
              0.6666666666666666,
              "#ed7953"
             ],
             [
              0.7777777777777778,
              "#fb9f3a"
             ],
             [
              0.8888888888888888,
              "#fdca26"
             ],
             [
              1,
              "#f0f921"
             ]
            ],
            "type": "heatmap"
           }
          ],
          "heatmapgl": [
           {
            "colorbar": {
             "outlinewidth": 0,
             "ticks": ""
            },
            "colorscale": [
             [
              0,
              "#0d0887"
             ],
             [
              0.1111111111111111,
              "#46039f"
             ],
             [
              0.2222222222222222,
              "#7201a8"
             ],
             [
              0.3333333333333333,
              "#9c179e"
             ],
             [
              0.4444444444444444,
              "#bd3786"
             ],
             [
              0.5555555555555556,
              "#d8576b"
             ],
             [
              0.6666666666666666,
              "#ed7953"
             ],
             [
              0.7777777777777778,
              "#fb9f3a"
             ],
             [
              0.8888888888888888,
              "#fdca26"
             ],
             [
              1,
              "#f0f921"
             ]
            ],
            "type": "heatmapgl"
           }
          ],
          "histogram": [
           {
            "marker": {
             "pattern": {
              "fillmode": "overlay",
              "size": 10,
              "solidity": 0.2
             }
            },
            "type": "histogram"
           }
          ],
          "histogram2d": [
           {
            "colorbar": {
             "outlinewidth": 0,
             "ticks": ""
            },
            "colorscale": [
             [
              0,
              "#0d0887"
             ],
             [
              0.1111111111111111,
              "#46039f"
             ],
             [
              0.2222222222222222,
              "#7201a8"
             ],
             [
              0.3333333333333333,
              "#9c179e"
             ],
             [
              0.4444444444444444,
              "#bd3786"
             ],
             [
              0.5555555555555556,
              "#d8576b"
             ],
             [
              0.6666666666666666,
              "#ed7953"
             ],
             [
              0.7777777777777778,
              "#fb9f3a"
             ],
             [
              0.8888888888888888,
              "#fdca26"
             ],
             [
              1,
              "#f0f921"
             ]
            ],
            "type": "histogram2d"
           }
          ],
          "histogram2dcontour": [
           {
            "colorbar": {
             "outlinewidth": 0,
             "ticks": ""
            },
            "colorscale": [
             [
              0,
              "#0d0887"
             ],
             [
              0.1111111111111111,
              "#46039f"
             ],
             [
              0.2222222222222222,
              "#7201a8"
             ],
             [
              0.3333333333333333,
              "#9c179e"
             ],
             [
              0.4444444444444444,
              "#bd3786"
             ],
             [
              0.5555555555555556,
              "#d8576b"
             ],
             [
              0.6666666666666666,
              "#ed7953"
             ],
             [
              0.7777777777777778,
              "#fb9f3a"
             ],
             [
              0.8888888888888888,
              "#fdca26"
             ],
             [
              1,
              "#f0f921"
             ]
            ],
            "type": "histogram2dcontour"
           }
          ],
          "mesh3d": [
           {
            "colorbar": {
             "outlinewidth": 0,
             "ticks": ""
            },
            "type": "mesh3d"
           }
          ],
          "parcoords": [
           {
            "line": {
             "colorbar": {
              "outlinewidth": 0,
              "ticks": ""
             }
            },
            "type": "parcoords"
           }
          ],
          "pie": [
           {
            "automargin": true,
            "type": "pie"
           }
          ],
          "scatter": [
           {
            "fillpattern": {
             "fillmode": "overlay",
             "size": 10,
             "solidity": 0.2
            },
            "type": "scatter"
           }
          ],
          "scatter3d": [
           {
            "line": {
             "colorbar": {
              "outlinewidth": 0,
              "ticks": ""
             }
            },
            "marker": {
             "colorbar": {
              "outlinewidth": 0,
              "ticks": ""
             }
            },
            "type": "scatter3d"
           }
          ],
          "scattercarpet": [
           {
            "marker": {
             "colorbar": {
              "outlinewidth": 0,
              "ticks": ""
             }
            },
            "type": "scattercarpet"
           }
          ],
          "scattergeo": [
           {
            "marker": {
             "colorbar": {
              "outlinewidth": 0,
              "ticks": ""
             }
            },
            "type": "scattergeo"
           }
          ],
          "scattergl": [
           {
            "marker": {
             "colorbar": {
              "outlinewidth": 0,
              "ticks": ""
             }
            },
            "type": "scattergl"
           }
          ],
          "scattermapbox": [
           {
            "marker": {
             "colorbar": {
              "outlinewidth": 0,
              "ticks": ""
             }
            },
            "type": "scattermapbox"
           }
          ],
          "scatterpolar": [
           {
            "marker": {
             "colorbar": {
              "outlinewidth": 0,
              "ticks": ""
             }
            },
            "type": "scatterpolar"
           }
          ],
          "scatterpolargl": [
           {
            "marker": {
             "colorbar": {
              "outlinewidth": 0,
              "ticks": ""
             }
            },
            "type": "scatterpolargl"
           }
          ],
          "scatterternary": [
           {
            "marker": {
             "colorbar": {
              "outlinewidth": 0,
              "ticks": ""
             }
            },
            "type": "scatterternary"
           }
          ],
          "surface": [
           {
            "colorbar": {
             "outlinewidth": 0,
             "ticks": ""
            },
            "colorscale": [
             [
              0,
              "#0d0887"
             ],
             [
              0.1111111111111111,
              "#46039f"
             ],
             [
              0.2222222222222222,
              "#7201a8"
             ],
             [
              0.3333333333333333,
              "#9c179e"
             ],
             [
              0.4444444444444444,
              "#bd3786"
             ],
             [
              0.5555555555555556,
              "#d8576b"
             ],
             [
              0.6666666666666666,
              "#ed7953"
             ],
             [
              0.7777777777777778,
              "#fb9f3a"
             ],
             [
              0.8888888888888888,
              "#fdca26"
             ],
             [
              1,
              "#f0f921"
             ]
            ],
            "type": "surface"
           }
          ],
          "table": [
           {
            "cells": {
             "fill": {
              "color": "#EBF0F8"
             },
             "line": {
              "color": "white"
             }
            },
            "header": {
             "fill": {
              "color": "#C8D4E3"
             },
             "line": {
              "color": "white"
             }
            },
            "type": "table"
           }
          ]
         },
         "layout": {
          "annotationdefaults": {
           "arrowcolor": "#2a3f5f",
           "arrowhead": 0,
           "arrowwidth": 1
          },
          "autotypenumbers": "strict",
          "coloraxis": {
           "colorbar": {
            "outlinewidth": 0,
            "ticks": ""
           }
          },
          "colorscale": {
           "diverging": [
            [
             0,
             "#8e0152"
            ],
            [
             0.1,
             "#c51b7d"
            ],
            [
             0.2,
             "#de77ae"
            ],
            [
             0.3,
             "#f1b6da"
            ],
            [
             0.4,
             "#fde0ef"
            ],
            [
             0.5,
             "#f7f7f7"
            ],
            [
             0.6,
             "#e6f5d0"
            ],
            [
             0.7,
             "#b8e186"
            ],
            [
             0.8,
             "#7fbc41"
            ],
            [
             0.9,
             "#4d9221"
            ],
            [
             1,
             "#276419"
            ]
           ],
           "sequential": [
            [
             0,
             "#0d0887"
            ],
            [
             0.1111111111111111,
             "#46039f"
            ],
            [
             0.2222222222222222,
             "#7201a8"
            ],
            [
             0.3333333333333333,
             "#9c179e"
            ],
            [
             0.4444444444444444,
             "#bd3786"
            ],
            [
             0.5555555555555556,
             "#d8576b"
            ],
            [
             0.6666666666666666,
             "#ed7953"
            ],
            [
             0.7777777777777778,
             "#fb9f3a"
            ],
            [
             0.8888888888888888,
             "#fdca26"
            ],
            [
             1,
             "#f0f921"
            ]
           ],
           "sequentialminus": [
            [
             0,
             "#0d0887"
            ],
            [
             0.1111111111111111,
             "#46039f"
            ],
            [
             0.2222222222222222,
             "#7201a8"
            ],
            [
             0.3333333333333333,
             "#9c179e"
            ],
            [
             0.4444444444444444,
             "#bd3786"
            ],
            [
             0.5555555555555556,
             "#d8576b"
            ],
            [
             0.6666666666666666,
             "#ed7953"
            ],
            [
             0.7777777777777778,
             "#fb9f3a"
            ],
            [
             0.8888888888888888,
             "#fdca26"
            ],
            [
             1,
             "#f0f921"
            ]
           ]
          },
          "colorway": [
           "#636efa",
           "#EF553B",
           "#00cc96",
           "#ab63fa",
           "#FFA15A",
           "#19d3f3",
           "#FF6692",
           "#B6E880",
           "#FF97FF",
           "#FECB52"
          ],
          "font": {
           "color": "#2a3f5f"
          },
          "geo": {
           "bgcolor": "white",
           "lakecolor": "white",
           "landcolor": "#E5ECF6",
           "showlakes": true,
           "showland": true,
           "subunitcolor": "white"
          },
          "hoverlabel": {
           "align": "left"
          },
          "hovermode": "closest",
          "mapbox": {
           "style": "light"
          },
          "paper_bgcolor": "white",
          "plot_bgcolor": "#E5ECF6",
          "polar": {
           "angularaxis": {
            "gridcolor": "white",
            "linecolor": "white",
            "ticks": ""
           },
           "bgcolor": "#E5ECF6",
           "radialaxis": {
            "gridcolor": "white",
            "linecolor": "white",
            "ticks": ""
           }
          },
          "scene": {
           "xaxis": {
            "backgroundcolor": "#E5ECF6",
            "gridcolor": "white",
            "gridwidth": 2,
            "linecolor": "white",
            "showbackground": true,
            "ticks": "",
            "zerolinecolor": "white"
           },
           "yaxis": {
            "backgroundcolor": "#E5ECF6",
            "gridcolor": "white",
            "gridwidth": 2,
            "linecolor": "white",
            "showbackground": true,
            "ticks": "",
            "zerolinecolor": "white"
           },
           "zaxis": {
            "backgroundcolor": "#E5ECF6",
            "gridcolor": "white",
            "gridwidth": 2,
            "linecolor": "white",
            "showbackground": true,
            "ticks": "",
            "zerolinecolor": "white"
           }
          },
          "shapedefaults": {
           "line": {
            "color": "#2a3f5f"
           }
          },
          "ternary": {
           "aaxis": {
            "gridcolor": "white",
            "linecolor": "white",
            "ticks": ""
           },
           "baxis": {
            "gridcolor": "white",
            "linecolor": "white",
            "ticks": ""
           },
           "bgcolor": "#E5ECF6",
           "caxis": {
            "gridcolor": "white",
            "linecolor": "white",
            "ticks": ""
           }
          },
          "title": {
           "x": 0.05
          },
          "xaxis": {
           "automargin": true,
           "gridcolor": "white",
           "linecolor": "white",
           "ticks": "",
           "title": {
            "standoff": 15
           },
           "zerolinecolor": "white",
           "zerolinewidth": 2
          },
          "yaxis": {
           "automargin": true,
           "gridcolor": "white",
           "linecolor": "white",
           "ticks": "",
           "title": {
            "standoff": 15
           },
           "zerolinecolor": "white",
           "zerolinewidth": 2
          }
         }
        },
        "title": {
         "text": "Popularity of Total War Games Over Time"
        },
        "width": 800,
        "xaxis": {
         "anchor": "y",
         "domain": [
          0,
          1
         ]
        },
        "xaxis2": {
         "anchor": "y2",
         "domain": [
          0,
          1
         ]
        },
        "yaxis": {
         "anchor": "x",
         "domain": [
          0.575,
          1
         ]
        },
        "yaxis2": {
         "anchor": "x2",
         "domain": [
          0,
          0.425
         ]
        }
       }
      }
     },
     "metadata": {},
     "output_type": "display_data"
    }
   ],
   "source": [
    "data=total_war_data[['scores','recomendations']].resample('10D').mean().fillna(-1)\n",
    "fig = make_subplots(rows=2, cols=1)\n",
    "\n",
    "fig.add_trace(go.Scatter(x=data.index,y=data['scores'], mode=\"lines\",name='average scores'), \n",
    "              row=1, col=1)\n",
    "fig.add_trace(go.Scatter(x=data.index,y=data['recomendations'], mode=\"lines\",name='average Recomendation Count'), \n",
    "              row=2, col=1)\n",
    "fig.update_layout(height=600, width=800, title_text='Popularity of Total War Games Over Time')\n",
    "fig.show()"
   ]
  },
  {
   "cell_type": "code",
   "execution_count": 207,
   "metadata": {},
   "outputs": [
    {
     "data": {
      "text/plain": [
       "1296"
      ]
     },
     "execution_count": 207,
     "metadata": {},
     "output_type": "execute_result"
    }
   ],
   "source": [
    "total_war_data.size"
   ]
  },
  {
   "cell_type": "code",
   "execution_count": 209,
   "metadata": {},
   "outputs": [
    {
     "data": {
      "text/plain": [
       "197989"
      ]
     },
     "execution_count": 209,
     "metadata": {},
     "output_type": "execute_result"
    }
   ],
   "source": [
    "non_blanks=total_war_ids=[i['appid'] for i in app_list if i !='']\n",
    "len(non_blanks)"
   ]
  },
  {
   "cell_type": "code",
   "execution_count": 212,
   "metadata": {},
   "outputs": [
    {
     "name": "stdout",
     "output_type": "stream",
     "text": [
      "Successfully fetched the data\n",
      "Successfully fetched the data\n",
      "Successfully fetched the data\n",
      "Successfully fetched the data\n",
      "Successfully fetched the data\n",
      "Successfully fetched the data\n",
      "Successfully fetched the data\n",
      "Successfully fetched the data\n",
      "Successfully fetched the data\n",
      "Successfully fetched the data\n",
      "Successfully fetched the data\n",
      "Successfully fetched the data\n",
      "Successfully fetched the data\n",
      "Successfully fetched the data\n",
      "Successfully fetched the data\n",
      "Successfully fetched the data\n",
      "Successfully fetched the data\n",
      "Successfully fetched the data\n",
      "Successfully fetched the data\n",
      "Successfully fetched the data\n",
      "Successfully fetched the data\n",
      "Successfully fetched the data\n",
      "Successfully fetched the data\n",
      "Successfully fetched the data\n"
     ]
    }
   ],
   "source": [
    "title=[]\n",
    "type=[]\n",
    "release_dates=[]\n",
    "meta_critic_scores=[]\n",
    "recomendations=[]\n",
    "\n",
    "#todo:\n",
    "   #log failures\n",
    "   #test saving\n",
    "   #test loading\n",
    "for count,game_id in enumerate(non_blanks):\n",
    "    query_string=f'http://store.steampowered.com/api/appdetails?appids={game_id}'\n",
    "    data=helpers.get_data(query_string)\n",
    "    \n",
    "    if data==None:\n",
    "        continue\n",
    "    if data[str(game_id)]['success']==False:\n",
    "        continue\n",
    "    data=data[str(game_id)]['data']\n",
    "    title.append(data['name'])\n",
    "    type.append(data['type'])\n",
    "    try:\n",
    "        recomendations.append(data['recommendations']['total'])\n",
    "    except:\n",
    "        recomendations.append(None)\n",
    "    try:\n",
    "        meta_critic_scores.append(data['metacritic']['score'])\n",
    "    except:\n",
    "        meta_critic_scores.append(None)\n",
    "    release_dates.append(data['release_date']['date'])\n",
    "    if count%50==0:\n",
    "        with open(f'results/scores_steam_{count}.pkl','wb') as f:\n",
    "            pickle.dumps([title,type,release_dates,meta_critic_scores,recomendations], f)\n",
    "            #clear the list so we don't keep dumping the same guys\n",
    "            title=type=release_dates=meta_critic_scores=recomendations=[]"
   ]
  }
 ],
 "metadata": {
  "kernelspec": {
   "display_name": "Python 3",
   "language": "python",
   "name": "python3"
  },
  "language_info": {
   "codemirror_mode": {
    "name": "ipython",
    "version": 3
   },
   "file_extension": ".py",
   "mimetype": "text/x-python",
   "name": "python",
   "nbconvert_exporter": "python",
   "pygments_lexer": "ipython3",
   "version": "3.10.8"
  }
 },
 "nbformat": 4,
 "nbformat_minor": 2
}
