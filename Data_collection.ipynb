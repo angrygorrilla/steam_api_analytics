{
 "cells": [
  {
   "cell_type": "code",
   "execution_count": 3,
   "metadata": {},
   "outputs": [],
   "source": [
    "%load_ext autoreload\n",
    "%autoreload 2"
   ]
  },
  {
   "cell_type": "code",
   "execution_count": 4,
   "metadata": {},
   "outputs": [],
   "source": [
    "import pandas as pd\n",
    "import plotly.express as px\n",
    "import helpers\n"
   ]
  },
  {
   "cell_type": "code",
   "execution_count": 5,
   "metadata": {},
   "outputs": [],
   "source": [
    "#https://developer.valvesoftware.com/wiki/Steam_Web_API#GetPlayerSummaries_.28v0001.29\n",
    "\n",
    "\n",
    "interface='ISteamUser'\n",
    "format='json'\n",
    "method='GetPlayerSummaries'\n",
    "secrets=helpers.get_secrets()\n",
    "\n",
    "api_key=secrets.get('steam_key')\n",
    "user_id=secrets.get('user_id')\n",
    "\n",
    "if api_key==None:\n",
    "    print(\"no api key, can't move forward\")\n",
    "if user_id==None:\n",
    "    print(\"no user id, can't do user based analysis\")\n",
    "\n",
    "\n",
    "url=f'http://api.steampowered.com/{interface}/{method}/v<version>/?key=<api key>&format=<format>'\n",
    "\n",
    "\n"
   ]
  },
  {
   "cell_type": "code",
   "execution_count": 6,
   "metadata": {},
   "outputs": [],
   "source": [
    "test_url=f'http://api.steampowered.com/ISteamUser/GetPlayerSummaries/v0002/?key={api_key}'"
   ]
  },
  {
   "cell_type": "code",
   "execution_count": 7,
   "metadata": {},
   "outputs": [
    {
     "name": "stdout",
     "output_type": "stream",
     "text": [
      "Successfully fetched the data\n"
     ]
    },
    {
     "data": {
      "text/plain": [
       "{'response': {'players': [{'steamid': '76561197960435530',\n",
       "    'communityvisibilitystate': 3,\n",
       "    'profilestate': 1,\n",
       "    'personaname': 'Robin',\n",
       "    'profileurl': 'https://steamcommunity.com/id/robinwalker/',\n",
       "    'avatar': 'https://avatars.steamstatic.com/81b5478529dce13bf24b55ac42c1af7058aaf7a9.jpg',\n",
       "    'avatarmedium': 'https://avatars.steamstatic.com/81b5478529dce13bf24b55ac42c1af7058aaf7a9_medium.jpg',\n",
       "    'avatarfull': 'https://avatars.steamstatic.com/81b5478529dce13bf24b55ac42c1af7058aaf7a9_full.jpg',\n",
       "    'avatarhash': '81b5478529dce13bf24b55ac42c1af7058aaf7a9',\n",
       "    'personastate': 1,\n",
       "    'realname': 'Robin Walker',\n",
       "    'primaryclanid': '103582791429521412',\n",
       "    'timecreated': 1063407589,\n",
       "    'personastateflags': 0,\n",
       "    'loccountrycode': 'US',\n",
       "    'locstatecode': 'WA',\n",
       "    'loccityid': 3961}]}}"
      ]
     },
     "execution_count": 7,
     "metadata": {},
     "output_type": "execute_result"
    }
   ],
   "source": [
    "paramters={'steamids':'76561197960435530'\n",
    "}\n",
    "\n",
    "helpers.get_data(test_url,paramters)"
   ]
  },
  {
   "cell_type": "code",
   "execution_count": 14,
   "metadata": {},
   "outputs": [
    {
     "name": "stdout",
     "output_type": "stream",
     "text": [
      "True\n"
     ]
    }
   ],
   "source": [
    "# -*- coding: utf-8 -*-\n",
    "import yaml\n",
    "import io\n",
    "\n",
    "# Define data\n",
    "data = {\n",
    "    'a list': [\n",
    "        1, \n",
    "        42, \n",
    "        3.141, \n",
    "        1337, \n",
    "        'help', \n",
    "        u'€'\n",
    "    ],\n",
    "    'a string': 'bla',\n",
    "    'another dict': {\n",
    "        'foo': 'bar',\n",
    "        'key': 'value',\n",
    "        'the answer': 42\n",
    "    }\n",
    "}\n",
    "\n",
    "# Write YAML file\n",
    "with io.open('data.yaml', 'w', encoding='utf8') as outfile:\n",
    "    yaml.dump(data, outfile, default_flow_style=False, allow_unicode=True)\n",
    "\n",
    "# Read YAML file\n",
    "with open(\"data.yaml\", 'r') as stream:\n",
    "    data_loaded = yaml.safe_load(stream)\n",
    "\n",
    "print(data == data_loaded)"
   ]
  },
  {
   "cell_type": "code",
   "execution_count": 16,
   "metadata": {},
   "outputs": [
    {
     "data": {
      "text/plain": [
       "'bla'"
      ]
     },
     "execution_count": 16,
     "metadata": {},
     "output_type": "execute_result"
    }
   ],
   "source": [
    "data_loaded['a string']"
   ]
  },
  {
   "cell_type": "markdown",
   "metadata": {},
   "source": [
    "GetGlobalAchievementPercentagesForApp (v0002)\n",
    "Returns on global achievements overview of a specific game in percentages.\n",
    "\n",
    "Example: http://api.steampowered.com/ISteamUserStats/GetGlobalAchievementPercentagesForApp/v0002/?gameid=440&format=xml"
   ]
  },
  {
   "cell_type": "code",
   "execution_count": 9,
   "metadata": {},
   "outputs": [],
   "source": [
    "#this is gotten using these steps:\n",
    "#1. go to steam library\n",
    "#2. right click on the game\n",
    "#3. Select 'create a shortcut'\n",
    "#4. Right click on shortcut\n",
    "#5. select properties\n",
    "#6. text agter run_gameid/ is the correct text: \n",
    "#steam://rungameid/646570\n",
    "\n",
    "slay_the_spire_game_id='646570'"
   ]
  },
  {
   "cell_type": "code",
   "execution_count": 13,
   "metadata": {},
   "outputs": [
    {
     "name": "stdout",
     "output_type": "stream",
     "text": [
      "Successfully fetched the data\n"
     ]
    },
    {
     "data": {
      "text/plain": [
       "{'achievementpercentages': {'achievements': [{'name': 'GUARDIAN',\n",
       "    'percent': 89},\n",
       "   {'name': 'GHOST_GUARDIAN', 'percent': 86.19999694824219},\n",
       "   {'name': 'SLIME_BOSS', 'percent': 83.5999984741211},\n",
       "   {'name': 'CHAMP', 'percent': 76.5},\n",
       "   {'name': 'AUTOMATON', 'percent': 72.19999694824219},\n",
       "   {'name': 'ASCEND_0', 'percent': 71.80000305175781},\n",
       "   {'name': 'COLLECTOR', 'percent': 70.69999694824219},\n",
       "   {'name': 'THE_PACT', 'percent': 66.80000305175781},\n",
       "   {'name': 'ADRENALINE', 'percent': 66.0999984741211},\n",
       "   {'name': 'SHRUG_IT_OFF', 'percent': 65.0999984741211},\n",
       "   {'name': 'RUBY', 'percent': 62.400001525878906},\n",
       "   {'name': 'PERFECT', 'percent': 62.20000076293945},\n",
       "   {'name': 'SHAPES', 'percent': 61.29999923706055},\n",
       "   {'name': 'PLAGUE', 'percent': 60.599998474121094},\n",
       "   {'name': 'CROW', 'percent': 60.20000076293945},\n",
       "   {'name': 'COME_AT_ME', 'percent': 59.099998474121094},\n",
       "   {'name': 'EMERALD', 'percent': 56.400001525878906},\n",
       "   {'name': 'TIME_EATER', 'percent': 55.599998474121094},\n",
       "   {'name': 'SAPPHIRE', 'percent': 49.20000076293945},\n",
       "   {'name': 'IMPERVIOUS', 'percent': 42.29999923706055},\n",
       "   {'name': 'CATALYST', 'percent': 39},\n",
       "   {'name': 'POWERFUL', 'percent': 37.29999923706055},\n",
       "   {'name': 'LUCKY_DAY', 'percent': 30.299999237060547},\n",
       "   {'name': 'NINJA', 'percent': 29},\n",
       "   {'name': 'AMETHYST', 'percent': 27.399999618530273},\n",
       "   {'name': 'JAXXED', 'percent': 27.100000381469727},\n",
       "   {'name': 'INFINITY', 'percent': 24.100000381469727},\n",
       "   {'name': 'PURITY', 'percent': 21.5},\n",
       "   {'name': 'RUBY_PLUS', 'percent': 18},\n",
       "   {'name': 'EMERALD_PLUS', 'percent': 17.799999237060547},\n",
       "   {'name': 'SAPPHIRE_PLUS', 'percent': 15.300000190734863},\n",
       "   {'name': 'ASCEND_10', 'percent': 15},\n",
       "   {'name': 'TRANSIENT', 'percent': 14.600000381469727},\n",
       "   {'name': 'BARRICADED', 'percent': 13.800000190734863},\n",
       "   {'name': 'YOU_ARE_NOTHING', 'percent': 13},\n",
       "   {'name': 'AMETHYST_PLUS', 'percent': 12.800000190734863},\n",
       "   {'name': 'THE_ENDING', 'percent': 12.600000381469727},\n",
       "   {'name': 'DONUT', 'percent': 8.5},\n",
       "   {'name': 'SPEED_CLIMBER', 'percent': 7},\n",
       "   {'name': 'ASCEND_20', 'percent': 6.800000190734863},\n",
       "   {'name': 'NEON', 'percent': 5.900000095367432},\n",
       "   {'name': 'FOCUSED', 'percent': 5.300000190734863},\n",
       "   {'name': 'MINIMALIST', 'percent': 4.5},\n",
       "   {'name': 'COMMON_SENSE', 'percent': 4.099999904632568},\n",
       "   {'name': 'ONE_RELIC', 'percent': 3.5999999046325684},\n",
       "   {'name': 'ETERNAL_ONE', 'percent': 2.4000000953674316}]}}"
      ]
     },
     "execution_count": 13,
     "metadata": {},
     "output_type": "execute_result"
    }
   ],
   "source": [
    "get_acheives=f'http://api.steampowered.com/ISteamUserStats/GetGlobalAchievementPercentagesForApp/v0002/?gameid={slay_the_spire_game_id}&format={format}'\n",
    "data=helpers.get_data(get_acheives)"
   ]
  },
  {
   "cell_type": "code",
   "execution_count": null,
   "metadata": {},
   "outputs": [],
   "source": []
  },
  {
   "cell_type": "markdown",
   "metadata": {},
   "source": [
    "GetUserStatsForGame (v0002)\n",
    "Returns a list of achievements for this user by app id\n",
    "\n",
    "Example URL: http://api.steampowered.com/ISteamUserStats/GetUserStatsForGame/v0002/?appid=440&key=XXXXXXXXXXXXXXXXXXXXXXXXXXXXXXXX&steamid=76561197972495328\n",
    "\n",
    "Arguments\n",
    "steamid\n",
    "64 bit Steam ID to return friend list for.\n",
    "appid\n",
    "The ID for the game you're requesting\n",
    "l (Optional)\n",
    "Language. If specified, it will return language data for the requested language.\n"
   ]
  }
 ],
 "metadata": {
  "kernelspec": {
   "display_name": "Python 3",
   "language": "python",
   "name": "python3"
  },
  "language_info": {
   "codemirror_mode": {
    "name": "ipython",
    "version": 3
   },
   "file_extension": ".py",
   "mimetype": "text/x-python",
   "name": "python",
   "nbconvert_exporter": "python",
   "pygments_lexer": "ipython3",
   "version": "3.10.8"
  }
 },
 "nbformat": 4,
 "nbformat_minor": 2
}
